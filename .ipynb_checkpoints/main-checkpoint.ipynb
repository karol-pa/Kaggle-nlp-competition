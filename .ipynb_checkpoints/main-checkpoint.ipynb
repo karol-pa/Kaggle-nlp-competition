{
 "cells": [
  {
   "cell_type": "markdown",
   "id": "cac7d0d6-851a-41c9-9440-16c39887dd70",
   "metadata": {},
   "source": [
    "## Kaggle NLP competition\n",
    "https://www.kaggle.com/competitions/nlp-getting-started\n"
   ]
  },
  {
   "cell_type": "markdown",
   "id": "63728142-e643-493f-806a-c6d6d4d11d9a",
   "metadata": {
    "tags": []
   },
   "source": [
    "<a id='TOC'/>\n",
    "\n",
    "### TOC (table of content)\n",
    "1. [Loading packages](#loading_packages)\n",
    "2. [Loading data](#loading_data)\n",
    "3. [Vectorizer](#vectorizer)\n",
    "4. [Model](#model)\n",
    "5. [Improvements](#improvements)\n",
    "6. [Neural network](#neural_network)"
   ]
  },
  {
   "cell_type": "markdown",
   "id": "d3864f76-0668-48e0-960e-b6d864c1ae39",
   "metadata": {},
   "source": [
    "<a id='loading_packages'/>\n",
    "\n",
    "### Loading packages\n",
    "[Back to TOC](#TOC)"
   ]
  },
  {
   "cell_type": "code",
   "execution_count": 169,
   "id": "55e03f18-ce11-40c6-bc01-b0bb230b4d6d",
   "metadata": {
    "tags": []
   },
   "outputs": [
    {
     "name": "stderr",
     "output_type": "stream",
     "text": [
      "[nltk_data] Downloading package wordnet to /home/karol/nltk_data...\n",
      "[nltk_data]   Package wordnet is already up-to-date!\n",
      "[nltk_data] Downloading package omw-1.4 to /home/karol/nltk_data...\n",
      "[nltk_data]   Package omw-1.4 is already up-to-date!\n"
     ]
    }
   ],
   "source": [
    "import numpy as np # linear algebra\n",
    "import pandas as pd # data processing, CSV file I/O (e.g. pd.read_csv)\n",
    "\n",
    "\n",
    "from sklearn.model_selection import train_test_split, GridSearchCV\n",
    "from sklearn.feature_extraction.text import CountVectorizer, TfidfVectorizer\n",
    "from sklearn.linear_model import LogisticRegression\n",
    "from sklearn.metrics import roc_auc_score, accuracy_score, confusion_matrix, ConfusionMatrixDisplay\n",
    "from sklearn.ensemble import RandomForestClassifier, StackingClassifier, AdaBoostClassifier, VotingClassifier\n",
    "from sklearn.neighbors import KNeighborsClassifier\n",
    "\n",
    "import nltk\n",
    "nltk.download('wordnet')\n",
    "nltk.download('omw-1.4')\n",
    "\n",
    "\n",
    "# Deep learning: \n",
    "from keras.models import Sequential\n",
    "from keras.layers import Dense, Embedding, GlobalAveragePooling1D, GlobalMaxPooling1D, Dropout\n",
    "from keras.callbacks import EarlyStopping, ModelCheckpoint, ReduceLROnPlateau\n",
    "import tensorflow as tf\n",
    "\n",
    "from tensorflow.keras.layers.experimental.preprocessing import TextVectorization\n",
    "\n",
    "import io\n",
    "import re\n",
    "import string\n",
    "\n",
    "\n",
    "\n",
    "from sklearn.tree import DecisionTreeClassifier, plot_tree"
   ]
  },
  {
   "cell_type": "markdown",
   "id": "8c87d160-5b4b-453b-8c29-bf5c9029ca15",
   "metadata": {},
   "source": [
    "<a id='loading_data'/>\n",
    "\n",
    "### Loading data\n",
    "[Back to TOC](#TOC)"
   ]
  },
  {
   "cell_type": "code",
   "execution_count": 16,
   "id": "f740b176-5bbf-48bc-bfa8-ab6664258fd1",
   "metadata": {
    "tags": []
   },
   "outputs": [
    {
     "name": "stdout",
     "output_type": "stream",
     "text": [
      "Training Set Shape = (7613, 5)\n",
      "Training Set Memory Usage = 0.29 MB\n"
     ]
    }
   ],
   "source": [
    "df_train = pd.read_csv(\"train.csv\")\n",
    "df_test = pd.read_csv(\"test.csv\")\n",
    "df=df_train.copy()\n",
    "print('Training Set Shape = {}'.format(df_train.shape))\n",
    "print('Training Set Memory Usage = {:.2f} MB'.format(df_train.memory_usage().sum() / 1024**2))"
   ]
  },
  {
   "cell_type": "markdown",
   "id": "f4738fe9-37c9-4584-b5ac-e483611892e3",
   "metadata": {
    "tags": []
   },
   "source": [
    "### Let's have a look at the train and test dataset.\n",
    "\n",
    "#### They contain:\n",
    "- id\n",
    "- keyword: A keyword from that tweet (although this may be blank!)\n",
    "- location: The location the tweet was sent from (may also be blank)\n",
    "- text: The text of a tweet\n",
    "- target: 1 if the tweet is a real disaster or 0 if not"
   ]
  },
  {
   "cell_type": "code",
   "execution_count": 17,
   "id": "7a347d79-6ff3-4ff3-bd76-bbc647dd20d5",
   "metadata": {
    "tags": []
   },
   "outputs": [
    {
     "data": {
      "text/html": [
       "<div>\n",
       "<style scoped>\n",
       "    .dataframe tbody tr th:only-of-type {\n",
       "        vertical-align: middle;\n",
       "    }\n",
       "\n",
       "    .dataframe tbody tr th {\n",
       "        vertical-align: top;\n",
       "    }\n",
       "\n",
       "    .dataframe thead th {\n",
       "        text-align: right;\n",
       "    }\n",
       "</style>\n",
       "<table border=\"1\" class=\"dataframe\">\n",
       "  <thead>\n",
       "    <tr style=\"text-align: right;\">\n",
       "      <th></th>\n",
       "      <th>id</th>\n",
       "      <th>keyword</th>\n",
       "      <th>location</th>\n",
       "      <th>text</th>\n",
       "      <th>target</th>\n",
       "    </tr>\n",
       "  </thead>\n",
       "  <tbody>\n",
       "    <tr>\n",
       "      <th>0</th>\n",
       "      <td>1</td>\n",
       "      <td>NaN</td>\n",
       "      <td>NaN</td>\n",
       "      <td>Our Deeds are the Reason of this #earthquake M...</td>\n",
       "      <td>1</td>\n",
       "    </tr>\n",
       "    <tr>\n",
       "      <th>1</th>\n",
       "      <td>4</td>\n",
       "      <td>NaN</td>\n",
       "      <td>NaN</td>\n",
       "      <td>Forest fire near La Ronge Sask. Canada</td>\n",
       "      <td>1</td>\n",
       "    </tr>\n",
       "    <tr>\n",
       "      <th>2</th>\n",
       "      <td>5</td>\n",
       "      <td>NaN</td>\n",
       "      <td>NaN</td>\n",
       "      <td>All residents asked to 'shelter in place' are ...</td>\n",
       "      <td>1</td>\n",
       "    </tr>\n",
       "    <tr>\n",
       "      <th>3</th>\n",
       "      <td>6</td>\n",
       "      <td>NaN</td>\n",
       "      <td>NaN</td>\n",
       "      <td>13,000 people receive #wildfires evacuation or...</td>\n",
       "      <td>1</td>\n",
       "    </tr>\n",
       "    <tr>\n",
       "      <th>4</th>\n",
       "      <td>7</td>\n",
       "      <td>NaN</td>\n",
       "      <td>NaN</td>\n",
       "      <td>Just got sent this photo from Ruby #Alaska as ...</td>\n",
       "      <td>1</td>\n",
       "    </tr>\n",
       "  </tbody>\n",
       "</table>\n",
       "</div>"
      ],
      "text/plain": [
       "   id keyword location                                               text  \\\n",
       "0   1     NaN      NaN  Our Deeds are the Reason of this #earthquake M...   \n",
       "1   4     NaN      NaN             Forest fire near La Ronge Sask. Canada   \n",
       "2   5     NaN      NaN  All residents asked to 'shelter in place' are ...   \n",
       "3   6     NaN      NaN  13,000 people receive #wildfires evacuation or...   \n",
       "4   7     NaN      NaN  Just got sent this photo from Ruby #Alaska as ...   \n",
       "\n",
       "   target  \n",
       "0       1  \n",
       "1       1  \n",
       "2       1  \n",
       "3       1  \n",
       "4       1  "
      ]
     },
     "execution_count": 17,
     "metadata": {},
     "output_type": "execute_result"
    }
   ],
   "source": [
    "df.head()"
   ]
  },
  {
   "cell_type": "code",
   "execution_count": 18,
   "id": "ccf6c4e8-a1af-4af6-a80d-320dc033df4c",
   "metadata": {
    "tags": []
   },
   "outputs": [
    {
     "name": "stdout",
     "output_type": "stream",
     "text": [
      "The data contains 3271 actual disasters (42.97% of all data).\n"
     ]
    }
   ],
   "source": [
    "print(\n",
    "    \"The data contains {} actual disasters ({:.2%} of all data).\".format(\n",
    "        df[df.target == 1].shape[0],\n",
    "        df[df.target == 1].shape[0] / df.shape[0],\n",
    "    )\n",
    ")"
   ]
  },
  {
   "cell_type": "code",
   "execution_count": 19,
   "id": "8eb36cd9-8889-4759-a687-5a1778a3d2b9",
   "metadata": {
    "tags": []
   },
   "outputs": [
    {
     "name": "stdout",
     "output_type": "stream",
     "text": [
      "Examples of actual disaster tweet: \n",
      "    Refugio oil spill may have been costlier bigger than projected http://t.co/xcoLwUGFjg\n",
      "    Investigators say a fatal Virgin Galactic spaceship crash last year was caused by structural failure after the coÛ_\n",
      "\n",
      "Examples of a tweet with no disaster behind it: \n",
      "    wreck? wreck wreck wreck wreck wreck wreck wreck wreck wreck wreck wreck wreck?\n",
      "    I liked a @YouTube video http://t.co/5fR41TPzte Thorin's Thoughts - Riot and Sandbox Mode (LoL)\n"
     ]
    }
   ],
   "source": [
    "print(\n",
    "    \"Examples of actual disaster tweet: \\n    {}\\n    {}\".format(\n",
    "        df[df.target == 1].sample(1).text.iloc[0],\n",
    "        df[df.target == 1].sample(1).text.iloc[0],\n",
    "    )\n",
    ")\n",
    "print(\n",
    "    \"\\nExamples of a tweet with no disaster behind it: \\n    {}\\n    {}\".format(\n",
    "        df[df.target == 0].sample(1).text.iloc[0],\n",
    "        df[df.target == 0].sample(1).text.iloc[0],\n",
    "    )\n",
    ")"
   ]
  },
  {
   "cell_type": "markdown",
   "id": "83ec6860-de4c-4ee3-9e6c-bb8a1e78bd31",
   "metadata": {},
   "source": [
    "<a id='vectorizer'/>\n",
    "\n",
    "### Vectorizer\n",
    "[Back to TOC](#TOC)"
   ]
  },
  {
   "cell_type": "code",
   "execution_count": 173,
   "id": "723ff8da-6fc3-489f-8dea-1e7661dbc79f",
   "metadata": {
    "tags": []
   },
   "outputs": [],
   "source": [
    "X_train, X_test, y_train, y_test = train_test_split(df_train[\"text\"], df_train[\"target\"], random_state=777,test_size=0.2, stratify=df_train[\"target\"])\n",
    "\n",
    "\n",
    "\n",
    "X_train, X_val, y_train, y_val   = train_test_split(X_train, y_train, random_state=777, test_size=0.2, stratify=y_train)\n"
   ]
  },
  {
   "cell_type": "code",
   "execution_count": 174,
   "id": "48b4034d-3211-4c9a-bc20-7bebb67ff20a",
   "metadata": {
    "tags": []
   },
   "outputs": [
    {
     "name": "stdout",
     "output_type": "stream",
     "text": [
      "Length of train set: 4872\n",
      " Length of test set: 1218\n",
      "\n"
     ]
    }
   ],
   "source": [
    "print(\n",
    "    \"Length of train set: {}\\n Length of test set: {}\\n\".format(len(X_train), len(X_val))\n",
    ")\n",
    "\n"
   ]
  },
  {
   "cell_type": "markdown",
   "id": "ae439de9-c764-4abe-a18b-33643d9a1a26",
   "metadata": {
    "tags": []
   },
   "source": [
    "### Transform the text so that each word is a separate feature and count how many times that word occurs. (Save as a sparse matrix.)"
   ]
  },
  {
   "cell_type": "code",
   "execution_count": 175,
   "id": "0a3af641-3402-443d-9cec-ee3fd9788057",
   "metadata": {
    "tags": []
   },
   "outputs": [
    {
     "data": {
      "text/html": [
       "<style>#sk-container-id-40 {color: black;background-color: white;}#sk-container-id-40 pre{padding: 0;}#sk-container-id-40 div.sk-toggleable {background-color: white;}#sk-container-id-40 label.sk-toggleable__label {cursor: pointer;display: block;width: 100%;margin-bottom: 0;padding: 0.3em;box-sizing: border-box;text-align: center;}#sk-container-id-40 label.sk-toggleable__label-arrow:before {content: \"▸\";float: left;margin-right: 0.25em;color: #696969;}#sk-container-id-40 label.sk-toggleable__label-arrow:hover:before {color: black;}#sk-container-id-40 div.sk-estimator:hover label.sk-toggleable__label-arrow:before {color: black;}#sk-container-id-40 div.sk-toggleable__content {max-height: 0;max-width: 0;overflow: hidden;text-align: left;background-color: #f0f8ff;}#sk-container-id-40 div.sk-toggleable__content pre {margin: 0.2em;color: black;border-radius: 0.25em;background-color: #f0f8ff;}#sk-container-id-40 input.sk-toggleable__control:checked~div.sk-toggleable__content {max-height: 200px;max-width: 100%;overflow: auto;}#sk-container-id-40 input.sk-toggleable__control:checked~label.sk-toggleable__label-arrow:before {content: \"▾\";}#sk-container-id-40 div.sk-estimator input.sk-toggleable__control:checked~label.sk-toggleable__label {background-color: #d4ebff;}#sk-container-id-40 div.sk-label input.sk-toggleable__control:checked~label.sk-toggleable__label {background-color: #d4ebff;}#sk-container-id-40 input.sk-hidden--visually {border: 0;clip: rect(1px 1px 1px 1px);clip: rect(1px, 1px, 1px, 1px);height: 1px;margin: -1px;overflow: hidden;padding: 0;position: absolute;width: 1px;}#sk-container-id-40 div.sk-estimator {font-family: monospace;background-color: #f0f8ff;border: 1px dotted black;border-radius: 0.25em;box-sizing: border-box;margin-bottom: 0.5em;}#sk-container-id-40 div.sk-estimator:hover {background-color: #d4ebff;}#sk-container-id-40 div.sk-parallel-item::after {content: \"\";width: 100%;border-bottom: 1px solid gray;flex-grow: 1;}#sk-container-id-40 div.sk-label:hover label.sk-toggleable__label {background-color: #d4ebff;}#sk-container-id-40 div.sk-serial::before {content: \"\";position: absolute;border-left: 1px solid gray;box-sizing: border-box;top: 0;bottom: 0;left: 50%;z-index: 0;}#sk-container-id-40 div.sk-serial {display: flex;flex-direction: column;align-items: center;background-color: white;padding-right: 0.2em;padding-left: 0.2em;position: relative;}#sk-container-id-40 div.sk-item {position: relative;z-index: 1;}#sk-container-id-40 div.sk-parallel {display: flex;align-items: stretch;justify-content: center;background-color: white;position: relative;}#sk-container-id-40 div.sk-item::before, #sk-container-id-40 div.sk-parallel-item::before {content: \"\";position: absolute;border-left: 1px solid gray;box-sizing: border-box;top: 0;bottom: 0;left: 50%;z-index: -1;}#sk-container-id-40 div.sk-parallel-item {display: flex;flex-direction: column;z-index: 1;position: relative;background-color: white;}#sk-container-id-40 div.sk-parallel-item:first-child::after {align-self: flex-end;width: 50%;}#sk-container-id-40 div.sk-parallel-item:last-child::after {align-self: flex-start;width: 50%;}#sk-container-id-40 div.sk-parallel-item:only-child::after {width: 0;}#sk-container-id-40 div.sk-dashed-wrapped {border: 1px dashed gray;margin: 0 0.4em 0.5em 0.4em;box-sizing: border-box;padding-bottom: 0.4em;background-color: white;}#sk-container-id-40 div.sk-label label {font-family: monospace;font-weight: bold;display: inline-block;line-height: 1.2em;}#sk-container-id-40 div.sk-label-container {text-align: center;}#sk-container-id-40 div.sk-container {/* jupyter's `normalize.less` sets `[hidden] { display: none; }` but bootstrap.min.css set `[hidden] { display: none !important; }` so we also need the `!important` here to be able to override the default hidden behavior on the sphinx rendered scikit-learn.org. See: https://github.com/scikit-learn/scikit-learn/issues/21755 */display: inline-block !important;position: relative;}#sk-container-id-40 div.sk-text-repr-fallback {display: none;}</style><div id=\"sk-container-id-40\" class=\"sk-top-container\"><div class=\"sk-text-repr-fallback\"><pre>CountVectorizer()</pre><b>In a Jupyter environment, please rerun this cell to show the HTML representation or trust the notebook. <br />On GitHub, the HTML representation is unable to render, please try loading this page with nbviewer.org.</b></div><div class=\"sk-container\" hidden><div class=\"sk-item\"><div class=\"sk-estimator sk-toggleable\"><input class=\"sk-toggleable__control sk-hidden--visually\" id=\"sk-estimator-id-65\" type=\"checkbox\" checked><label for=\"sk-estimator-id-65\" class=\"sk-toggleable__label sk-toggleable__label-arrow\">CountVectorizer</label><div class=\"sk-toggleable__content\"><pre>CountVectorizer()</pre></div></div></div></div></div>"
      ],
      "text/plain": [
       "CountVectorizer()"
      ]
     },
     "execution_count": 175,
     "metadata": {},
     "output_type": "execute_result"
    }
   ],
   "source": [
    "# Fit the CountVectorizer to the training data\n",
    "vect = CountVectorizer().fit(X_train)\n",
    "\n",
    "# transform the text in the training data to a text-term matrix\n",
    "X_train_vectorized = vect.transform(X_train)\n",
    "\n",
    "vect"
   ]
  },
  {
   "cell_type": "markdown",
   "id": "8f999cf3-7a72-454f-8ba3-bbcabbf91f57",
   "metadata": {
    "tags": []
   },
   "source": [
    "### Vocabulary sample:"
   ]
  },
  {
   "cell_type": "code",
   "execution_count": 176,
   "id": "a6c28941-ad3d-47fe-862f-4f5bed968025",
   "metadata": {
    "tags": []
   },
   "outputs": [
    {
     "data": {
      "text/plain": [
       "[('delivers', 4000),\n",
       " ('dell', 4001),\n",
       " ('delmont', 4002),\n",
       " ('delta', 4003),\n",
       " ('deluded', 4004),\n",
       " ('deluge', 4005),\n",
       " ('deluged', 4006),\n",
       " ('delusion', 4007),\n",
       " ('deluxe', 4008),\n",
       " ('dem', 4009)]"
      ]
     },
     "execution_count": 176,
     "metadata": {},
     "output_type": "execute_result"
    }
   ],
   "source": [
    "sorted(vect.vocabulary_.items())[4000:4010]"
   ]
  },
  {
   "cell_type": "code",
   "execution_count": 177,
   "id": "bb5aa2ab-a1fa-4d6a-a139-129662d0a520",
   "metadata": {
    "tags": []
   },
   "outputs": [
    {
     "name": "stdout",
     "output_type": "stream",
     "text": [
      "The training data contains 15759 different words (columns) across 4872 messages (rows).\n"
     ]
    }
   ],
   "source": [
    "full_vocab_len=len(vect.vocabulary_)\n",
    "\n",
    "print(\n",
    "    \"The training data contains {} different words (columns) across {} messages (rows).\".format( \n",
    "                                                            len(vect.vocabulary_.items()),\n",
    "                                                            X_train.shape[0]\n",
    "                                                           )\n",
    "     )"
   ]
  },
  {
   "cell_type": "markdown",
   "id": "aaac3a9a-1924-4ede-bf2a-ef160c05c176",
   "metadata": {},
   "source": [
    "### Show the (sparse) feature matrix:"
   ]
  },
  {
   "cell_type": "code",
   "execution_count": 178,
   "id": "ac6daa7d-66f8-4087-90f4-d477acd8c06e",
   "metadata": {
    "tags": []
   },
   "outputs": [
    {
     "data": {
      "text/plain": [
       "array([[0, 0, 0, ..., 0, 0, 0],\n",
       "       [0, 0, 0, ..., 0, 0, 0],\n",
       "       [0, 0, 0, ..., 0, 0, 0],\n",
       "       ...,\n",
       "       [0, 0, 0, ..., 0, 0, 0],\n",
       "       [0, 0, 0, ..., 0, 0, 0],\n",
       "       [0, 0, 0, ..., 0, 0, 0]])"
      ]
     },
     "execution_count": 178,
     "metadata": {},
     "output_type": "execute_result"
    }
   ],
   "source": [
    "X_train_vectorized.toarray()"
   ]
  },
  {
   "cell_type": "markdown",
   "id": "4d4d3fb0-fb3a-40ac-9d34-d6e2d308339b",
   "metadata": {
    "tags": []
   },
   "source": [
    "<a id='model'/>\n",
    "\n",
    "### Model\n",
    "[Back to TOC](#TOC)"
   ]
  },
  {
   "cell_type": "markdown",
   "id": "3cd53752-63cb-4c88-a81b-0deba9510448",
   "metadata": {
    "tags": []
   },
   "source": [
    "### Let's train a logistic regression model with the train data"
   ]
  },
  {
   "cell_type": "code",
   "execution_count": 179,
   "id": "4b006e1d-83a0-46d4-9870-73af64732bad",
   "metadata": {
    "tags": []
   },
   "outputs": [
    {
     "name": "stdout",
     "output_type": "stream",
     "text": [
      "Accuracy = 0.79317\n",
      "AUC = 0.837\n"
     ]
    }
   ],
   "source": [
    "log_reg_model = LogisticRegression(max_iter=777)\n",
    "log_reg_model.fit(X_train_vectorized, y_train)\n",
    "\n",
    "# Predict the transformed validation texts\n",
    "predictions = log_reg_model.predict(vect.transform(X_test))\n",
    "predict_probab = log_reg_model.predict_proba(vect.transform(X_test))[:,1]\n",
    "\n",
    "print(\"Accuracy = {:.5f}\".format(accuracy_score(y_test, predictions)))\n",
    "print(\"AUC = {:.3f}\".format(roc_auc_score(y_test, predict_probab)))"
   ]
  },
  {
   "cell_type": "code",
   "execution_count": 180,
   "id": "0cac7d29-8a2c-4c6f-b954-29fed2147cb2",
   "metadata": {
    "tags": []
   },
   "outputs": [
    {
     "data": {
      "text/plain": [
       "<sklearn.metrics._plot.confusion_matrix.ConfusionMatrixDisplay at 0x7fdb3921cf90>"
      ]
     },
     "execution_count": 180,
     "metadata": {},
     "output_type": "execute_result"
    },
    {
     "data": {
      "image/png": "[encoded data removed]",
      "text/plain": [
       "<Figure size 640x480 with 2 Axes>"
      ]
     },
     "metadata": {},
     "output_type": "display_data"
    }
   ],
   "source": [
    "confusion_matrix_model = ConfusionMatrixDisplay(confusion_matrix(y_test, predictions))\n",
    "confusion_matrix_model.plot()"
   ]
  },
  {
   "cell_type": "markdown",
   "id": "ba548fd2-40dc-4d33-8165-d58633ccf0ce",
   "metadata": {
    "tags": []
   },
   "source": [
    "### Let's check which words are most probably associated with actual disasters and which are not."
   ]
  },
  {
   "cell_type": "code",
   "execution_count": 183,
   "id": "acc4ff45-119d-4358-b583-dfb39b7b6092",
   "metadata": {
    "tags": []
   },
   "outputs": [
    {
     "name": "stdout",
     "output_type": "stream",
     "text": [
      "Words with the smallest Coefficients (i.e. not indicative of a real disaster):\n",
      "['full' 'song' 'new' 'panic' 'ebay' 'sure' 'let' 'ass' 'obliteration'\n",
      " 'bags' 'poll' 'blight' 'collide' 'cake' 'ruin' 'flattened' 'head' 'lmao'\n",
      " 'nowplaying' 'upheaval']\n",
      "\n",
      "Words with the largest Coefficients (i.e. very indicative of a real disaster): \n",
      "['hiroshima' 'storm' 'earthquake' 'fires' 'wildfire' 'california' 'shot'\n",
      " 'train' 'typhoon' 'volcano' 'floods' 'drought' 'bombing' 'hurricane'\n",
      " 'evacuated' 'spill' 'casualties' 'forest' 'suicide' 'plane']\n"
     ]
    }
   ],
   "source": [
    "# list of words (features)\n",
    "feature_names = np.array(vect.get_feature_names_out())\n",
    "\n",
    "#list of corresponding coefficients\n",
    "sorted_coef_index = log_reg_model.coef_[0].argsort()\n",
    "\n",
    "print(\"Words with the smallest Coefficients (i.e. not indicative of a real disaster):\\n{}\\n\".format(feature_names[sorted_coef_index[:20]]))\n",
    "print(\"Words with the largest Coefficients (i.e. very indicative of a real disaster): \\n{}\".format(feature_names[sorted_coef_index[:-21:-1]]))"
   ]
  },
  {
   "cell_type": "markdown",
   "id": "0680b14f-dd4c-4865-b9ec-4351f0e729da",
   "metadata": {},
   "source": [
    "<a id='improvements'/>\n",
    "\n",
    "### Improvements\n",
    "[Back to TOC](#TOC)"
   ]
  },
  {
   "cell_type": "markdown",
   "id": "983d4f75-8800-4673-849b-305ed86303de",
   "metadata": {},
   "source": [
    "### Let's try to improve our prediction by considering term frequency using TF-IDF "
   ]
  },
  {
   "cell_type": "code",
   "execution_count": 184,
   "id": "c60ccf56-e382-42a2-bea1-64422435c470",
   "metadata": {
    "tags": []
   },
   "outputs": [
    {
     "data": {
      "text/plain": [
       "[('age', 150),\n",
       " ('ago', 151),\n",
       " ('agree', 152),\n",
       " ('agreed', 153),\n",
       " ('ah', 154),\n",
       " ('ahead', 155),\n",
       " ('aid', 156),\n",
       " ('aim', 157),\n",
       " ('ain', 158),\n",
       " ('air', 159)]"
      ]
     },
     "execution_count": 184,
     "metadata": {},
     "output_type": "execute_result"
    }
   ],
   "source": [
    "#Consider only words that occur in at least 3 tweets.\n",
    "vect = TfidfVectorizer(min_df=3).fit(X_train)\n",
    "\n",
    "\n",
    "X_train_vectorized = vect.transform(X_train)\n",
    "\n",
    "# let's look of some of the words gathered with this method\n",
    "sorted(vect.vocabulary_.items())[150:160]"
   ]
  },
  {
   "cell_type": "code",
   "execution_count": 185,
   "id": "30ba2282-88ea-47e2-b67a-47dc240c87a6",
   "metadata": {
    "tags": []
   },
   "outputs": [
    {
     "name": "stdout",
     "output_type": "stream",
     "text": [
      "The training data now contains 3214 different words (columns) across 4872 messages (rows).\n"
     ]
    }
   ],
   "source": [
    "print(\n",
    "    \"The training data now contains {} different words (columns) across {} messages (rows).\".format( \n",
    "                                                            len(vect.vocabulary_.items()),\n",
    "                                                            X_train.shape[0]\n",
    "                                                           )\n",
    "     )"
   ]
  },
  {
   "cell_type": "code",
   "execution_count": 186,
   "id": "d586651a-d3f1-4136-bd07-54e8ade35ee8",
   "metadata": {
    "tags": []
   },
   "outputs": [
    {
     "name": "stdout",
     "output_type": "stream",
     "text": [
      "Smallest tfidf:\n",
      "['ksawlyux02' 'sh' 'utc2015' 'time2015' 'sm' 'destiny' 'enemy' 'blessings'\n",
      " 'curved' '300w' '53inch' 'offroad' 'arwx' 'eq' 'disea' 'realise'\n",
      " 'prebreak' '18w' '2pcs' 'handbag']\n",
      "\n",
      "Largest tfidf: \n",
      "['hurricane' 'on' 'mudslide' 'girl' 'sinking' 'meltdown' 'twister'\n",
      " 'flattened' 'flames' 'no' 'emergency' 'fatality' 'traumatised' 'wreck'\n",
      " 'trauma' 'weapon' 'weapons' 'survive' 'obliterated' 'thanks']\n"
     ]
    }
   ],
   "source": [
    "# list of words (features)\n",
    "feature_names = np.array(vect.get_feature_names_out())\n",
    "\n",
    "#list of corresponding tfidf values\n",
    "sorted_tfidf_index = X_train_vectorized.toarray().max(0).argsort()\n",
    "\n",
    "# print words with highest and lowest tfidf values\n",
    "print(\"Smallest tfidf:\\n{}\\n\".format(feature_names[sorted_tfidf_index[:20]]))\n",
    "print(\"Largest tfidf: \\n{}\".format(feature_names[sorted_tfidf_index[:-21:-1]]))"
   ]
  },
  {
   "cell_type": "code",
   "execution_count": 187,
   "id": "92ea0875-e75b-4f71-8342-2e67e041f458",
   "metadata": {
    "tags": []
   },
   "outputs": [
    {
     "name": "stdout",
     "output_type": "stream",
     "text": [
      "Accuracy = 0.79054\n",
      "AUC = 0.841\n"
     ]
    }
   ],
   "source": [
    "log_reg_model_TF_IDF = LogisticRegression(max_iter=777)\n",
    "log_reg_model_TF_IDF.fit(X_train_vectorized, y_train)\n",
    "\n",
    "# Predict the transformed validation texts\n",
    "predictions = log_reg_model_TF_IDF.predict(vect.transform(X_test))\n",
    "predict_probab = log_reg_model_TF_IDF.predict_proba(vect.transform(X_test))[:,1]\n",
    "\n",
    "print(\"Accuracy = {:.5f}\".format(accuracy_score(y_test, predictions)))\n",
    "print(\"AUC = {:.3f}\".format(roc_auc_score(y_test, predict_probab)))"
   ]
  },
  {
   "cell_type": "code",
   "execution_count": 188,
   "id": "e22db5a1-ef49-40d5-95ad-134665b724b2",
   "metadata": {
    "tags": []
   },
   "outputs": [
    {
     "data": {
      "text/plain": [
       "<sklearn.metrics._plot.confusion_matrix.ConfusionMatrixDisplay at 0x7fdb38f62490>"
      ]
     },
     "execution_count": 188,
     "metadata": {},
     "output_type": "execute_result"
    },
    {
     "data": {
      "image/png": "[encoded data removed]",
      "text/plain": [
       "<Figure size 640x480 with 2 Axes>"
      ]
     },
     "metadata": {},
     "output_type": "display_data"
    }
   ],
   "source": [
    "confusion_matrix_model = ConfusionMatrixDisplay(confusion_matrix(y_test, predictions))\n",
    "confusion_matrix_model.plot()"
   ]
  },
  {
   "cell_type": "code",
   "execution_count": 189,
   "id": "9b5b42d0-30a7-4a2f-ab44-12e068245556",
   "metadata": {
    "tags": []
   },
   "outputs": [
    {
     "name": "stdout",
     "output_type": "stream",
     "text": [
      "Words with the smallest Coefficients (i.e. not indicative of a real disaster):\n",
      "['you' 'new' 'full' 'my' 'let' 'youtube' 'body' 'panic' 'or' 'bags' 'he'\n",
      " 'ebay' 'blight' 'song' 'obliteration' 'ruin' 'flattened' 'collide'\n",
      " 'demolish' 'me']\n",
      "\n",
      "Words with the largest Coefficients (i.e. very indicative of a real disaster): \n",
      "['hiroshima' 'in' 'california' 'fires' 'storm' 'train' 'killed' 'wildfire'\n",
      " 'bombing' 'earthquake' 'fire' 'suicide' 'buildings' 'typhoon' 'disaster'\n",
      " 'forest' 'japan' 'evacuated' 'car' 'accident']\n"
     ]
    }
   ],
   "source": [
    "# list of words (features)\n",
    "feature_names = np.array(vect.get_feature_names_out())\n",
    "\n",
    "#list of corresponding coefficients\n",
    "sorted_coef_index = log_reg_model_TF_IDF.coef_[0].argsort()\n",
    "\n",
    "print(\"Words with the smallest Coefficients (i.e. not indicative of a real disaster):\\n{}\\n\".format(feature_names[sorted_coef_index[:20]]))\n",
    "print(\"Words with the largest Coefficients (i.e. very indicative of a real disaster): \\n{}\".format(feature_names[sorted_coef_index[:-21:-1]]))"
   ]
  },
  {
   "cell_type": "markdown",
   "id": "14658900-3888-4a89-9012-82b0169e6d07",
   "metadata": {},
   "source": [
    "### Using TF-IDF, we have increased our AUC score slightly. But we have lost a few true negatives."
   ]
  },
  {
   "cell_type": "markdown",
   "id": "850641f2-2910-4c52-b2a6-f48d8cde70af",
   "metadata": {},
   "source": [
    "### Let's make the texts more comparable by using stemming."
   ]
  },
  {
   "cell_type": "code",
   "execution_count": 190,
   "id": "854d6a55-0554-47ff-aa6d-60f72697f6be",
   "metadata": {
    "tags": []
   },
   "outputs": [],
   "source": [
    "stemmer = nltk.PorterStemmer()\n",
    "cv_analyzer = TfidfVectorizer(min_df=2).build_analyzer()\n",
    "\n",
    "def stemmed_words(doc):\n",
    "    return (stemmer.stem(w) for w in cv_analyzer(doc))\n",
    "\n",
    "stem_vectorizer = TfidfVectorizer(min_df=2, analyzer = stemmed_words)\n",
    "X_train_stem_vectorized = stem_vectorizer.fit_transform(X_train)"
   ]
  },
  {
   "cell_type": "code",
   "execution_count": 193,
   "id": "4de055d9-123f-487b-a045-1d3475d67beb",
   "metadata": {
    "tags": []
   },
   "outputs": [
    {
     "name": "stdout",
     "output_type": "stream",
     "text": [
      "Accuracy = 0.78858\n",
      "AUC = 0.847\n"
     ]
    }
   ],
   "source": [
    "log_reg_model_stem = LogisticRegression(max_iter=777)\n",
    "log_reg_model_stem.fit(X_train_stem_vectorized, y_train)\n",
    "\n",
    "# Predict the transformed validation texts\n",
    "predictions = log_reg_model_stem.predict(stem_vectorizer.transform(X_test))\n",
    "predict_probab = log_reg_model_stem.predict_proba(stem_vectorizer.transform(X_test))[:,1]\n",
    "\n",
    "print(\"Accuracy = {:.5f}\".format(accuracy_score(y_test, predictions)))\n",
    "print(\"AUC = {:.3f}\".format(roc_auc_score(y_test, predict_probab)))"
   ]
  },
  {
   "cell_type": "code",
   "execution_count": 194,
   "id": "2a8da7a5-45fa-4c53-963e-73e48510bdd7",
   "metadata": {
    "tags": []
   },
   "outputs": [
    {
     "data": {
      "text/plain": [
       "<sklearn.metrics._plot.confusion_matrix.ConfusionMatrixDisplay at 0x7fdaa065c1d0>"
      ]
     },
     "execution_count": 194,
     "metadata": {},
     "output_type": "execute_result"
    },
    {
     "data": {
      "image/png": "[encoded data removed]",
      "text/plain": [
       "<Figure size 640x480 with 2 Axes>"
      ]
     },
     "metadata": {},
     "output_type": "display_data"
    }
   ],
   "source": [
    "confusion_matrix_model = ConfusionMatrixDisplay(confusion_matrix(y_test, predictions))\n",
    "confusion_matrix_model.plot()"
   ]
  },
  {
   "cell_type": "markdown",
   "id": "75fdcf64-2ab4-478f-9978-06d9cbe4631c",
   "metadata": {
    "tags": []
   },
   "source": [
    "### Stemming further increases the AUC. But now we have lost a few true positives. What about Lemmatization?"
   ]
  },
  {
   "cell_type": "code",
   "execution_count": 195,
   "id": "518686d6-453d-4b85-808f-363d3e25378e",
   "metadata": {
    "tags": []
   },
   "outputs": [],
   "source": [
    "WNlemma = nltk.WordNetLemmatizer()\n",
    "cv_analyzer = TfidfVectorizer(min_df=4).build_analyzer()\n",
    "\n",
    "\n",
    "def lemmatize_word(doc):\n",
    "    return (WNlemma.lemmatize(t) for t in cv_analyzer(doc))\n",
    "\n",
    "lemm_vectorizer = TfidfVectorizer(min_df=4, analyzer = lemmatize_word)\n",
    "\n",
    "\n",
    "X_train_lemm_vectorized = lemm_vectorizer.fit_transform(X_train)"
   ]
  },
  {
   "cell_type": "code",
   "execution_count": 196,
   "id": "aad90391-dbb5-4992-b0d0-a9212dbd1fd4",
   "metadata": {
    "tags": []
   },
   "outputs": [
    {
     "name": "stdout",
     "output_type": "stream",
     "text": [
      "Accuracy = 0.78267\n",
      "AUC = 0.843\n"
     ]
    }
   ],
   "source": [
    "log_reg_model_lemm = LogisticRegression(max_iter=777)\n",
    "log_reg_model_lemm.fit(X_train_lemm_vectorized, y_train)\n",
    "\n",
    "# Predict the transformed validation texts\n",
    "predictions = log_reg_model_lemm.predict(lemm_vectorizer.transform(X_test))\n",
    "predict_probab = log_reg_model_lemm.predict_proba(lemm_vectorizer.transform(X_test))[:,1]\n",
    "\n",
    "print(\"Accuracy = {:.5f}\".format(accuracy_score(y_test, predictions)))\n",
    "print(\"AUC = {:.3f}\".format(roc_auc_score(y_test, predict_probab)))"
   ]
  },
  {
   "cell_type": "code",
   "execution_count": 197,
   "id": "84b763bb-b006-4784-b450-5f135cf0a840",
   "metadata": {
    "tags": []
   },
   "outputs": [
    {
     "data": {
      "text/plain": [
       "<sklearn.metrics._plot.confusion_matrix.ConfusionMatrixDisplay at 0x7fdaa069b7d0>"
      ]
     },
     "execution_count": 197,
     "metadata": {},
     "output_type": "execute_result"
    },
    {
     "data": {
      "image/png": "[encoded data removed]",
      "text/plain": [
       "<Figure size 640x480 with 2 Axes>"
      ]
     },
     "metadata": {},
     "output_type": "display_data"
    }
   ],
   "source": [
    "confusion_matrix_model = ConfusionMatrixDisplay(confusion_matrix(y_test, predictions))\n",
    "confusion_matrix_model.plot()"
   ]
  },
  {
   "cell_type": "markdown",
   "id": "62ba160c-c6eb-4b86-90b3-8c2a6bc2d076",
   "metadata": {},
   "source": [
    "### Nope. Lemmatization yields the worst results yet."
   ]
  },
  {
   "cell_type": "markdown",
   "id": "55f83608-1d8b-40c9-ac23-8af8585f7f32",
   "metadata": {
    "tags": []
   },
   "source": [
    "### Next, let's test a neural network."
   ]
  },
  {
   "cell_type": "markdown",
   "id": "241ff71e-e4df-4e4d-91a7-48f4d88a191e",
   "metadata": {},
   "source": [
    "<a id='neural_network'/>\n",
    "\n",
    "### Neural network\n",
    "[Back to TOC](#TOC)"
   ]
  },
  {
   "cell_type": "code",
   "execution_count": 71,
   "id": "4593aa93-a6f4-4c99-a616-e050f686b033",
   "metadata": {
    "tags": []
   },
   "outputs": [
    {
     "name": "stdout",
     "output_type": "stream",
     "text": [
      "train size: 4872\n",
      "test size: 1523\n",
      "val size: 1218\n"
     ]
    }
   ],
   "source": [
    "\n",
    "print('train size:', len(y_train))\n",
    "\n",
    "print('test size:', len(y_test))\n",
    "\n",
    "print('val size:', len(y_val))\n",
    "\n",
    "\n",
    "# convert datasets for use in Keras\n",
    "\n",
    "\n",
    "dataset_train = tf.data.Dataset.from_tensor_slices((X_train, y_train))\n",
    "dataset_val = tf.data.Dataset.from_tensor_slices((X_val, y_val))\n",
    "dataset_test = tf.data.Dataset.from_tensor_slices((X_test, y_test))\n",
    "\n",
    "dataframe_train=pd.concat([X_train,y_train], axis=1)\n",
    "dataframe_test=pd.concat([X_test,y_test], axis=1)\n",
    "\n",
    "# create batches of the datasets for training, validation and testing\n",
    "\n",
    "batch_size=500\n",
    "dataset_train_batch = dataset_train.batch(batch_size=batch_size)\n",
    "dataset_val_batch = dataset_val.batch(batch_size=batch_size)\n",
    "dataset_test_batch = dataset_test.batch(batch_size=batch_size)"
   ]
  },
  {
   "cell_type": "markdown",
   "id": "d297aa4d-0bd6-4660-8a47-fa175fb3c82b",
   "metadata": {
    "tags": []
   },
   "source": [
    "Define Vecorizer"
   ]
  },
  {
   "cell_type": "code",
   "execution_count": 72,
   "id": "46eb8373-b42a-443c-ada6-b659bc7a1b5c",
   "metadata": {
    "tags": []
   },
   "outputs": [],
   "source": [
    "def custom_standardization(input_data):\n",
    "    \"\"\"Text preprocessing: lowercases, no punctuation\n",
    "\n",
    "    Args:\n",
    "        input_data (tf.dataframe): [text, formated as tf.string]\n",
    "\n",
    "    Returns:\n",
    "        [tf.dataframe]: [preprocessed text]\n",
    "    \"\"\"\n",
    "    text_lower = tf.strings.lower(input_data)\n",
    "    return tf.strings.regex_replace(text_lower, '[%s]' % re.escape(string.punctuation), '')\n",
    "\n",
    "# get the number of words in each message\n",
    "sequence_len = int(dataframe_train.text.apply(lambda x: len(x.split())).max()) \n",
    "\n",
    "# define the text vectorization layer \n",
    "vectorize_layer = TextVectorization(\n",
    "    standardize=custom_standardization,\n",
    "    max_tokens=full_vocab_len,\n",
    "    output_mode='int',\n",
    "    output_sequence_length=sequence_len)\n",
    "\n",
    "# Make a text-only dataset (without labels)\n",
    "train_text = dataset_train.map(lambda x, y: x)\n",
    "vectorize_layer.adapt(train_text)\n"
   ]
  },
  {
   "cell_type": "code",
   "execution_count": 73,
   "id": "85186155-02a7-454f-8a63-d741a09265a7",
   "metadata": {
    "tags": []
   },
   "outputs": [
    {
     "name": "stdout",
     "output_type": "stream",
     "text": [
      "1138 --->  terror\n",
      " 327 --->  survivors\n",
      "Vocabulary size: 15759\n"
     ]
    }
   ],
   "source": [
    "print(\"1138 ---> \",vectorize_layer.get_vocabulary()[1138])\n",
    "print(\" 327 ---> \",vectorize_layer.get_vocabulary()[327])\n",
    "print('Vocabulary size: {}'.format(len(vectorize_layer.get_vocabulary())))"
   ]
  },
  {
   "cell_type": "markdown",
   "id": "b4bdf2d5-02ab-4aa4-9c93-17ddaaad016f",
   "metadata": {},
   "source": [
    "### Define the model. Note that it uses word embeddings."
   ]
  },
  {
   "cell_type": "code",
   "execution_count": 74,
   "id": "d5c3270a-d278-4df5-8f4c-3966267cde8a",
   "metadata": {
    "tags": []
   },
   "outputs": [],
   "source": [
    "tf.keras.backend.clear_session()\n",
    "\n",
    "embedding_dim=3\n",
    "model_nn = Sequential([\n",
    "  vectorize_layer,\n",
    "  Embedding(full_vocab_len, embedding_dim, name=\"embedding\"),\n",
    "  GlobalAveragePooling1D(),\n",
    "  Dropout(0.5),\n",
    "  Dense(500, activation='relu'),\n",
    "  Dropout(0.25),\n",
    "#  Dense(16, activation='elu'),\n",
    "  Dense(1, activation='sigmoid')\n",
    "])\n",
    "\n",
    "model_nn.compile(optimizer='adam',\n",
    "              loss=tf.keras.losses.BinaryCrossentropy(),\n",
    "              metrics=['AUC'])\n"
   ]
  },
  {
   "cell_type": "code",
   "execution_count": 75,
   "id": "492c52bc-b6ad-4890-9142-15f5f0362c9a",
   "metadata": {
    "tags": []
   },
   "outputs": [
    {
     "name": "stdout",
     "output_type": "stream",
     "text": [
      "Epoch 1/100\n",
      "10/10 [==============================] - 2s 48ms/step - loss: 0.6887 - auc: 0.5035 - val_loss: 0.6843 - val_auc: 0.5009\n",
      "Epoch 2/100\n",
      "10/10 [==============================] - 0s 23ms/step - loss: 0.6833 - auc: 0.5093 - val_loss: 0.6827 - val_auc: 0.5768\n",
      "Epoch 3/100\n",
      "10/10 [==============================] - 0s 31ms/step - loss: 0.6828 - auc: 0.5387 - val_loss: 0.6820 - val_auc: 0.6151\n",
      "Epoch 4/100\n",
      "10/10 [==============================] - 0s 28ms/step - loss: 0.6813 - auc: 0.5772 - val_loss: 0.6806 - val_auc: 0.6727\n",
      "Epoch 5/100\n",
      "10/10 [==============================] - 0s 28ms/step - loss: 0.6797 - auc: 0.6060 - val_loss: 0.6785 - val_auc: 0.7185\n",
      "Epoch 6/100\n",
      "10/10 [==============================] - 0s 19ms/step - loss: 0.6758 - auc: 0.6625 - val_loss: 0.6752 - val_auc: 0.7524\n",
      "Epoch 7/100\n",
      "10/10 [==============================] - 0s 18ms/step - loss: 0.6723 - auc: 0.6748 - val_loss: 0.6701 - val_auc: 0.7806\n",
      "Epoch 8/100\n",
      "10/10 [==============================] - 0s 29ms/step - loss: 0.6649 - auc: 0.7219 - val_loss: 0.6621 - val_auc: 0.8074\n",
      "Epoch 9/100\n",
      "10/10 [==============================] - 0s 35ms/step - loss: 0.6522 - auc: 0.7665 - val_loss: 0.6502 - val_auc: 0.8212\n",
      "Epoch 10/100\n",
      "10/10 [==============================] - 0s 34ms/step - loss: 0.6367 - auc: 0.8012 - val_loss: 0.6347 - val_auc: 0.8297\n",
      "Epoch 11/100\n",
      "10/10 [==============================] - 0s 26ms/step - loss: 0.6152 - auc: 0.8380 - val_loss: 0.6162 - val_auc: 0.8343\n",
      "Epoch 12/100\n",
      "10/10 [==============================] - 0s 28ms/step - loss: 0.5873 - auc: 0.8707 - val_loss: 0.5949 - val_auc: 0.8368\n",
      "Epoch 13/100\n",
      "10/10 [==============================] - 0s 24ms/step - loss: 0.5613 - auc: 0.8774 - val_loss: 0.5722 - val_auc: 0.8404\n",
      "Epoch 14/100\n",
      "10/10 [==============================] - 0s 23ms/step - loss: 0.5237 - auc: 0.9010 - val_loss: 0.5501 - val_auc: 0.8435\n",
      "Epoch 15/100\n",
      "10/10 [==============================] - 0s 21ms/step - loss: 0.4943 - auc: 0.9037 - val_loss: 0.5289 - val_auc: 0.8473\n",
      "Epoch 16/100\n",
      "10/10 [==============================] - 0s 28ms/step - loss: 0.4592 - auc: 0.9132 - val_loss: 0.5130 - val_auc: 0.8505\n",
      "Epoch 17/100\n",
      "10/10 [==============================] - 0s 24ms/step - loss: 0.4243 - auc: 0.9261 - val_loss: 0.4946 - val_auc: 0.8550\n",
      "Epoch 18/100\n",
      "10/10 [==============================] - 0s 22ms/step - loss: 0.4001 - auc: 0.9273 - val_loss: 0.4871 - val_auc: 0.8582\n",
      "Epoch 19/100\n",
      "10/10 [==============================] - 0s 20ms/step - loss: 0.3827 - auc: 0.9305 - val_loss: 0.4756 - val_auc: 0.8610\n",
      "Epoch 20/100\n",
      "10/10 [==============================] - 0s 21ms/step - loss: 0.3561 - auc: 0.9406 - val_loss: 0.4685 - val_auc: 0.8632\n",
      "Epoch 21/100\n",
      "10/10 [==============================] - 0s 26ms/step - loss: 0.3335 - auc: 0.9475 - val_loss: 0.4604 - val_auc: 0.8644\n",
      "Epoch 22/100\n",
      "10/10 [==============================] - 0s 22ms/step - loss: 0.3202 - auc: 0.9514 - val_loss: 0.4554 - val_auc: 0.8660\n",
      "Epoch 23/100\n",
      "10/10 [==============================] - 0s 17ms/step - loss: 0.3022 - auc: 0.9569 - val_loss: 0.4561 - val_auc: 0.8672\n",
      "Epoch 24/100\n",
      "10/10 [==============================] - 0s 21ms/step - loss: 0.2920 - auc: 0.9589 - val_loss: 0.4485 - val_auc: 0.8682\n",
      "Epoch 25/100\n",
      "10/10 [==============================] - 0s 16ms/step - loss: 0.2769 - auc: 0.9626 - val_loss: 0.4563 - val_auc: 0.8687\n",
      "Epoch 26/100\n",
      "10/10 [==============================] - 0s 17ms/step - loss: 0.2648 - auc: 0.9644 - val_loss: 0.4498 - val_auc: 0.8690\n",
      "Epoch 27/100\n",
      "10/10 [==============================] - 0s 21ms/step - loss: 0.2475 - auc: 0.9707 - val_loss: 0.4510 - val_auc: 0.8687\n",
      "Epoch 28/100\n",
      "10/10 [==============================] - 0s 20ms/step - loss: 0.2412 - auc: 0.9706 - val_loss: 0.4544 - val_auc: 0.8687\n",
      "Epoch 29/100\n",
      "10/10 [==============================] - 0s 17ms/step - loss: 0.2365 - auc: 0.9709 - val_loss: 0.4527 - val_auc: 0.8681\n",
      "Epoch 30/100\n",
      "10/10 [==============================] - 0s 18ms/step - loss: 0.2213 - auc: 0.9763 - val_loss: 0.4543 - val_auc: 0.8679\n",
      "Epoch 31/100\n",
      "10/10 [==============================] - 0s 18ms/step - loss: 0.2140 - auc: 0.9768 - val_loss: 0.4590 - val_auc: 0.8676\n",
      "Epoch 32/100\n",
      "10/10 [==============================] - 0s 17ms/step - loss: 0.2110 - auc: 0.9773 - val_loss: 0.4595 - val_auc: 0.8667\n",
      "Epoch 33/100\n",
      "10/10 [==============================] - 0s 16ms/step - loss: 0.2018 - auc: 0.9788 - val_loss: 0.4654 - val_auc: 0.8657\n",
      "Epoch 34/100\n",
      "10/10 [==============================] - 0s 17ms/step - loss: 0.1963 - auc: 0.9800 - val_loss: 0.4716 - val_auc: 0.8654\n",
      "Epoch 35/100\n",
      "10/10 [==============================] - 0s 19ms/step - loss: 0.1881 - auc: 0.9818 - val_loss: 0.4697 - val_auc: 0.8649\n",
      "Epoch 36/100\n",
      "10/10 [==============================] - 0s 17ms/step - loss: 0.1815 - auc: 0.9822 - val_loss: 0.4759 - val_auc: 0.8645\n",
      "Epoch 37/100\n",
      "10/10 [==============================] - 0s 20ms/step - loss: 0.1737 - auc: 0.9845 - val_loss: 0.4849 - val_auc: 0.8636\n",
      "Epoch 38/100\n",
      "10/10 [==============================] - 0s 19ms/step - loss: 0.1730 - auc: 0.9839 - val_loss: 0.4927 - val_auc: 0.8633\n",
      "Epoch 39/100\n",
      "10/10 [==============================] - 0s 15ms/step - loss: 0.1712 - auc: 0.9833 - val_loss: 0.4890 - val_auc: 0.8635\n",
      "Epoch 40/100\n",
      "10/10 [==============================] - 0s 17ms/step - loss: 0.1692 - auc: 0.9849 - val_loss: 0.5027 - val_auc: 0.8626\n",
      "Epoch 41/100\n",
      "10/10 [==============================] - 0s 17ms/step - loss: 0.1662 - auc: 0.9839 - val_loss: 0.5036 - val_auc: 0.8625\n",
      "Epoch 42/100\n",
      "10/10 [==============================] - 0s 16ms/step - loss: 0.1530 - auc: 0.9875 - val_loss: 0.5082 - val_auc: 0.8622\n",
      "Epoch 43/100\n",
      "10/10 [==============================] - 0s 17ms/step - loss: 0.1528 - auc: 0.9862 - val_loss: 0.5142 - val_auc: 0.8615\n",
      "Epoch 44/100\n",
      "10/10 [==============================] - 0s 18ms/step - loss: 0.1540 - auc: 0.9863 - val_loss: 0.5273 - val_auc: 0.8606\n"
     ]
    },
    {
     "data": {
      "text/plain": [
       "<keras.src.callbacks.History at 0x7fdac2765750>"
      ]
     },
     "execution_count": 75,
     "metadata": {},
     "output_type": "execute_result"
    }
   ],
   "source": [
    "# training the model\n",
    "\n",
    "\n",
    "\n",
    "\n",
    "early_stopping_monitor = EarlyStopping(\n",
    "    monitor='val_loss',\n",
    "    min_delta=0,\n",
    "    patience=20,\n",
    "    verbose=0,\n",
    "    mode='auto',\n",
    "    baseline=None,\n",
    "    restore_best_weights=True\n",
    ")\n",
    "\n",
    "\n",
    "\n",
    "model_nn.fit(\n",
    "    dataset_train_batch,\n",
    "    validation_data=dataset_val_batch,\n",
    "    epochs=100,\n",
    "    callbacks=[early_stopping_monitor]\n",
    "    )\n"
   ]
  },
  {
   "cell_type": "code",
   "execution_count": null,
   "id": "15f19c96-b40a-4a55-b5a4-e44d18c0c82e",
   "metadata": {
    "tags": []
   },
   "outputs": [],
   "source": []
  },
  {
   "cell_type": "code",
   "execution_count": 76,
   "id": "fc51a7f4-898c-4c32-b820-4424b1970fa1",
   "metadata": {
    "tags": []
   },
   "outputs": [
    {
     "name": "stdout",
     "output_type": "stream",
     "text": [
      "3/3 - 0s - loss: 0.4485 - auc: 0.8682 - 28ms/epoch - 9ms/step\n"
     ]
    }
   ],
   "source": [
    "# calculating the loss and accuracy on the test set.\n",
    "loss, accuracy = model_nn.evaluate(dataset_val_batch, verbose=2)"
   ]
  },
  {
   "cell_type": "code",
   "execution_count": 77,
   "id": "ff9d9ee2-e486-4d46-b374-f6e947bbc5ac",
   "metadata": {
    "tags": []
   },
   "outputs": [
    {
     "data": {
      "text/plain": [
       "<sklearn.metrics._plot.confusion_matrix.ConfusionMatrixDisplay at 0x7fdac0309a90>"
      ]
     },
     "execution_count": 77,
     "metadata": {},
     "output_type": "execute_result"
    },
    {
     "data": {
      "image/png": "[encoded data removed]",
      "text/plain": [
       "<Figure size 640x480 with 2 Axes>"
      ]
     },
     "metadata": {},
     "output_type": "display_data"
    }
   ],
   "source": [
    "y_test_pred_classes = (\n",
    "    pd.DataFrame(model_nn.predict(tf.data.Dataset.from_tensor_slices((X_test)).batch(batch_size=batch_size), verbose=0)\n",
    "    .flatten())\n",
    "    .applymap(lambda x: 1 if x>0.5 else 0)\n",
    "    .rename(columns={0:'pred'})\n",
    ")\n",
    "confusion_matrix_model = ConfusionMatrixDisplay(confusion_matrix(np.array(dataframe_test.target), np.array(y_test_pred_classes.pred)))\n",
    "confusion_matrix_model.plot()"
   ]
  },
  {
   "cell_type": "markdown",
   "id": "ed684339-b5c5-4eba-8b5f-e8aed78f02ab",
   "metadata": {
    "tags": []
   },
   "source": [
    "### We have lost a significant amount of true negatives but gained an even higher amount of true positives."
   ]
  },
  {
   "cell_type": "markdown",
   "id": "92938a83-8f2b-429e-aae8-6231ef705f80",
   "metadata": {},
   "source": [
    "## Decision Tree classifier\n"
   ]
  },
  {
   "cell_type": "code",
   "execution_count": null,
   "id": "111b82ca-b06c-40f9-adf8-cf44e260552c",
   "metadata": {
    "tags": []
   },
   "outputs": [],
   "source": []
  },
  {
   "cell_type": "code",
   "execution_count": 201,
   "id": "b182cf67-c937-4343-9b27-583e1bbbf813",
   "metadata": {
    "tags": []
   },
   "outputs": [],
   "source": [
    "stemmer = nltk.PorterStemmer()\n",
    "cv_analyzer = TfidfVectorizer(min_df=2).build_analyzer()\n",
    "\n",
    "def stemmed_words(doc):\n",
    "    return (stemmer.stem(w) for w in cv_analyzer(doc))\n",
    "\n",
    "vect = TfidfVectorizer(min_df=2, analyzer = stemmed_words)\n",
    "\n",
    "# transform the text in the training data to a text-term matrix\n",
    "X_train_vectorized = vect.fit_transform(X_train)\n",
    "X_test_vectorized = vect.transform(X_test)\n",
    "X_val_vectorized = vect.transform(X_val)"
   ]
  },
  {
   "cell_type": "code",
   "execution_count": 216,
   "id": "058e978e-e8ae-4df7-ac1f-0a57d9c0f68b",
   "metadata": {
    "tags": []
   },
   "outputs": [
    {
     "data": {
      "text/html": [
       "<style>#sk-container-id-49 {color: black;background-color: white;}#sk-container-id-49 pre{padding: 0;}#sk-container-id-49 div.sk-toggleable {background-color: white;}#sk-container-id-49 label.sk-toggleable__label {cursor: pointer;display: block;width: 100%;margin-bottom: 0;padding: 0.3em;box-sizing: border-box;text-align: center;}#sk-container-id-49 label.sk-toggleable__label-arrow:before {content: \"▸\";float: left;margin-right: 0.25em;color: #696969;}#sk-container-id-49 label.sk-toggleable__label-arrow:hover:before {color: black;}#sk-container-id-49 div.sk-estimator:hover label.sk-toggleable__label-arrow:before {color: black;}#sk-container-id-49 div.sk-toggleable__content {max-height: 0;max-width: 0;overflow: hidden;text-align: left;background-color: #f0f8ff;}#sk-container-id-49 div.sk-toggleable__content pre {margin: 0.2em;color: black;border-radius: 0.25em;background-color: #f0f8ff;}#sk-container-id-49 input.sk-toggleable__control:checked~div.sk-toggleable__content {max-height: 200px;max-width: 100%;overflow: auto;}#sk-container-id-49 input.sk-toggleable__control:checked~label.sk-toggleable__label-arrow:before {content: \"▾\";}#sk-container-id-49 div.sk-estimator input.sk-toggleable__control:checked~label.sk-toggleable__label {background-color: #d4ebff;}#sk-container-id-49 div.sk-label input.sk-toggleable__control:checked~label.sk-toggleable__label {background-color: #d4ebff;}#sk-container-id-49 input.sk-hidden--visually {border: 0;clip: rect(1px 1px 1px 1px);clip: rect(1px, 1px, 1px, 1px);height: 1px;margin: -1px;overflow: hidden;padding: 0;position: absolute;width: 1px;}#sk-container-id-49 div.sk-estimator {font-family: monospace;background-color: #f0f8ff;border: 1px dotted black;border-radius: 0.25em;box-sizing: border-box;margin-bottom: 0.5em;}#sk-container-id-49 div.sk-estimator:hover {background-color: #d4ebff;}#sk-container-id-49 div.sk-parallel-item::after {content: \"\";width: 100%;border-bottom: 1px solid gray;flex-grow: 1;}#sk-container-id-49 div.sk-label:hover label.sk-toggleable__label {background-color: #d4ebff;}#sk-container-id-49 div.sk-serial::before {content: \"\";position: absolute;border-left: 1px solid gray;box-sizing: border-box;top: 0;bottom: 0;left: 50%;z-index: 0;}#sk-container-id-49 div.sk-serial {display: flex;flex-direction: column;align-items: center;background-color: white;padding-right: 0.2em;padding-left: 0.2em;position: relative;}#sk-container-id-49 div.sk-item {position: relative;z-index: 1;}#sk-container-id-49 div.sk-parallel {display: flex;align-items: stretch;justify-content: center;background-color: white;position: relative;}#sk-container-id-49 div.sk-item::before, #sk-container-id-49 div.sk-parallel-item::before {content: \"\";position: absolute;border-left: 1px solid gray;box-sizing: border-box;top: 0;bottom: 0;left: 50%;z-index: -1;}#sk-container-id-49 div.sk-parallel-item {display: flex;flex-direction: column;z-index: 1;position: relative;background-color: white;}#sk-container-id-49 div.sk-parallel-item:first-child::after {align-self: flex-end;width: 50%;}#sk-container-id-49 div.sk-parallel-item:last-child::after {align-self: flex-start;width: 50%;}#sk-container-id-49 div.sk-parallel-item:only-child::after {width: 0;}#sk-container-id-49 div.sk-dashed-wrapped {border: 1px dashed gray;margin: 0 0.4em 0.5em 0.4em;box-sizing: border-box;padding-bottom: 0.4em;background-color: white;}#sk-container-id-49 div.sk-label label {font-family: monospace;font-weight: bold;display: inline-block;line-height: 1.2em;}#sk-container-id-49 div.sk-label-container {text-align: center;}#sk-container-id-49 div.sk-container {/* jupyter's `normalize.less` sets `[hidden] { display: none; }` but bootstrap.min.css set `[hidden] { display: none !important; }` so we also need the `!important` here to be able to override the default hidden behavior on the sphinx rendered scikit-learn.org. See: https://github.com/scikit-learn/scikit-learn/issues/21755 */display: inline-block !important;position: relative;}#sk-container-id-49 div.sk-text-repr-fallback {display: none;}</style><div id=\"sk-container-id-49\" class=\"sk-top-container\"><div class=\"sk-text-repr-fallback\"><pre>DecisionTreeClassifier(max_depth=70, min_samples_leaf=7)</pre><b>In a Jupyter environment, please rerun this cell to show the HTML representation or trust the notebook. <br />On GitHub, the HTML representation is unable to render, please try loading this page with nbviewer.org.</b></div><div class=\"sk-container\" hidden><div class=\"sk-item\"><div class=\"sk-estimator sk-toggleable\"><input class=\"sk-toggleable__control sk-hidden--visually\" id=\"sk-estimator-id-74\" type=\"checkbox\" checked><label for=\"sk-estimator-id-74\" class=\"sk-toggleable__label sk-toggleable__label-arrow\">DecisionTreeClassifier</label><div class=\"sk-toggleable__content\"><pre>DecisionTreeClassifier(max_depth=70, min_samples_leaf=7)</pre></div></div></div></div></div>"
      ],
      "text/plain": [
       "DecisionTreeClassifier(max_depth=70, min_samples_leaf=7)"
      ]
     },
     "execution_count": 216,
     "metadata": {},
     "output_type": "execute_result"
    }
   ],
   "source": [
    "tree_model = DecisionTreeClassifier(\n",
    "        criterion = \"gini\", \n",
    "        max_depth = 70, min_samples_leaf = 7) \n",
    "\n",
    "\n",
    "\n",
    "\n",
    "# train \n",
    "tree_model.fit(X_train_vectorized, y_train) "
   ]
  },
  {
   "cell_type": "code",
   "execution_count": 217,
   "id": "fd11a1aa-5b39-47cc-9f1d-1a129c186389",
   "metadata": {
    "tags": []
   },
   "outputs": [
    {
     "name": "stdout",
     "output_type": "stream",
     "text": [
      "Accuracy = 0.68089\n",
      "AUC = 0.709\n"
     ]
    },
    {
     "data": {
      "text/plain": [
       "<sklearn.metrics._plot.confusion_matrix.ConfusionMatrixDisplay at 0x7fda975cec50>"
      ]
     },
     "execution_count": 217,
     "metadata": {},
     "output_type": "execute_result"
    },
    {
     "data": {
      "image/png": "[encoded data removed]",
      "text/plain": [
       "<Figure size 640x480 with 2 Axes>"
      ]
     },
     "metadata": {},
     "output_type": "display_data"
    }
   ],
   "source": [
    "predictions = tree_model.predict(X_test_vectorized)\n",
    "predict_probab = tree_model.predict_proba(X_test_vectorized)[:,1]\n",
    "\n",
    "print(\"Accuracy = {:.5f}\".format(accuracy_score(y_test, predictions)))\n",
    "print(\"AUC = {:.3f}\".format(roc_auc_score(y_test, predict_probab)))\n",
    "\n",
    "\n",
    "confusion_matrix_model = ConfusionMatrixDisplay(confusion_matrix(y_test, predictions))\n",
    "confusion_matrix_model.plot()\n"
   ]
  },
  {
   "cell_type": "markdown",
   "id": "c7e19cd6-2b8e-40d5-8aa9-0bb8f6b1a869",
   "metadata": {
    "tags": []
   },
   "source": [
    "### This is by far the worst model. The true negatives are quite high but the true positives are underestimated."
   ]
  },
  {
   "cell_type": "markdown",
   "id": "557b94f4-a2bc-4fe7-b135-4573bcbfdf5d",
   "metadata": {},
   "source": [
    "## Now A random forest"
   ]
  },
  {
   "cell_type": "code",
   "execution_count": 218,
   "id": "930bc3e1-1da0-4f2b-807a-ca98f7e0059d",
   "metadata": {
    "tags": []
   },
   "outputs": [
    {
     "data": {
      "text/html": [
       "<style>#sk-container-id-50 {color: black;background-color: white;}#sk-container-id-50 pre{padding: 0;}#sk-container-id-50 div.sk-toggleable {background-color: white;}#sk-container-id-50 label.sk-toggleable__label {cursor: pointer;display: block;width: 100%;margin-bottom: 0;padding: 0.3em;box-sizing: border-box;text-align: center;}#sk-container-id-50 label.sk-toggleable__label-arrow:before {content: \"▸\";float: left;margin-right: 0.25em;color: #696969;}#sk-container-id-50 label.sk-toggleable__label-arrow:hover:before {color: black;}#sk-container-id-50 div.sk-estimator:hover label.sk-toggleable__label-arrow:before {color: black;}#sk-container-id-50 div.sk-toggleable__content {max-height: 0;max-width: 0;overflow: hidden;text-align: left;background-color: #f0f8ff;}#sk-container-id-50 div.sk-toggleable__content pre {margin: 0.2em;color: black;border-radius: 0.25em;background-color: #f0f8ff;}#sk-container-id-50 input.sk-toggleable__control:checked~div.sk-toggleable__content {max-height: 200px;max-width: 100%;overflow: auto;}#sk-container-id-50 input.sk-toggleable__control:checked~label.sk-toggleable__label-arrow:before {content: \"▾\";}#sk-container-id-50 div.sk-estimator input.sk-toggleable__control:checked~label.sk-toggleable__label {background-color: #d4ebff;}#sk-container-id-50 div.sk-label input.sk-toggleable__control:checked~label.sk-toggleable__label {background-color: #d4ebff;}#sk-container-id-50 input.sk-hidden--visually {border: 0;clip: rect(1px 1px 1px 1px);clip: rect(1px, 1px, 1px, 1px);height: 1px;margin: -1px;overflow: hidden;padding: 0;position: absolute;width: 1px;}#sk-container-id-50 div.sk-estimator {font-family: monospace;background-color: #f0f8ff;border: 1px dotted black;border-radius: 0.25em;box-sizing: border-box;margin-bottom: 0.5em;}#sk-container-id-50 div.sk-estimator:hover {background-color: #d4ebff;}#sk-container-id-50 div.sk-parallel-item::after {content: \"\";width: 100%;border-bottom: 1px solid gray;flex-grow: 1;}#sk-container-id-50 div.sk-label:hover label.sk-toggleable__label {background-color: #d4ebff;}#sk-container-id-50 div.sk-serial::before {content: \"\";position: absolute;border-left: 1px solid gray;box-sizing: border-box;top: 0;bottom: 0;left: 50%;z-index: 0;}#sk-container-id-50 div.sk-serial {display: flex;flex-direction: column;align-items: center;background-color: white;padding-right: 0.2em;padding-left: 0.2em;position: relative;}#sk-container-id-50 div.sk-item {position: relative;z-index: 1;}#sk-container-id-50 div.sk-parallel {display: flex;align-items: stretch;justify-content: center;background-color: white;position: relative;}#sk-container-id-50 div.sk-item::before, #sk-container-id-50 div.sk-parallel-item::before {content: \"\";position: absolute;border-left: 1px solid gray;box-sizing: border-box;top: 0;bottom: 0;left: 50%;z-index: -1;}#sk-container-id-50 div.sk-parallel-item {display: flex;flex-direction: column;z-index: 1;position: relative;background-color: white;}#sk-container-id-50 div.sk-parallel-item:first-child::after {align-self: flex-end;width: 50%;}#sk-container-id-50 div.sk-parallel-item:last-child::after {align-self: flex-start;width: 50%;}#sk-container-id-50 div.sk-parallel-item:only-child::after {width: 0;}#sk-container-id-50 div.sk-dashed-wrapped {border: 1px dashed gray;margin: 0 0.4em 0.5em 0.4em;box-sizing: border-box;padding-bottom: 0.4em;background-color: white;}#sk-container-id-50 div.sk-label label {font-family: monospace;font-weight: bold;display: inline-block;line-height: 1.2em;}#sk-container-id-50 div.sk-label-container {text-align: center;}#sk-container-id-50 div.sk-container {/* jupyter's `normalize.less` sets `[hidden] { display: none; }` but bootstrap.min.css set `[hidden] { display: none !important; }` so we also need the `!important` here to be able to override the default hidden behavior on the sphinx rendered scikit-learn.org. See: https://github.com/scikit-learn/scikit-learn/issues/21755 */display: inline-block !important;position: relative;}#sk-container-id-50 div.sk-text-repr-fallback {display: none;}</style><div id=\"sk-container-id-50\" class=\"sk-top-container\"><div class=\"sk-text-repr-fallback\"><pre>RandomForestClassifier(n_estimators=300, n_jobs=-1, random_state=777)</pre><b>In a Jupyter environment, please rerun this cell to show the HTML representation or trust the notebook. <br />On GitHub, the HTML representation is unable to render, please try loading this page with nbviewer.org.</b></div><div class=\"sk-container\" hidden><div class=\"sk-item\"><div class=\"sk-estimator sk-toggleable\"><input class=\"sk-toggleable__control sk-hidden--visually\" id=\"sk-estimator-id-75\" type=\"checkbox\" checked><label for=\"sk-estimator-id-75\" class=\"sk-toggleable__label sk-toggleable__label-arrow\">RandomForestClassifier</label><div class=\"sk-toggleable__content\"><pre>RandomForestClassifier(n_estimators=300, n_jobs=-1, random_state=777)</pre></div></div></div></div></div>"
      ],
      "text/plain": [
       "RandomForestClassifier(n_estimators=300, n_jobs=-1, random_state=777)"
      ]
     },
     "execution_count": 218,
     "metadata": {},
     "output_type": "execute_result"
    }
   ],
   "source": [
    "# Create the model with 100 trees\n",
    "random_forest_model = RandomForestClassifier(n_estimators=300, \n",
    "                               random_state=777, \n",
    "                               max_features = 'sqrt',\n",
    "                               n_jobs=-1, verbose = 0)\n",
    "\n",
    "# train \n",
    "random_forest_model.fit(X_train_vectorized, y_train) \n",
    "\n"
   ]
  },
  {
   "cell_type": "code",
   "execution_count": 219,
   "id": "321d076a-ba23-4c6f-b216-e2cbf26311a6",
   "metadata": {
    "tags": []
   },
   "outputs": [
    {
     "name": "stdout",
     "output_type": "stream",
     "text": [
      "Accuracy = 0.77741\n",
      "AUC = 0.827\n"
     ]
    },
    {
     "data": {
      "text/plain": [
       "<sklearn.metrics._plot.confusion_matrix.ConfusionMatrixDisplay at 0x7fda9749e750>"
      ]
     },
     "execution_count": 219,
     "metadata": {},
     "output_type": "execute_result"
    },
    {
     "data": {
      "image/png": "[encoded data removed]",
      "text/plain": [
       "<Figure size 640x480 with 2 Axes>"
      ]
     },
     "metadata": {},
     "output_type": "display_data"
    }
   ],
   "source": [
    "predictions = random_forest_model.predict(X_test_vectorized)\n",
    "predict_probab = random_forest_model.predict_proba(X_test_vectorized)[:,1]\n",
    "\n",
    "print(\"Accuracy = {:.5f}\".format(accuracy_score(y_test, predictions)))\n",
    "print(\"AUC = {:.3f}\".format(roc_auc_score(y_test, predict_probab)))\n",
    "\n",
    "\n",
    "confusion_matrix_model = ConfusionMatrixDisplay(confusion_matrix(y_test, predictions))\n",
    "confusion_matrix_model.plot()\n"
   ]
  },
  {
   "cell_type": "code",
   "execution_count": 220,
   "id": "2092c41d-f48e-4bdd-94a7-21b92591d7cf",
   "metadata": {
    "tags": []
   },
   "outputs": [
    {
     "name": "stdout",
     "output_type": "stream",
     "text": [
      "Train set Accuracy = 0.98768\n",
      "Train set AUC = 0.999\n"
     ]
    }
   ],
   "source": [
    "print(\"Train set Accuracy = {:.5f}\".format(accuracy_score(y_train, random_forest_model.predict(vect.transform(X_train)))))\n",
    "print(\"Train set AUC = {:.3f}\".format(roc_auc_score(y_train, random_forest_model.predict_proba(vect.transform(X_train))[:,1])))\n"
   ]
  },
  {
   "cell_type": "markdown",
   "id": "3fecd808-8bbc-476f-be0a-256a1e3abcb8",
   "metadata": {},
   "source": [
    "### We see that the random forest classifier is overfitting the training set, however, it yields its best AUC score on the test set while it is of overfitting."
   ]
  },
  {
   "cell_type": "markdown",
   "id": "c8d3d28e-eb8e-4cf8-b7f9-1e7ebb1a50b2",
   "metadata": {},
   "source": [
    "## Now a KNN classifier"
   ]
  },
  {
   "cell_type": "code",
   "execution_count": 221,
   "id": "7e67042c-f49c-44c5-8624-30ce6641e1f8",
   "metadata": {
    "tags": []
   },
   "outputs": [
    {
     "data": {
      "text/html": [
       "<style>#sk-container-id-51 {color: black;background-color: white;}#sk-container-id-51 pre{padding: 0;}#sk-container-id-51 div.sk-toggleable {background-color: white;}#sk-container-id-51 label.sk-toggleable__label {cursor: pointer;display: block;width: 100%;margin-bottom: 0;padding: 0.3em;box-sizing: border-box;text-align: center;}#sk-container-id-51 label.sk-toggleable__label-arrow:before {content: \"▸\";float: left;margin-right: 0.25em;color: #696969;}#sk-container-id-51 label.sk-toggleable__label-arrow:hover:before {color: black;}#sk-container-id-51 div.sk-estimator:hover label.sk-toggleable__label-arrow:before {color: black;}#sk-container-id-51 div.sk-toggleable__content {max-height: 0;max-width: 0;overflow: hidden;text-align: left;background-color: #f0f8ff;}#sk-container-id-51 div.sk-toggleable__content pre {margin: 0.2em;color: black;border-radius: 0.25em;background-color: #f0f8ff;}#sk-container-id-51 input.sk-toggleable__control:checked~div.sk-toggleable__content {max-height: 200px;max-width: 100%;overflow: auto;}#sk-container-id-51 input.sk-toggleable__control:checked~label.sk-toggleable__label-arrow:before {content: \"▾\";}#sk-container-id-51 div.sk-estimator input.sk-toggleable__control:checked~label.sk-toggleable__label {background-color: #d4ebff;}#sk-container-id-51 div.sk-label input.sk-toggleable__control:checked~label.sk-toggleable__label {background-color: #d4ebff;}#sk-container-id-51 input.sk-hidden--visually {border: 0;clip: rect(1px 1px 1px 1px);clip: rect(1px, 1px, 1px, 1px);height: 1px;margin: -1px;overflow: hidden;padding: 0;position: absolute;width: 1px;}#sk-container-id-51 div.sk-estimator {font-family: monospace;background-color: #f0f8ff;border: 1px dotted black;border-radius: 0.25em;box-sizing: border-box;margin-bottom: 0.5em;}#sk-container-id-51 div.sk-estimator:hover {background-color: #d4ebff;}#sk-container-id-51 div.sk-parallel-item::after {content: \"\";width: 100%;border-bottom: 1px solid gray;flex-grow: 1;}#sk-container-id-51 div.sk-label:hover label.sk-toggleable__label {background-color: #d4ebff;}#sk-container-id-51 div.sk-serial::before {content: \"\";position: absolute;border-left: 1px solid gray;box-sizing: border-box;top: 0;bottom: 0;left: 50%;z-index: 0;}#sk-container-id-51 div.sk-serial {display: flex;flex-direction: column;align-items: center;background-color: white;padding-right: 0.2em;padding-left: 0.2em;position: relative;}#sk-container-id-51 div.sk-item {position: relative;z-index: 1;}#sk-container-id-51 div.sk-parallel {display: flex;align-items: stretch;justify-content: center;background-color: white;position: relative;}#sk-container-id-51 div.sk-item::before, #sk-container-id-51 div.sk-parallel-item::before {content: \"\";position: absolute;border-left: 1px solid gray;box-sizing: border-box;top: 0;bottom: 0;left: 50%;z-index: -1;}#sk-container-id-51 div.sk-parallel-item {display: flex;flex-direction: column;z-index: 1;position: relative;background-color: white;}#sk-container-id-51 div.sk-parallel-item:first-child::after {align-self: flex-end;width: 50%;}#sk-container-id-51 div.sk-parallel-item:last-child::after {align-self: flex-start;width: 50%;}#sk-container-id-51 div.sk-parallel-item:only-child::after {width: 0;}#sk-container-id-51 div.sk-dashed-wrapped {border: 1px dashed gray;margin: 0 0.4em 0.5em 0.4em;box-sizing: border-box;padding-bottom: 0.4em;background-color: white;}#sk-container-id-51 div.sk-label label {font-family: monospace;font-weight: bold;display: inline-block;line-height: 1.2em;}#sk-container-id-51 div.sk-label-container {text-align: center;}#sk-container-id-51 div.sk-container {/* jupyter's `normalize.less` sets `[hidden] { display: none; }` but bootstrap.min.css set `[hidden] { display: none !important; }` so we also need the `!important` here to be able to override the default hidden behavior on the sphinx rendered scikit-learn.org. See: https://github.com/scikit-learn/scikit-learn/issues/21755 */display: inline-block !important;position: relative;}#sk-container-id-51 div.sk-text-repr-fallback {display: none;}</style><div id=\"sk-container-id-51\" class=\"sk-top-container\"><div class=\"sk-text-repr-fallback\"><pre>KNeighborsClassifier(metric=&#x27;cosine&#x27;, n_neighbors=7)</pre><b>In a Jupyter environment, please rerun this cell to show the HTML representation or trust the notebook. <br />On GitHub, the HTML representation is unable to render, please try loading this page with nbviewer.org.</b></div><div class=\"sk-container\" hidden><div class=\"sk-item\"><div class=\"sk-estimator sk-toggleable\"><input class=\"sk-toggleable__control sk-hidden--visually\" id=\"sk-estimator-id-76\" type=\"checkbox\" checked><label for=\"sk-estimator-id-76\" class=\"sk-toggleable__label sk-toggleable__label-arrow\">KNeighborsClassifier</label><div class=\"sk-toggleable__content\"><pre>KNeighborsClassifier(metric=&#x27;cosine&#x27;, n_neighbors=7)</pre></div></div></div></div></div>"
      ],
      "text/plain": [
       "KNeighborsClassifier(metric='cosine', n_neighbors=7)"
      ]
     },
     "execution_count": 221,
     "metadata": {},
     "output_type": "execute_result"
    }
   ],
   "source": [
    "knn_model = KNeighborsClassifier(n_neighbors=7, metric='cosine')\n",
    "\n",
    "\n",
    "# train \n",
    "knn_model.fit(X_train_vectorized, y_train) #np.ravel(y_train)?"
   ]
  },
  {
   "cell_type": "code",
   "execution_count": 222,
   "id": "2697495d-7e7b-464e-8edf-4cbdff9e5302",
   "metadata": {
    "tags": []
   },
   "outputs": [
    {
     "name": "stdout",
     "output_type": "stream",
     "text": [
      "Accuracy = 0.76822\n",
      "AUC = 0.803\n"
     ]
    },
    {
     "data": {
      "text/plain": [
       "<sklearn.metrics._plot.confusion_matrix.ConfusionMatrixDisplay at 0x7fda9735b6d0>"
      ]
     },
     "execution_count": 222,
     "metadata": {},
     "output_type": "execute_result"
    },
    {
     "data": {
      "image/png": "[encoded data removed]",
      "text/plain": [
       "<Figure size 640x480 with 2 Axes>"
      ]
     },
     "metadata": {},
     "output_type": "display_data"
    }
   ],
   "source": [
    "predictions = knn_model.predict(X_test_vectorized)\n",
    "predict_probab = knn_model.predict_proba(X_test_vectorized)[:,1]\n",
    "\n",
    "print(\"Accuracy = {:.5f}\".format(accuracy_score(y_test, predictions)))\n",
    "print(\"AUC = {:.3f}\".format(roc_auc_score(y_test, predict_probab)))\n",
    "\n",
    "\n",
    "confusion_matrix_model = ConfusionMatrixDisplay(confusion_matrix(y_test, predictions))\n",
    "confusion_matrix_model.plot()\n"
   ]
  },
  {
   "cell_type": "code",
   "execution_count": 224,
   "id": "d23b1c3d-ad59-451e-89cf-587b41d2721d",
   "metadata": {
    "tags": []
   },
   "outputs": [
    {
     "data": {
      "text/html": [
       "<style>#sk-container-id-53 {color: black;background-color: white;}#sk-container-id-53 pre{padding: 0;}#sk-container-id-53 div.sk-toggleable {background-color: white;}#sk-container-id-53 label.sk-toggleable__label {cursor: pointer;display: block;width: 100%;margin-bottom: 0;padding: 0.3em;box-sizing: border-box;text-align: center;}#sk-container-id-53 label.sk-toggleable__label-arrow:before {content: \"▸\";float: left;margin-right: 0.25em;color: #696969;}#sk-container-id-53 label.sk-toggleable__label-arrow:hover:before {color: black;}#sk-container-id-53 div.sk-estimator:hover label.sk-toggleable__label-arrow:before {color: black;}#sk-container-id-53 div.sk-toggleable__content {max-height: 0;max-width: 0;overflow: hidden;text-align: left;background-color: #f0f8ff;}#sk-container-id-53 div.sk-toggleable__content pre {margin: 0.2em;color: black;border-radius: 0.25em;background-color: #f0f8ff;}#sk-container-id-53 input.sk-toggleable__control:checked~div.sk-toggleable__content {max-height: 200px;max-width: 100%;overflow: auto;}#sk-container-id-53 input.sk-toggleable__control:checked~label.sk-toggleable__label-arrow:before {content: \"▾\";}#sk-container-id-53 div.sk-estimator input.sk-toggleable__control:checked~label.sk-toggleable__label {background-color: #d4ebff;}#sk-container-id-53 div.sk-label input.sk-toggleable__control:checked~label.sk-toggleable__label {background-color: #d4ebff;}#sk-container-id-53 input.sk-hidden--visually {border: 0;clip: rect(1px 1px 1px 1px);clip: rect(1px, 1px, 1px, 1px);height: 1px;margin: -1px;overflow: hidden;padding: 0;position: absolute;width: 1px;}#sk-container-id-53 div.sk-estimator {font-family: monospace;background-color: #f0f8ff;border: 1px dotted black;border-radius: 0.25em;box-sizing: border-box;margin-bottom: 0.5em;}#sk-container-id-53 div.sk-estimator:hover {background-color: #d4ebff;}#sk-container-id-53 div.sk-parallel-item::after {content: \"\";width: 100%;border-bottom: 1px solid gray;flex-grow: 1;}#sk-container-id-53 div.sk-label:hover label.sk-toggleable__label {background-color: #d4ebff;}#sk-container-id-53 div.sk-serial::before {content: \"\";position: absolute;border-left: 1px solid gray;box-sizing: border-box;top: 0;bottom: 0;left: 50%;z-index: 0;}#sk-container-id-53 div.sk-serial {display: flex;flex-direction: column;align-items: center;background-color: white;padding-right: 0.2em;padding-left: 0.2em;position: relative;}#sk-container-id-53 div.sk-item {position: relative;z-index: 1;}#sk-container-id-53 div.sk-parallel {display: flex;align-items: stretch;justify-content: center;background-color: white;position: relative;}#sk-container-id-53 div.sk-item::before, #sk-container-id-53 div.sk-parallel-item::before {content: \"\";position: absolute;border-left: 1px solid gray;box-sizing: border-box;top: 0;bottom: 0;left: 50%;z-index: -1;}#sk-container-id-53 div.sk-parallel-item {display: flex;flex-direction: column;z-index: 1;position: relative;background-color: white;}#sk-container-id-53 div.sk-parallel-item:first-child::after {align-self: flex-end;width: 50%;}#sk-container-id-53 div.sk-parallel-item:last-child::after {align-self: flex-start;width: 50%;}#sk-container-id-53 div.sk-parallel-item:only-child::after {width: 0;}#sk-container-id-53 div.sk-dashed-wrapped {border: 1px dashed gray;margin: 0 0.4em 0.5em 0.4em;box-sizing: border-box;padding-bottom: 0.4em;background-color: white;}#sk-container-id-53 div.sk-label label {font-family: monospace;font-weight: bold;display: inline-block;line-height: 1.2em;}#sk-container-id-53 div.sk-label-container {text-align: center;}#sk-container-id-53 div.sk-container {/* jupyter's `normalize.less` sets `[hidden] { display: none; }` but bootstrap.min.css set `[hidden] { display: none !important; }` so we also need the `!important` here to be able to override the default hidden behavior on the sphinx rendered scikit-learn.org. See: https://github.com/scikit-learn/scikit-learn/issues/21755 */display: inline-block !important;position: relative;}#sk-container-id-53 div.sk-text-repr-fallback {display: none;}</style><div id=\"sk-container-id-53\" class=\"sk-top-container\"><div class=\"sk-text-repr-fallback\"><pre>AdaBoostClassifier(random_state=777)</pre><b>In a Jupyter environment, please rerun this cell to show the HTML representation or trust the notebook. <br />On GitHub, the HTML representation is unable to render, please try loading this page with nbviewer.org.</b></div><div class=\"sk-container\" hidden><div class=\"sk-item\"><div class=\"sk-estimator sk-toggleable\"><input class=\"sk-toggleable__control sk-hidden--visually\" id=\"sk-estimator-id-78\" type=\"checkbox\" checked><label for=\"sk-estimator-id-78\" class=\"sk-toggleable__label sk-toggleable__label-arrow\">AdaBoostClassifier</label><div class=\"sk-toggleable__content\"><pre>AdaBoostClassifier(random_state=777)</pre></div></div></div></div></div>"
      ],
      "text/plain": [
       "AdaBoostClassifier(random_state=777)"
      ]
     },
     "execution_count": 224,
     "metadata": {},
     "output_type": "execute_result"
    }
   ],
   "source": [
    "\n",
    "\n",
    "\n",
    "adaboo_model = AdaBoostClassifier(random_state=777)\n",
    "adaboo_model.fit(X_train_vectorized, y_train)\n"
   ]
  },
  {
   "cell_type": "code",
   "execution_count": 225,
   "id": "268d4692-3691-405d-ad23-a50bc7563740",
   "metadata": {
    "tags": []
   },
   "outputs": [
    {
     "name": "stdout",
     "output_type": "stream",
     "text": [
      "Accuracy = 0.75181\n",
      "AUC = 0.799\n"
     ]
    },
    {
     "data": {
      "text/plain": [
       "<sklearn.metrics._plot.confusion_matrix.ConfusionMatrixDisplay at 0x7fda97368310>"
      ]
     },
     "execution_count": 225,
     "metadata": {},
     "output_type": "execute_result"
    },
    {
     "data": {
      "image/png": "[encoded data removed]",
      "text/plain": [
       "<Figure size 640x480 with 2 Axes>"
      ]
     },
     "metadata": {},
     "output_type": "display_data"
    }
   ],
   "source": [
    "predictions = adaboo_model.predict(X_test_vectorized)\n",
    "predict_probab = adaboo_model.predict_proba(X_test_vectorized)[:,1]\n",
    "\n",
    "print(\"Accuracy = {:.5f}\".format(accuracy_score(y_test, predictions)))\n",
    "print(\"AUC = {:.3f}\".format(roc_auc_score(y_test, predict_probab)))\n",
    "\n",
    "\n",
    "confusion_matrix_model = ConfusionMatrixDisplay(confusion_matrix(y_test, predictions))\n",
    "confusion_matrix_model.plot()\n"
   ]
  },
  {
   "cell_type": "markdown",
   "id": "7fb55024-7638-4675-a068-7ff99c1ed965",
   "metadata": {},
   "source": [
    "## Lets try stacking! Yey!"
   ]
  },
  {
   "cell_type": "code",
   "execution_count": 243,
   "id": "8f66b401-b0cd-4092-8a11-ce95cb165cc6",
   "metadata": {
    "tags": []
   },
   "outputs": [
    {
     "data": {
      "text/html": [
       "<style>#sk-container-id-61 {color: black;background-color: white;}#sk-container-id-61 pre{padding: 0;}#sk-container-id-61 div.sk-toggleable {background-color: white;}#sk-container-id-61 label.sk-toggleable__label {cursor: pointer;display: block;width: 100%;margin-bottom: 0;padding: 0.3em;box-sizing: border-box;text-align: center;}#sk-container-id-61 label.sk-toggleable__label-arrow:before {content: \"▸\";float: left;margin-right: 0.25em;color: #696969;}#sk-container-id-61 label.sk-toggleable__label-arrow:hover:before {color: black;}#sk-container-id-61 div.sk-estimator:hover label.sk-toggleable__label-arrow:before {color: black;}#sk-container-id-61 div.sk-toggleable__content {max-height: 0;max-width: 0;overflow: hidden;text-align: left;background-color: #f0f8ff;}#sk-container-id-61 div.sk-toggleable__content pre {margin: 0.2em;color: black;border-radius: 0.25em;background-color: #f0f8ff;}#sk-container-id-61 input.sk-toggleable__control:checked~div.sk-toggleable__content {max-height: 200px;max-width: 100%;overflow: auto;}#sk-container-id-61 input.sk-toggleable__control:checked~label.sk-toggleable__label-arrow:before {content: \"▾\";}#sk-container-id-61 div.sk-estimator input.sk-toggleable__control:checked~label.sk-toggleable__label {background-color: #d4ebff;}#sk-container-id-61 div.sk-label input.sk-toggleable__control:checked~label.sk-toggleable__label {background-color: #d4ebff;}#sk-container-id-61 input.sk-hidden--visually {border: 0;clip: rect(1px 1px 1px 1px);clip: rect(1px, 1px, 1px, 1px);height: 1px;margin: -1px;overflow: hidden;padding: 0;position: absolute;width: 1px;}#sk-container-id-61 div.sk-estimator {font-family: monospace;background-color: #f0f8ff;border: 1px dotted black;border-radius: 0.25em;box-sizing: border-box;margin-bottom: 0.5em;}#sk-container-id-61 div.sk-estimator:hover {background-color: #d4ebff;}#sk-container-id-61 div.sk-parallel-item::after {content: \"\";width: 100%;border-bottom: 1px solid gray;flex-grow: 1;}#sk-container-id-61 div.sk-label:hover label.sk-toggleable__label {background-color: #d4ebff;}#sk-container-id-61 div.sk-serial::before {content: \"\";position: absolute;border-left: 1px solid gray;box-sizing: border-box;top: 0;bottom: 0;left: 50%;z-index: 0;}#sk-container-id-61 div.sk-serial {display: flex;flex-direction: column;align-items: center;background-color: white;padding-right: 0.2em;padding-left: 0.2em;position: relative;}#sk-container-id-61 div.sk-item {position: relative;z-index: 1;}#sk-container-id-61 div.sk-parallel {display: flex;align-items: stretch;justify-content: center;background-color: white;position: relative;}#sk-container-id-61 div.sk-item::before, #sk-container-id-61 div.sk-parallel-item::before {content: \"\";position: absolute;border-left: 1px solid gray;box-sizing: border-box;top: 0;bottom: 0;left: 50%;z-index: -1;}#sk-container-id-61 div.sk-parallel-item {display: flex;flex-direction: column;z-index: 1;position: relative;background-color: white;}#sk-container-id-61 div.sk-parallel-item:first-child::after {align-self: flex-end;width: 50%;}#sk-container-id-61 div.sk-parallel-item:last-child::after {align-self: flex-start;width: 50%;}#sk-container-id-61 div.sk-parallel-item:only-child::after {width: 0;}#sk-container-id-61 div.sk-dashed-wrapped {border: 1px dashed gray;margin: 0 0.4em 0.5em 0.4em;box-sizing: border-box;padding-bottom: 0.4em;background-color: white;}#sk-container-id-61 div.sk-label label {font-family: monospace;font-weight: bold;display: inline-block;line-height: 1.2em;}#sk-container-id-61 div.sk-label-container {text-align: center;}#sk-container-id-61 div.sk-container {/* jupyter's `normalize.less` sets `[hidden] { display: none; }` but bootstrap.min.css set `[hidden] { display: none !important; }` so we also need the `!important` here to be able to override the default hidden behavior on the sphinx rendered scikit-learn.org. See: https://github.com/scikit-learn/scikit-learn/issues/21755 */display: inline-block !important;position: relative;}#sk-container-id-61 div.sk-text-repr-fallback {display: none;}</style><div id=\"sk-container-id-61\" class=\"sk-top-container\"><div class=\"sk-text-repr-fallback\"><pre>StackingClassifier(estimators=[(&#x27;log_reg_model&#x27;,\n",
       "                                LogisticRegression(max_iter=777)),\n",
       "                               (&#x27;random_forest_model&#x27;,\n",
       "                                RandomForestClassifier(n_estimators=300,\n",
       "                                                       n_jobs=-1,\n",
       "                                                       random_state=777)),\n",
       "                               (&#x27;adaboo_model&#x27;,\n",
       "                                AdaBoostClassifier(random_state=777))],\n",
       "                   final_estimator=LogisticRegression())</pre><b>In a Jupyter environment, please rerun this cell to show the HTML representation or trust the notebook. <br />On GitHub, the HTML representation is unable to render, please try loading this page with nbviewer.org.</b></div><div class=\"sk-container\" hidden><div class=\"sk-item sk-dashed-wrapped\"><div class=\"sk-label-container\"><div class=\"sk-label sk-toggleable\"><input class=\"sk-toggleable__control sk-hidden--visually\" id=\"sk-estimator-id-121\" type=\"checkbox\" ><label for=\"sk-estimator-id-121\" class=\"sk-toggleable__label sk-toggleable__label-arrow\">StackingClassifier</label><div class=\"sk-toggleable__content\"><pre>StackingClassifier(estimators=[(&#x27;log_reg_model&#x27;,\n",
       "                                LogisticRegression(max_iter=777)),\n",
       "                               (&#x27;random_forest_model&#x27;,\n",
       "                                RandomForestClassifier(n_estimators=300,\n",
       "                                                       n_jobs=-1,\n",
       "                                                       random_state=777)),\n",
       "                               (&#x27;adaboo_model&#x27;,\n",
       "                                AdaBoostClassifier(random_state=777))],\n",
       "                   final_estimator=LogisticRegression())</pre></div></div></div><div class=\"sk-serial\"><div class=\"sk-item\"><div class=\"sk-parallel\"><div class=\"sk-parallel-item\"><div class=\"sk-item\"><div class=\"sk-label-container\"><div class=\"sk-label sk-toggleable\"><label>log_reg_model</label></div></div><div class=\"sk-serial\"><div class=\"sk-item\"><div class=\"sk-estimator sk-toggleable\"><input class=\"sk-toggleable__control sk-hidden--visually\" id=\"sk-estimator-id-122\" type=\"checkbox\" ><label for=\"sk-estimator-id-122\" class=\"sk-toggleable__label sk-toggleable__label-arrow\">LogisticRegression</label><div class=\"sk-toggleable__content\"><pre>LogisticRegression(max_iter=777)</pre></div></div></div></div></div></div><div class=\"sk-parallel-item\"><div class=\"sk-item\"><div class=\"sk-label-container\"><div class=\"sk-label sk-toggleable\"><label>random_forest_model</label></div></div><div class=\"sk-serial\"><div class=\"sk-item\"><div class=\"sk-estimator sk-toggleable\"><input class=\"sk-toggleable__control sk-hidden--visually\" id=\"sk-estimator-id-123\" type=\"checkbox\" ><label for=\"sk-estimator-id-123\" class=\"sk-toggleable__label sk-toggleable__label-arrow\">RandomForestClassifier</label><div class=\"sk-toggleable__content\"><pre>RandomForestClassifier(n_estimators=300, n_jobs=-1, random_state=777)</pre></div></div></div></div></div></div><div class=\"sk-parallel-item\"><div class=\"sk-item\"><div class=\"sk-label-container\"><div class=\"sk-label sk-toggleable\"><label>adaboo_model</label></div></div><div class=\"sk-serial\"><div class=\"sk-item\"><div class=\"sk-estimator sk-toggleable\"><input class=\"sk-toggleable__control sk-hidden--visually\" id=\"sk-estimator-id-124\" type=\"checkbox\" ><label for=\"sk-estimator-id-124\" class=\"sk-toggleable__label sk-toggleable__label-arrow\">AdaBoostClassifier</label><div class=\"sk-toggleable__content\"><pre>AdaBoostClassifier(random_state=777)</pre></div></div></div></div></div></div></div></div><div class=\"sk-item\"><div class=\"sk-parallel\"><div class=\"sk-parallel-item\"><div class=\"sk-item\"><div class=\"sk-label-container\"><div class=\"sk-label sk-toggleable\"><label>final_estimator</label></div></div><div class=\"sk-serial\"><div class=\"sk-item\"><div class=\"sk-estimator sk-toggleable\"><input class=\"sk-toggleable__control sk-hidden--visually\" id=\"sk-estimator-id-125\" type=\"checkbox\" ><label for=\"sk-estimator-id-125\" class=\"sk-toggleable__label sk-toggleable__label-arrow\">LogisticRegression</label><div class=\"sk-toggleable__content\"><pre>LogisticRegression()</pre></div></div></div></div></div></div></div></div></div></div></div></div>"
      ],
      "text/plain": [
       "StackingClassifier(estimators=[('log_reg_model',\n",
       "                                LogisticRegression(max_iter=777)),\n",
       "                               ('random_forest_model',\n",
       "                                RandomForestClassifier(n_estimators=300,\n",
       "                                                       n_jobs=-1,\n",
       "                                                       random_state=777)),\n",
       "                               ('adaboo_model',\n",
       "                                AdaBoostClassifier(random_state=777))],\n",
       "                   final_estimator=LogisticRegression())"
      ]
     },
     "execution_count": 243,
     "metadata": {},
     "output_type": "execute_result"
    }
   ],
   "source": [
    "estimators = [\n",
    "    ('log_reg_model', log_reg_model),\n",
    "    #('tree_model', tree_model),\n",
    "    ('random_forest_model', random_forest_model),\n",
    "    #('knn_model', knn_model),\n",
    "    ('adaboo_model',adaboo_model)\n",
    "]\n",
    "\n",
    "stacking_model = StackingClassifier(estimators = estimators, final_estimator = LogisticRegression())\n",
    "stacking_model.fit(X_train_vectorized, y_train)#.score(X_test, y_test)\n",
    "\n"
   ]
  },
  {
   "cell_type": "code",
   "execution_count": 247,
   "id": "67c6694f-ef66-4a3a-b543-4d835b905b2e",
   "metadata": {
    "tags": []
   },
   "outputs": [
    {
     "name": "stdout",
     "output_type": "stream",
     "text": [
      "Accuracy = 0.78792\n",
      "AUC = 0.849\n"
     ]
    },
    {
     "data": {
      "text/plain": [
       "<sklearn.metrics._plot.confusion_matrix.ConfusionMatrixDisplay at 0x7fda9ce066d0>"
      ]
     },
     "execution_count": 247,
     "metadata": {},
     "output_type": "execute_result"
    },
    {
     "data": {
      "image/png": "[encoded data removed]",
      "text/plain": [
       "<Figure size 640x480 with 2 Axes>"
      ]
     },
     "metadata": {},
     "output_type": "display_data"
    }
   ],
   "source": [
    "predictions = stacking_model.predict(vect.transform(X_test))\n",
    "predict_probab = stacking_model.predict_proba(vect.transform(X_test))[:,1]\n",
    "\n",
    "print(\"Accuracy = {:.5f}\".format(accuracy_score(y_test, predictions)))\n",
    "print(\"AUC = {:.3f}\".format(roc_auc_score(y_test, predict_probab)))\n",
    "\n",
    "\n",
    "confusion_matrix_model = ConfusionMatrixDisplay(confusion_matrix(y_test, predictions))\n",
    "confusion_matrix_model.plot()\n"
   ]
  },
  {
   "cell_type": "markdown",
   "id": "f8b6ac1d-fe8d-498a-a901-e5fd22fde98a",
   "metadata": {},
   "source": [
    "## And a voting method"
   ]
  },
  {
   "cell_type": "code",
   "execution_count": 248,
   "id": "7b495843-165f-4425-98ac-489fb83fbb27",
   "metadata": {},
   "outputs": [
    {
     "data": {
      "text/html": [
       "<style>#sk-container-id-63 {color: black;background-color: white;}#sk-container-id-63 pre{padding: 0;}#sk-container-id-63 div.sk-toggleable {background-color: white;}#sk-container-id-63 label.sk-toggleable__label {cursor: pointer;display: block;width: 100%;margin-bottom: 0;padding: 0.3em;box-sizing: border-box;text-align: center;}#sk-container-id-63 label.sk-toggleable__label-arrow:before {content: \"▸\";float: left;margin-right: 0.25em;color: #696969;}#sk-container-id-63 label.sk-toggleable__label-arrow:hover:before {color: black;}#sk-container-id-63 div.sk-estimator:hover label.sk-toggleable__label-arrow:before {color: black;}#sk-container-id-63 div.sk-toggleable__content {max-height: 0;max-width: 0;overflow: hidden;text-align: left;background-color: #f0f8ff;}#sk-container-id-63 div.sk-toggleable__content pre {margin: 0.2em;color: black;border-radius: 0.25em;background-color: #f0f8ff;}#sk-container-id-63 input.sk-toggleable__control:checked~div.sk-toggleable__content {max-height: 200px;max-width: 100%;overflow: auto;}#sk-container-id-63 input.sk-toggleable__control:checked~label.sk-toggleable__label-arrow:before {content: \"▾\";}#sk-container-id-63 div.sk-estimator input.sk-toggleable__control:checked~label.sk-toggleable__label {background-color: #d4ebff;}#sk-container-id-63 div.sk-label input.sk-toggleable__control:checked~label.sk-toggleable__label {background-color: #d4ebff;}#sk-container-id-63 input.sk-hidden--visually {border: 0;clip: rect(1px 1px 1px 1px);clip: rect(1px, 1px, 1px, 1px);height: 1px;margin: -1px;overflow: hidden;padding: 0;position: absolute;width: 1px;}#sk-container-id-63 div.sk-estimator {font-family: monospace;background-color: #f0f8ff;border: 1px dotted black;border-radius: 0.25em;box-sizing: border-box;margin-bottom: 0.5em;}#sk-container-id-63 div.sk-estimator:hover {background-color: #d4ebff;}#sk-container-id-63 div.sk-parallel-item::after {content: \"\";width: 100%;border-bottom: 1px solid gray;flex-grow: 1;}#sk-container-id-63 div.sk-label:hover label.sk-toggleable__label {background-color: #d4ebff;}#sk-container-id-63 div.sk-serial::before {content: \"\";position: absolute;border-left: 1px solid gray;box-sizing: border-box;top: 0;bottom: 0;left: 50%;z-index: 0;}#sk-container-id-63 div.sk-serial {display: flex;flex-direction: column;align-items: center;background-color: white;padding-right: 0.2em;padding-left: 0.2em;position: relative;}#sk-container-id-63 div.sk-item {position: relative;z-index: 1;}#sk-container-id-63 div.sk-parallel {display: flex;align-items: stretch;justify-content: center;background-color: white;position: relative;}#sk-container-id-63 div.sk-item::before, #sk-container-id-63 div.sk-parallel-item::before {content: \"\";position: absolute;border-left: 1px solid gray;box-sizing: border-box;top: 0;bottom: 0;left: 50%;z-index: -1;}#sk-container-id-63 div.sk-parallel-item {display: flex;flex-direction: column;z-index: 1;position: relative;background-color: white;}#sk-container-id-63 div.sk-parallel-item:first-child::after {align-self: flex-end;width: 50%;}#sk-container-id-63 div.sk-parallel-item:last-child::after {align-self: flex-start;width: 50%;}#sk-container-id-63 div.sk-parallel-item:only-child::after {width: 0;}#sk-container-id-63 div.sk-dashed-wrapped {border: 1px dashed gray;margin: 0 0.4em 0.5em 0.4em;box-sizing: border-box;padding-bottom: 0.4em;background-color: white;}#sk-container-id-63 div.sk-label label {font-family: monospace;font-weight: bold;display: inline-block;line-height: 1.2em;}#sk-container-id-63 div.sk-label-container {text-align: center;}#sk-container-id-63 div.sk-container {/* jupyter's `normalize.less` sets `[hidden] { display: none; }` but bootstrap.min.css set `[hidden] { display: none !important; }` so we also need the `!important` here to be able to override the default hidden behavior on the sphinx rendered scikit-learn.org. See: https://github.com/scikit-learn/scikit-learn/issues/21755 */display: inline-block !important;position: relative;}#sk-container-id-63 div.sk-text-repr-fallback {display: none;}</style><div id=\"sk-container-id-63\" class=\"sk-top-container\"><div class=\"sk-text-repr-fallback\"><pre>VotingClassifier(estimators=[(&#x27;log_reg_model&#x27;,\n",
       "                              LogisticRegression(max_iter=777)),\n",
       "                             (&#x27;random_forest_model&#x27;,\n",
       "                              RandomForestClassifier(n_estimators=300,\n",
       "                                                     n_jobs=-1,\n",
       "                                                     random_state=777)),\n",
       "                             (&#x27;adaboo_model&#x27;,\n",
       "                              AdaBoostClassifier(random_state=777))])</pre><b>In a Jupyter environment, please rerun this cell to show the HTML representation or trust the notebook. <br />On GitHub, the HTML representation is unable to render, please try loading this page with nbviewer.org.</b></div><div class=\"sk-container\" hidden><div class=\"sk-item sk-dashed-wrapped\"><div class=\"sk-label-container\"><div class=\"sk-label sk-toggleable\"><input class=\"sk-toggleable__control sk-hidden--visually\" id=\"sk-estimator-id-130\" type=\"checkbox\" ><label for=\"sk-estimator-id-130\" class=\"sk-toggleable__label sk-toggleable__label-arrow\">VotingClassifier</label><div class=\"sk-toggleable__content\"><pre>VotingClassifier(estimators=[(&#x27;log_reg_model&#x27;,\n",
       "                              LogisticRegression(max_iter=777)),\n",
       "                             (&#x27;random_forest_model&#x27;,\n",
       "                              RandomForestClassifier(n_estimators=300,\n",
       "                                                     n_jobs=-1,\n",
       "                                                     random_state=777)),\n",
       "                             (&#x27;adaboo_model&#x27;,\n",
       "                              AdaBoostClassifier(random_state=777))])</pre></div></div></div><div class=\"sk-parallel\"><div class=\"sk-parallel-item\"><div class=\"sk-item\"><div class=\"sk-label-container\"><div class=\"sk-label sk-toggleable\"><label>log_reg_model</label></div></div><div class=\"sk-serial\"><div class=\"sk-item\"><div class=\"sk-estimator sk-toggleable\"><input class=\"sk-toggleable__control sk-hidden--visually\" id=\"sk-estimator-id-131\" type=\"checkbox\" ><label for=\"sk-estimator-id-131\" class=\"sk-toggleable__label sk-toggleable__label-arrow\">LogisticRegression</label><div class=\"sk-toggleable__content\"><pre>LogisticRegression(max_iter=777)</pre></div></div></div></div></div></div><div class=\"sk-parallel-item\"><div class=\"sk-item\"><div class=\"sk-label-container\"><div class=\"sk-label sk-toggleable\"><label>random_forest_model</label></div></div><div class=\"sk-serial\"><div class=\"sk-item\"><div class=\"sk-estimator sk-toggleable\"><input class=\"sk-toggleable__control sk-hidden--visually\" id=\"sk-estimator-id-132\" type=\"checkbox\" ><label for=\"sk-estimator-id-132\" class=\"sk-toggleable__label sk-toggleable__label-arrow\">RandomForestClassifier</label><div class=\"sk-toggleable__content\"><pre>RandomForestClassifier(n_estimators=300, n_jobs=-1, random_state=777)</pre></div></div></div></div></div></div><div class=\"sk-parallel-item\"><div class=\"sk-item\"><div class=\"sk-label-container\"><div class=\"sk-label sk-toggleable\"><label>adaboo_model</label></div></div><div class=\"sk-serial\"><div class=\"sk-item\"><div class=\"sk-estimator sk-toggleable\"><input class=\"sk-toggleable__control sk-hidden--visually\" id=\"sk-estimator-id-133\" type=\"checkbox\" ><label for=\"sk-estimator-id-133\" class=\"sk-toggleable__label sk-toggleable__label-arrow\">AdaBoostClassifier</label><div class=\"sk-toggleable__content\"><pre>AdaBoostClassifier(random_state=777)</pre></div></div></div></div></div></div></div></div></div></div>"
      ],
      "text/plain": [
       "VotingClassifier(estimators=[('log_reg_model',\n",
       "                              LogisticRegression(max_iter=777)),\n",
       "                             ('random_forest_model',\n",
       "                              RandomForestClassifier(n_estimators=300,\n",
       "                                                     n_jobs=-1,\n",
       "                                                     random_state=777)),\n",
       "                             ('adaboo_model',\n",
       "                              AdaBoostClassifier(random_state=777))])"
      ]
     },
     "execution_count": 248,
     "metadata": {},
     "output_type": "execute_result"
    }
   ],
   "source": [
    "voting_model = VotingClassifier(estimators = estimators, voting = 'hard')\n",
    "voting_model.fit(X_train_vectorized, y_train)"
   ]
  },
  {
   "cell_type": "code",
   "execution_count": 249,
   "id": "ee2995f0-c777-4000-a336-e0b21104e367",
   "metadata": {
    "tags": []
   },
   "outputs": [
    {
     "name": "stdout",
     "output_type": "stream",
     "text": [
      "Accuracy = 0.78726\n"
     ]
    },
    {
     "data": {
      "text/plain": [
       "<sklearn.metrics._plot.confusion_matrix.ConfusionMatrixDisplay at 0x7fda9d3cc150>"
      ]
     },
     "execution_count": 249,
     "metadata": {},
     "output_type": "execute_result"
    },
    {
     "data": {
      "image/png": "[encoded data removed]",
      "text/plain": [
       "<Figure size 640x480 with 2 Axes>"
      ]
     },
     "metadata": {},
     "output_type": "display_data"
    }
   ],
   "source": [
    "predictions = voting_model.predict(vect.transform(X_test))\n",
    "#predict_probab = voting_model.predict_proba(vect.transform(X_test))[:,1]\n",
    "\n",
    "print(\"Accuracy = {:.5f}\".format(accuracy_score(y_test, predictions)))\n",
    "#print(\"AUC = {:.3f}\".format(roc_auc_score(y_test, predict_probab)))\n",
    "\n",
    "\n",
    "confusion_matrix_model = ConfusionMatrixDisplay(confusion_matrix(y_test, predictions))\n",
    "confusion_matrix_model.plot()\n"
   ]
  },
  {
   "cell_type": "code",
   "execution_count": null,
   "id": "f49c632b-ad61-4edf-a994-47fc1a5221eb",
   "metadata": {},
   "outputs": [],
   "source": []
  },
  {
   "cell_type": "markdown",
   "id": "ab167a53-29b0-4588-ab14-2baa8b052a20",
   "metadata": {},
   "source": [
    "## Conclusion:\n",
    "\n",
    "### The highest AUC was achieved (for now) after stacking a Logistic Regression model, Random Forest, and Adaboost. It seems to yield the best balance between true negatives and true positives."
   ]
  },
  {
   "cell_type": "code",
   "execution_count": null,
   "id": "86aa1c55-adbd-494d-a170-3dc711f378a3",
   "metadata": {},
   "outputs": [],
   "source": []
  }
 ],
 "metadata": {
  "kernelspec": {
   "display_name": "Python 3 (ipykernel)",
   "language": "python",
   "name": "python3"
  },
  "language_info": {
   "codemirror_mode": {
    "name": "ipython",
    "version": 3
   },
   "file_extension": ".py",
   "mimetype": "text/x-python",
   "name": "python",
   "nbconvert_exporter": "python",
   "pygments_lexer": "ipython3",
   "version": "3.11.3"
  }
 },
 "nbformat": 4,
 "nbformat_minor": 5
}
