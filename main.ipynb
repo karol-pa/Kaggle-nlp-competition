{
 "cells": [
  {
   "cell_type": "code",
   "execution_count": null,
   "id": "0b17cffc-99bb-4eb2-8f62-f7001a0b693a",
   "metadata": {},
   "outputs": [],
   "source": []
  },
  {
   "cell_type": "markdown",
   "id": "63728142-e643-493f-806a-c6d6d4d11d9a",
   "metadata": {
    "tags": []
   },
   "source": [
    "<a id='TOC'/>\n",
    "\n",
    "### TOC (table of content)\n",
    "1. [Loading packages](#loading_packages)\n",
    "2. [Loading data](#loading_data)\n",
    "3. [Vectorizer](#vectorizer)\n",
    "4. [Model](#model)\n",
    "5. [Improvements](#improvements)"
   ]
  },
  {
   "cell_type": "code",
   "execution_count": null,
   "id": "ca30cad6-f9f4-4bfd-9976-391b9db77c49",
   "metadata": {},
   "outputs": [],
   "source": []
  },
  {
   "cell_type": "markdown",
   "id": "d3864f76-0668-48e0-960e-b6d864c1ae39",
   "metadata": {},
   "source": [
    "<a id='loading_packages'/>\n",
    "\n",
    "### Loading packages\n",
    "[Back to TOC](#TOC)"
   ]
  },
  {
   "cell_type": "code",
   "execution_count": 49,
   "id": "55e03f18-ce11-40c6-bc01-b0bb230b4d6d",
   "metadata": {
    "tags": []
   },
   "outputs": [
    {
     "name": "stderr",
     "output_type": "stream",
     "text": [
      "[nltk_data] Downloading package wordnet to /home/karol/nltk_data...\n",
      "[nltk_data]   Package wordnet is already up-to-date!\n",
      "[nltk_data] Downloading package omw-1.4 to /home/karol/nltk_data...\n",
      "[nltk_data]   Package omw-1.4 is already up-to-date!\n"
     ]
    },
    {
     "data": {
      "text/plain": [
       "True"
      ]
     },
     "execution_count": 49,
     "metadata": {},
     "output_type": "execute_result"
    }
   ],
   "source": [
    "import numpy as np # linear algebra\n",
    "import pandas as pd # data processing, CSV file I/O (e.g. pd.read_csv)\n",
    "\n",
    "\n",
    "from sklearn.model_selection import train_test_split, GridSearchCV\n",
    "from sklearn.feature_extraction.text import CountVectorizer, TfidfVectorizer\n",
    "from sklearn.linear_model import LogisticRegression\n",
    "from sklearn.metrics import roc_auc_score, accuracy_score, confusion_matrix, ConfusionMatrixDisplay\n",
    "\n",
    "import xgboost as xgb\n",
    "\n",
    "\n",
    "import nltk\n",
    "nltk.download('wordnet')\n",
    "nltk.download('omw-1.4')"
   ]
  },
  {
   "cell_type": "markdown",
   "id": "8c87d160-5b4b-453b-8c29-bf5c9029ca15",
   "metadata": {},
   "source": [
    "<a id='loading_data'/>\n",
    "\n",
    "### Loading data\n",
    "[Back to TOC](#TOC)"
   ]
  },
  {
   "cell_type": "code",
   "execution_count": 2,
   "id": "f740b176-5bbf-48bc-bfa8-ab6664258fd1",
   "metadata": {
    "tags": []
   },
   "outputs": [
    {
     "name": "stdout",
     "output_type": "stream",
     "text": [
      "Training Set Shape = (7613, 5)\n",
      "Training Set Memory Usage = 0.29 MB\n"
     ]
    }
   ],
   "source": [
    "df_train = pd.read_csv(\"train.csv\")\n",
    "df_test = pd.read_csv(\"test.csv\")\n",
    "df=df_train.copy()\n",
    "print('Training Set Shape = {}'.format(df_train.shape))\n",
    "print('Training Set Memory Usage = {:.2f} MB'.format(df_train.memory_usage().sum() / 1024**2))"
   ]
  },
  {
   "cell_type": "markdown",
   "id": "f4738fe9-37c9-4584-b5ac-e483611892e3",
   "metadata": {
    "tags": []
   },
   "source": [
    "Let's have a look at the train and test dataset.\n",
    "\n",
    "They contain:\n",
    "- id\n",
    "- keyword: A keyword from that tweet (although this may be blank!)\n",
    "- location: The location the tweet was sent from (may also be blank)\n",
    "- text: The text of a tweet\n",
    "- target: 1 if the tweet is a real disaster or 0 if not"
   ]
  },
  {
   "cell_type": "code",
   "execution_count": 3,
   "id": "7a347d79-6ff3-4ff3-bd76-bbc647dd20d5",
   "metadata": {
    "tags": []
   },
   "outputs": [
    {
     "data": {
      "text/html": [
       "<div>\n",
       "<style scoped>\n",
       "    .dataframe tbody tr th:only-of-type {\n",
       "        vertical-align: middle;\n",
       "    }\n",
       "\n",
       "    .dataframe tbody tr th {\n",
       "        vertical-align: top;\n",
       "    }\n",
       "\n",
       "    .dataframe thead th {\n",
       "        text-align: right;\n",
       "    }\n",
       "</style>\n",
       "<table border=\"1\" class=\"dataframe\">\n",
       "  <thead>\n",
       "    <tr style=\"text-align: right;\">\n",
       "      <th></th>\n",
       "      <th>id</th>\n",
       "      <th>keyword</th>\n",
       "      <th>location</th>\n",
       "      <th>text</th>\n",
       "      <th>target</th>\n",
       "    </tr>\n",
       "  </thead>\n",
       "  <tbody>\n",
       "    <tr>\n",
       "      <th>0</th>\n",
       "      <td>1</td>\n",
       "      <td>NaN</td>\n",
       "      <td>NaN</td>\n",
       "      <td>Our Deeds are the Reason of this #earthquake M...</td>\n",
       "      <td>1</td>\n",
       "    </tr>\n",
       "    <tr>\n",
       "      <th>1</th>\n",
       "      <td>4</td>\n",
       "      <td>NaN</td>\n",
       "      <td>NaN</td>\n",
       "      <td>Forest fire near La Ronge Sask. Canada</td>\n",
       "      <td>1</td>\n",
       "    </tr>\n",
       "    <tr>\n",
       "      <th>2</th>\n",
       "      <td>5</td>\n",
       "      <td>NaN</td>\n",
       "      <td>NaN</td>\n",
       "      <td>All residents asked to 'shelter in place' are ...</td>\n",
       "      <td>1</td>\n",
       "    </tr>\n",
       "    <tr>\n",
       "      <th>3</th>\n",
       "      <td>6</td>\n",
       "      <td>NaN</td>\n",
       "      <td>NaN</td>\n",
       "      <td>13,000 people receive #wildfires evacuation or...</td>\n",
       "      <td>1</td>\n",
       "    </tr>\n",
       "    <tr>\n",
       "      <th>4</th>\n",
       "      <td>7</td>\n",
       "      <td>NaN</td>\n",
       "      <td>NaN</td>\n",
       "      <td>Just got sent this photo from Ruby #Alaska as ...</td>\n",
       "      <td>1</td>\n",
       "    </tr>\n",
       "  </tbody>\n",
       "</table>\n",
       "</div>"
      ],
      "text/plain": [
       "   id keyword location                                               text  \\\n",
       "0   1     NaN      NaN  Our Deeds are the Reason of this #earthquake M...   \n",
       "1   4     NaN      NaN             Forest fire near La Ronge Sask. Canada   \n",
       "2   5     NaN      NaN  All residents asked to 'shelter in place' are ...   \n",
       "3   6     NaN      NaN  13,000 people receive #wildfires evacuation or...   \n",
       "4   7     NaN      NaN  Just got sent this photo from Ruby #Alaska as ...   \n",
       "\n",
       "   target  \n",
       "0       1  \n",
       "1       1  \n",
       "2       1  \n",
       "3       1  \n",
       "4       1  "
      ]
     },
     "execution_count": 3,
     "metadata": {},
     "output_type": "execute_result"
    }
   ],
   "source": [
    "df.head()"
   ]
  },
  {
   "cell_type": "code",
   "execution_count": 4,
   "id": "ccf6c4e8-a1af-4af6-a80d-320dc033df4c",
   "metadata": {
    "tags": []
   },
   "outputs": [
    {
     "name": "stdout",
     "output_type": "stream",
     "text": [
      "The data contains 3271 actual disasters (42.97% of all data).\n"
     ]
    }
   ],
   "source": [
    "print(\n",
    "    \"The data contains {} actual disasters ({:.2%} of all data).\".format(\n",
    "        df[df.target == 1].shape[0],\n",
    "        df[df.target == 1].shape[0] / df.shape[0],\n",
    "    )\n",
    ")"
   ]
  },
  {
   "cell_type": "code",
   "execution_count": 5,
   "id": "8eb36cd9-8889-4759-a687-5a1778a3d2b9",
   "metadata": {
    "tags": []
   },
   "outputs": [
    {
     "name": "stdout",
     "output_type": "stream",
     "text": [
      "Examples of actual disaster tweet: \n",
      "    @nycdivorcelaw TRUMP IS A CLIMATE DENIER- algae bloom in the pacific from calif to alska- seeweed in caribean forest fires- SNOWBALL INHOFE\n",
      "    Strikers in Phalaborwa striking over the CHINESE taking their jobs. Strikers burning buildings attacking cars 2... http://t.co/08LnGClZsj\n",
      "\n",
      "Examples of a tweet with no disaster behind it: \n",
      "    The Body Bags has a show on 08/07/2015 at 07:30 PM @ Tremont Music Hall in Charlotte NC http://t.co/FpKiqbus9r #concert\n",
      "    #AyekoRadio play Brasswork Agency - Crushed and Shaken http://t.co/Qh5axvhWH5 #Radio #NetLabel #ElectronicMusic #listen #CCMusic\n"
     ]
    }
   ],
   "source": [
    "print(\n",
    "    \"Examples of actual disaster tweet: \\n    {}\\n    {}\".format(\n",
    "        df[df.target == 1].sample(1).text.iloc[0],\n",
    "        df[df.target == 1].sample(1).text.iloc[0],\n",
    "    )\n",
    ")\n",
    "print(\n",
    "    \"\\nExamples of a tweet with no disaster behind it: \\n    {}\\n    {}\".format(\n",
    "        df[df.target == 0].sample(1).text.iloc[0],\n",
    "        df[df.target == 0].sample(1).text.iloc[0],\n",
    "    )\n",
    ")"
   ]
  },
  {
   "cell_type": "markdown",
   "id": "83ec6860-de4c-4ee3-9e6c-bb8a1e78bd31",
   "metadata": {},
   "source": [
    "<a id='vectorizer'/>\n",
    "\n",
    "### Vectorizer\n",
    "[Back to TOC](#TOC)"
   ]
  },
  {
   "cell_type": "code",
   "execution_count": 6,
   "id": "723ff8da-6fc3-489f-8dea-1e7661dbc79f",
   "metadata": {
    "tags": []
   },
   "outputs": [],
   "source": [
    "X_train, X_val, y_train, y_val = train_test_split(df_train[\"text\"], df_train[\"target\"], random_state=777,test_size=0.2)\n",
    "X_test = df_test[\"text\"]"
   ]
  },
  {
   "cell_type": "markdown",
   "id": "ae439de9-c764-4abe-a18b-33643d9a1a26",
   "metadata": {
    "tags": []
   },
   "source": [
    "Transform the text so that each word is a separate feature and count how many times that word occurs. (Save as a sparse matrix.)"
   ]
  },
  {
   "cell_type": "code",
   "execution_count": 7,
   "id": "0a3af641-3402-443d-9cec-ee3fd9788057",
   "metadata": {
    "tags": []
   },
   "outputs": [
    {
     "data": {
      "text/html": [
       "<style>#sk-container-id-1 {color: black;background-color: white;}#sk-container-id-1 pre{padding: 0;}#sk-container-id-1 div.sk-toggleable {background-color: white;}#sk-container-id-1 label.sk-toggleable__label {cursor: pointer;display: block;width: 100%;margin-bottom: 0;padding: 0.3em;box-sizing: border-box;text-align: center;}#sk-container-id-1 label.sk-toggleable__label-arrow:before {content: \"▸\";float: left;margin-right: 0.25em;color: #696969;}#sk-container-id-1 label.sk-toggleable__label-arrow:hover:before {color: black;}#sk-container-id-1 div.sk-estimator:hover label.sk-toggleable__label-arrow:before {color: black;}#sk-container-id-1 div.sk-toggleable__content {max-height: 0;max-width: 0;overflow: hidden;text-align: left;background-color: #f0f8ff;}#sk-container-id-1 div.sk-toggleable__content pre {margin: 0.2em;color: black;border-radius: 0.25em;background-color: #f0f8ff;}#sk-container-id-1 input.sk-toggleable__control:checked~div.sk-toggleable__content {max-height: 200px;max-width: 100%;overflow: auto;}#sk-container-id-1 input.sk-toggleable__control:checked~label.sk-toggleable__label-arrow:before {content: \"▾\";}#sk-container-id-1 div.sk-estimator input.sk-toggleable__control:checked~label.sk-toggleable__label {background-color: #d4ebff;}#sk-container-id-1 div.sk-label input.sk-toggleable__control:checked~label.sk-toggleable__label {background-color: #d4ebff;}#sk-container-id-1 input.sk-hidden--visually {border: 0;clip: rect(1px 1px 1px 1px);clip: rect(1px, 1px, 1px, 1px);height: 1px;margin: -1px;overflow: hidden;padding: 0;position: absolute;width: 1px;}#sk-container-id-1 div.sk-estimator {font-family: monospace;background-color: #f0f8ff;border: 1px dotted black;border-radius: 0.25em;box-sizing: border-box;margin-bottom: 0.5em;}#sk-container-id-1 div.sk-estimator:hover {background-color: #d4ebff;}#sk-container-id-1 div.sk-parallel-item::after {content: \"\";width: 100%;border-bottom: 1px solid gray;flex-grow: 1;}#sk-container-id-1 div.sk-label:hover label.sk-toggleable__label {background-color: #d4ebff;}#sk-container-id-1 div.sk-serial::before {content: \"\";position: absolute;border-left: 1px solid gray;box-sizing: border-box;top: 0;bottom: 0;left: 50%;z-index: 0;}#sk-container-id-1 div.sk-serial {display: flex;flex-direction: column;align-items: center;background-color: white;padding-right: 0.2em;padding-left: 0.2em;position: relative;}#sk-container-id-1 div.sk-item {position: relative;z-index: 1;}#sk-container-id-1 div.sk-parallel {display: flex;align-items: stretch;justify-content: center;background-color: white;position: relative;}#sk-container-id-1 div.sk-item::before, #sk-container-id-1 div.sk-parallel-item::before {content: \"\";position: absolute;border-left: 1px solid gray;box-sizing: border-box;top: 0;bottom: 0;left: 50%;z-index: -1;}#sk-container-id-1 div.sk-parallel-item {display: flex;flex-direction: column;z-index: 1;position: relative;background-color: white;}#sk-container-id-1 div.sk-parallel-item:first-child::after {align-self: flex-end;width: 50%;}#sk-container-id-1 div.sk-parallel-item:last-child::after {align-self: flex-start;width: 50%;}#sk-container-id-1 div.sk-parallel-item:only-child::after {width: 0;}#sk-container-id-1 div.sk-dashed-wrapped {border: 1px dashed gray;margin: 0 0.4em 0.5em 0.4em;box-sizing: border-box;padding-bottom: 0.4em;background-color: white;}#sk-container-id-1 div.sk-label label {font-family: monospace;font-weight: bold;display: inline-block;line-height: 1.2em;}#sk-container-id-1 div.sk-label-container {text-align: center;}#sk-container-id-1 div.sk-container {/* jupyter's `normalize.less` sets `[hidden] { display: none; }` but bootstrap.min.css set `[hidden] { display: none !important; }` so we also need the `!important` here to be able to override the default hidden behavior on the sphinx rendered scikit-learn.org. See: https://github.com/scikit-learn/scikit-learn/issues/21755 */display: inline-block !important;position: relative;}#sk-container-id-1 div.sk-text-repr-fallback {display: none;}</style><div id=\"sk-container-id-1\" class=\"sk-top-container\"><div class=\"sk-text-repr-fallback\"><pre>CountVectorizer()</pre><b>In a Jupyter environment, please rerun this cell to show the HTML representation or trust the notebook. <br />On GitHub, the HTML representation is unable to render, please try loading this page with nbviewer.org.</b></div><div class=\"sk-container\" hidden><div class=\"sk-item\"><div class=\"sk-estimator sk-toggleable\"><input class=\"sk-toggleable__control sk-hidden--visually\" id=\"sk-estimator-id-1\" type=\"checkbox\" checked><label for=\"sk-estimator-id-1\" class=\"sk-toggleable__label sk-toggleable__label-arrow\">CountVectorizer</label><div class=\"sk-toggleable__content\"><pre>CountVectorizer()</pre></div></div></div></div></div>"
      ],
      "text/plain": [
       "CountVectorizer()"
      ]
     },
     "execution_count": 7,
     "metadata": {},
     "output_type": "execute_result"
    }
   ],
   "source": [
    "# Fit the CountVectorizer to the training data\n",
    "vect = CountVectorizer().fit(X_train)\n",
    "\n",
    "# transform the text in the training data to a text-term matrix\n",
    "X_train_vectorized = vect.transform(X_train)\n",
    "\n",
    "vect"
   ]
  },
  {
   "cell_type": "markdown",
   "id": "8f999cf3-7a72-454f-8ba3-bbcabbf91f57",
   "metadata": {
    "tags": []
   },
   "source": [
    "Vocabulary sample:"
   ]
  },
  {
   "cell_type": "code",
   "execution_count": 8,
   "id": "a6c28941-ad3d-47fe-862f-4f5bed968025",
   "metadata": {
    "tags": []
   },
   "outputs": [
    {
     "data": {
      "text/plain": [
       "[('concert', 4000),\n",
       " ('concluded', 4001),\n",
       " ('concludes', 4002),\n",
       " ('conclusions', 4003),\n",
       " ('conclusively', 4004),\n",
       " ('concrete', 4005),\n",
       " ('concur', 4006),\n",
       " ('concussion', 4007),\n",
       " ('condemn', 4008),\n",
       " ('condemnation', 4009)]"
      ]
     },
     "execution_count": 8,
     "metadata": {},
     "output_type": "execute_result"
    }
   ],
   "source": [
    "sorted(vect.vocabulary_.items())[4000:4010]"
   ]
  },
  {
   "cell_type": "code",
   "execution_count": 9,
   "id": "bb5aa2ab-a1fa-4d6a-a139-129662d0a520",
   "metadata": {
    "tags": []
   },
   "outputs": [
    {
     "name": "stdout",
     "output_type": "stream",
     "text": [
      "The training data contains 18519 different words (columns) across 6090 messages (rows).\n"
     ]
    }
   ],
   "source": [
    "print(\n",
    "    \"The training data contains {} different words (columns) across {} messages (rows).\".format( \n",
    "                                                            len(vect.vocabulary_.items()),\n",
    "                                                            X_train.shape[0]\n",
    "                                                           )\n",
    "     )"
   ]
  },
  {
   "cell_type": "markdown",
   "id": "aaac3a9a-1924-4ede-bf2a-ef160c05c176",
   "metadata": {},
   "source": [
    "Show the (sparse) feature matrix:"
   ]
  },
  {
   "cell_type": "code",
   "execution_count": 10,
   "id": "ac6daa7d-66f8-4087-90f4-d477acd8c06e",
   "metadata": {
    "tags": []
   },
   "outputs": [
    {
     "data": {
      "text/plain": [
       "array([[0, 0, 0, ..., 0, 0, 0],\n",
       "       [0, 0, 0, ..., 0, 0, 0],\n",
       "       [0, 0, 0, ..., 0, 0, 0],\n",
       "       ...,\n",
       "       [0, 0, 0, ..., 0, 0, 0],\n",
       "       [0, 0, 0, ..., 0, 0, 0],\n",
       "       [0, 0, 0, ..., 0, 0, 0]])"
      ]
     },
     "execution_count": 10,
     "metadata": {},
     "output_type": "execute_result"
    }
   ],
   "source": [
    "X_train_vectorized.toarray()"
   ]
  },
  {
   "cell_type": "markdown",
   "id": "4d4d3fb0-fb3a-40ac-9d34-d6e2d308339b",
   "metadata": {
    "tags": []
   },
   "source": [
    "<a id='model'/>\n",
    "\n",
    "### Model\n",
    "[Back to TOC](#TOC)"
   ]
  },
  {
   "cell_type": "markdown",
   "id": "3cd53752-63cb-4c88-a81b-0deba9510448",
   "metadata": {
    "tags": []
   },
   "source": [
    "Let's train a logistic regression model with the train data"
   ]
  },
  {
   "cell_type": "code",
   "execution_count": 11,
   "id": "4b006e1d-83a0-46d4-9870-73af64732bad",
   "metadata": {
    "tags": []
   },
   "outputs": [
    {
     "name": "stdout",
     "output_type": "stream",
     "text": [
      "Accuracy = 0.79120\n",
      "AUC = 0.850\n"
     ]
    }
   ],
   "source": [
    "model = LogisticRegression(max_iter=777)\n",
    "model.fit(X_train_vectorized, y_train)\n",
    "\n",
    "# Predict the transformed validation texts\n",
    "predictions = model.predict(vect.transform(X_val))\n",
    "predict_probab = model.predict_proba(vect.transform(X_val))[:,1]\n",
    "\n",
    "print(\"Accuracy = {:.5f}\".format(accuracy_score(y_val, predictions)))\n",
    "print(\"AUC = {:.3f}\".format(roc_auc_score(y_val, predict_probab)))"
   ]
  },
  {
   "cell_type": "code",
   "execution_count": 12,
   "id": "0cac7d29-8a2c-4c6f-b954-29fed2147cb2",
   "metadata": {
    "tags": []
   },
   "outputs": [
    {
     "data": {
      "text/plain": [
       "<sklearn.metrics._plot.confusion_matrix.ConfusionMatrixDisplay at 0x7f798459c850>"
      ]
     },
     "execution_count": 12,
     "metadata": {},
     "output_type": "execute_result"
    },
    {
     "data": {
      "image/png": "[encoded data removed]",
      "text/plain": [
       "<Figure size 640x480 with 2 Axes>"
      ]
     },
     "metadata": {},
     "output_type": "display_data"
    }
   ],
   "source": [
    "confusion_matrix_model = ConfusionMatrixDisplay(confusion_matrix(y_val, predictions))\n",
    "confusion_matrix_model.plot()"
   ]
  },
  {
   "cell_type": "markdown",
   "id": "ba548fd2-40dc-4d33-8165-d58633ccf0ce",
   "metadata": {
    "tags": []
   },
   "source": [
    "Let's check which words are most probably associated with actual disasters and which are not."
   ]
  },
  {
   "cell_type": "code",
   "execution_count": 13,
   "id": "acc4ff45-119d-4358-b583-dfb39b7b6092",
   "metadata": {
    "tags": []
   },
   "outputs": [
    {
     "name": "stdout",
     "output_type": "stream",
     "text": [
      "Words with the smallest Coefficients (i.e. not indicative of a real disaster):\n",
      "['such' 'bags' 'ebay' 'full' 'new' 'jeb' 'myself' 'nowplaying' 'blew'\n",
      " 'mayhem' 'art' 'panicking' 'join' 'poll' 'longer' 'long' 'cake' 'blight'\n",
      " 'jobs' 'put']\n",
      "\n",
      "Words with the largest Coefficients (i.e. very indicative of a real disaster): \n",
      "['hiroshima' 'fires' 'wildfire' 'typhoon' 'earthquake' 'storm' 'massacre'\n",
      " 'bombing' 'drought' 'mass' 'floods' 'tornado' 'derailment' 'train'\n",
      " 'flood' 'california' 'damage' 'terrorism' 'terrorist' 'poor']\n"
     ]
    }
   ],
   "source": [
    "# list of words (features)\n",
    "feature_names = np.array(vect.get_feature_names_out())\n",
    "\n",
    "#list of corresponding coefficients\n",
    "sorted_coef_index = model.coef_[0].argsort()\n",
    "\n",
    "print(\"Words with the smallest Coefficients (i.e. not indicative of a real disaster):\\n{}\\n\".format(feature_names[sorted_coef_index[:20]]))\n",
    "print(\"Words with the largest Coefficients (i.e. very indicative of a real disaster): \\n{}\".format(feature_names[sorted_coef_index[:-21:-1]]))"
   ]
  },
  {
   "cell_type": "markdown",
   "id": "0680b14f-dd4c-4865-b9ec-4351f0e729da",
   "metadata": {},
   "source": [
    "<a id='improvements'/>\n",
    "\n",
    "### Improvements\n",
    "[Back to TOC](#TOC)"
   ]
  },
  {
   "cell_type": "markdown",
   "id": "983d4f75-8800-4673-849b-305ed86303de",
   "metadata": {},
   "source": [
    "Let's try to improve our prediction by considering term frequency using TF-IDF "
   ]
  },
  {
   "cell_type": "code",
   "execution_count": 14,
   "id": "c60ccf56-e382-42a2-bea1-64422435c470",
   "metadata": {
    "tags": []
   },
   "outputs": [
    {
     "data": {
      "text/plain": [
       "[('adult', 150),\n",
       " ('advance', 151),\n",
       " ('advisory', 152),\n",
       " ('af', 153),\n",
       " ('affected', 154),\n",
       " ('affecting', 155),\n",
       " ('affects', 156),\n",
       " ('afghan', 157),\n",
       " ('afghanistan', 158),\n",
       " ('afraid', 159)]"
      ]
     },
     "execution_count": 14,
     "metadata": {},
     "output_type": "execute_result"
    }
   ],
   "source": [
    "#Consider only words that occur in at least 3 tweets.\n",
    "vect = TfidfVectorizer(min_df=3).fit(X_train)\n",
    "\n",
    "\n",
    "X_train_vectorized = vect.transform(X_train)\n",
    "\n",
    "# let's look of some of the words gathered with this method\n",
    "sorted(vect.vocabulary_.items())[150:160]"
   ]
  },
  {
   "cell_type": "code",
   "execution_count": 15,
   "id": "30ba2282-88ea-47e2-b67a-47dc240c87a6",
   "metadata": {
    "tags": []
   },
   "outputs": [
    {
     "name": "stdout",
     "output_type": "stream",
     "text": [
      "The training data now contains 3769 different words (columns) across 6090 messages (rows).\n"
     ]
    }
   ],
   "source": [
    "print(\n",
    "    \"The training data now contains {} different words (columns) across {} messages (rows).\".format( \n",
    "                                                            len(vect.vocabulary_.items()),\n",
    "                                                            X_train.shape[0]\n",
    "                                                           )\n",
    "     )"
   ]
  },
  {
   "cell_type": "code",
   "execution_count": 16,
   "id": "d586651a-d3f1-4136-bd07-54e8ade35ee8",
   "metadata": {
    "tags": []
   },
   "outputs": [
    {
     "name": "stdout",
     "output_type": "stream",
     "text": [
      "Smallest tfidf:\n",
      "['ksawlyux02' 'trubgme' 'vid' 'sh' 'lgl' 'idis' '8whts' 'colluded'\n",
      " '90blks' 'wht' 'hers' 'sm' 'utc2015' 'time2015' 'starring' 'villagers'\n",
      " 'destiny' 'enemy' 'blessings' 'heavenly']\n",
      "\n",
      "Largest tfidf: \n",
      "['thanks' 'hey' 'screams' 'emergency' 'exploded' 'crushed' 'fatal'\n",
      " 'fatality' 'thunder' 'girl' 'survive' 'screaming' 'wreck' 'love' 'blight'\n",
      " 'armageddon' 'what' 'meltdown' 'mudslide' 'murderer']\n"
     ]
    }
   ],
   "source": [
    "# list of words (features)\n",
    "feature_names = np.array(vect.get_feature_names_out())\n",
    "\n",
    "#list of corresponding tfidf values\n",
    "sorted_tfidf_index = X_train_vectorized.toarray().max(0).argsort()\n",
    "\n",
    "# print words with highest and lowest tfidf values\n",
    "print(\"Smallest tfidf:\\n{}\\n\".format(feature_names[sorted_tfidf_index[:20]]))\n",
    "print(\"Largest tfidf: \\n{}\".format(feature_names[sorted_tfidf_index[:-21:-1]]))"
   ]
  },
  {
   "cell_type": "code",
   "execution_count": 17,
   "id": "92ea0875-e75b-4f71-8342-2e67e041f458",
   "metadata": {
    "tags": []
   },
   "outputs": [
    {
     "name": "stdout",
     "output_type": "stream",
     "text": [
      "Accuracy = 0.80762\n",
      "AUC = 0.850\n"
     ]
    }
   ],
   "source": [
    "model = LogisticRegression(max_iter=777)\n",
    "model.fit(X_train_vectorized, y_train)\n",
    "\n",
    "# Predict the transformed validation texts\n",
    "predictions = model.predict(vect.transform(X_val))\n",
    "predict_probab = model.predict_proba(vect.transform(X_val))[:,1]\n",
    "\n",
    "print(\"Accuracy = {:.5f}\".format(accuracy_score(y_val, predictions)))\n",
    "print(\"AUC = {:.3f}\".format(roc_auc_score(y_val, predict_probab)))"
   ]
  },
  {
   "cell_type": "code",
   "execution_count": 18,
   "id": "e22db5a1-ef49-40d5-95ad-134665b724b2",
   "metadata": {
    "tags": []
   },
   "outputs": [
    {
     "data": {
      "text/plain": [
       "<sklearn.metrics._plot.confusion_matrix.ConfusionMatrixDisplay at 0x7f78fe5aac50>"
      ]
     },
     "execution_count": 18,
     "metadata": {},
     "output_type": "execute_result"
    },
    {
     "data": {
      "image/png": "[encoded data removed]",
      "text/plain": [
       "<Figure size 640x480 with 2 Axes>"
      ]
     },
     "metadata": {},
     "output_type": "display_data"
    }
   ],
   "source": [
    "confusion_matrix_model = ConfusionMatrixDisplay(confusion_matrix(y_val, predictions))\n",
    "confusion_matrix_model.plot()"
   ]
  },
  {
   "cell_type": "code",
   "execution_count": 19,
   "id": "9b5b42d0-30a7-4a2f-ab44-12e068245556",
   "metadata": {
    "tags": []
   },
   "outputs": [
    {
     "name": "stdout",
     "output_type": "stream",
     "text": [
      "Words with the smallest Coefficients (i.e. not indicative of a real disaster):\n",
      "['you' 'my' 'new' 'full' 'body' 'bags' 'love' 'panic' 'your' 'he' 'ebay'\n",
      " 'https' 'flattened' 'crush' 'blew' 'me' 'lol' 'screams' 'blight' 'such']\n",
      "\n",
      "Words with the largest Coefficients (i.e. very indicative of a real disaster): \n",
      "['hiroshima' 'fires' 'in' 'california' 'storm' 'mass' 'train' 'wildfire'\n",
      " 'fire' 'bombing' 'typhoon' 'killed' 'massacre' 'disaster' 'earthquake'\n",
      " 'drought' 'japan' 'near' 'suicide' 'derailment']\n"
     ]
    }
   ],
   "source": [
    "# list of words (features)\n",
    "feature_names = np.array(vect.get_feature_names_out())\n",
    "\n",
    "#list of corresponding coefficients\n",
    "sorted_coef_index = model.coef_[0].argsort()\n",
    "\n",
    "print(\"Words with the smallest Coefficients (i.e. not indicative of a real disaster):\\n{}\\n\".format(feature_names[sorted_coef_index[:20]]))\n",
    "print(\"Words with the largest Coefficients (i.e. very indicative of a real disaster): \\n{}\".format(feature_names[sorted_coef_index[:-21:-1]]))"
   ]
  },
  {
   "cell_type": "markdown",
   "id": "14658900-3888-4a89-9012-82b0169e6d07",
   "metadata": {},
   "source": [
    "Using TF-IDF, we have increased our accuracy score slightly."
   ]
  },
  {
   "cell_type": "markdown",
   "id": "850641f2-2910-4c52-b2a6-f48d8cde70af",
   "metadata": {},
   "source": [
    "Let's make the texts more comparable by using stemming."
   ]
  },
  {
   "cell_type": "code",
   "execution_count": 20,
   "id": "854d6a55-0554-47ff-aa6d-60f72697f6be",
   "metadata": {
    "tags": []
   },
   "outputs": [],
   "source": [
    "stemmer = nltk.PorterStemmer()\n",
    "cv_analyzer = TfidfVectorizer(min_df=2).build_analyzer()\n",
    "\n",
    "def stemmed_words(doc):\n",
    "    return (stemmer.stem(w) for w in cv_analyzer(doc))\n",
    "\n",
    "stem_vectorizer = TfidfVectorizer(min_df=2, analyzer = stemmed_words)\n",
    "X_train_stem_vectorized = stem_vectorizer.fit_transform(X_train)"
   ]
  },
  {
   "cell_type": "code",
   "execution_count": 21,
   "id": "4de055d9-123f-487b-a045-1d3475d67beb",
   "metadata": {
    "tags": []
   },
   "outputs": [
    {
     "name": "stdout",
     "output_type": "stream",
     "text": [
      "Accuracy = 0.79908\n",
      "AUC = 0.851\n"
     ]
    }
   ],
   "source": [
    "model = LogisticRegression(max_iter=777)\n",
    "model.fit(X_train_stem_vectorized, y_train)\n",
    "\n",
    "# Predict the transformed validation texts\n",
    "predictions = model.predict(stem_vectorizer.transform(X_val))\n",
    "predict_probab = model.predict_proba(stem_vectorizer.transform(X_val))[:,1]\n",
    "\n",
    "print(\"Accuracy = {:.5f}\".format(accuracy_score(y_val, predictions)))\n",
    "print(\"AUC = {:.3f}\".format(roc_auc_score(y_val, predict_probab)))"
   ]
  },
  {
   "cell_type": "markdown",
   "id": "75fdcf64-2ab4-478f-9978-06d9cbe4631c",
   "metadata": {
    "tags": []
   },
   "source": [
    "Stemming reduces the accuracy again. What about Lemmatization?"
   ]
  },
  {
   "cell_type": "code",
   "execution_count": 22,
   "id": "518686d6-453d-4b85-808f-363d3e25378e",
   "metadata": {
    "tags": []
   },
   "outputs": [],
   "source": [
    "WNlemma = nltk.WordNetLemmatizer()\n",
    "cv_analyzer = TfidfVectorizer(min_df=4).build_analyzer()\n",
    "\n",
    "\n",
    "def lemmatize_word(doc):\n",
    "    return (WNlemma.lemmatize(t) for t in cv_analyzer(doc))\n",
    "\n",
    "lemm_vectorizer = TfidfVectorizer(min_df=4, analyzer = lemmatize_word)\n",
    "\n",
    "\n",
    "X_train_lemm_vectorized = lemm_vectorizer.fit_transform(X_train)"
   ]
  },
  {
   "cell_type": "code",
   "execution_count": 23,
   "id": "aad90391-dbb5-4992-b0d0-a9212dbd1fd4",
   "metadata": {
    "tags": []
   },
   "outputs": [
    {
     "name": "stdout",
     "output_type": "stream",
     "text": [
      "Accuracy = 0.80499\n",
      "AUC = 0.851\n"
     ]
    }
   ],
   "source": [
    "model = LogisticRegression(max_iter=777)\n",
    "model.fit(X_train_lemm_vectorized, y_train)\n",
    "\n",
    "# Predict the transformed validation texts\n",
    "predictions = model.predict(lemm_vectorizer.transform(X_val))\n",
    "predict_probab = model.predict_proba(lemm_vectorizer.transform(X_val))[:,1]\n",
    "\n",
    "print(\"Accuracy = {:.5f}\".format(accuracy_score(y_val, predictions)))\n",
    "print(\"AUC = {:.3f}\".format(roc_auc_score(y_val, predict_probab)))"
   ]
  },
  {
   "cell_type": "code",
   "execution_count": 24,
   "id": "84b763bb-b006-4784-b450-5f135cf0a840",
   "metadata": {
    "tags": []
   },
   "outputs": [
    {
     "data": {
      "text/plain": [
       "<sklearn.metrics._plot.confusion_matrix.ConfusionMatrixDisplay at 0x7f78fe5bac90>"
      ]
     },
     "execution_count": 24,
     "metadata": {},
     "output_type": "execute_result"
    },
    {
     "data": {
      "image/png": "[encoded data removed]",
      "text/plain": [
       "<Figure size 640x480 with 2 Axes>"
      ]
     },
     "metadata": {},
     "output_type": "display_data"
    }
   ],
   "source": [
    "confusion_matrix_model = ConfusionMatrixDisplay(confusion_matrix(y_val, predictions))\n",
    "confusion_matrix_model.plot()"
   ]
  },
  {
   "cell_type": "markdown",
   "id": "62ba160c-c6eb-4b86-90b3-8c2a6bc2d076",
   "metadata": {},
   "source": [
    "Nope. Lemmatization slightly reduces the accuracy score compared to the unchanged TF-IDF vectorized data."
   ]
  },
  {
   "cell_type": "code",
   "execution_count": null,
   "id": "8ded331f-1411-4391-a555-0c774d7b6294",
   "metadata": {
    "tags": []
   },
   "outputs": [],
   "source": []
  },
  {
   "cell_type": "code",
   "execution_count": null,
   "id": "4593aa93-a6f4-4c99-a616-e050f686b033",
   "metadata": {
    "tags": []
   },
   "outputs": [],
   "source": []
  },
  {
   "cell_type": "code",
   "execution_count": null,
   "id": "0c8777e4-0882-4203-b2c3-750e09d618ab",
   "metadata": {
    "tags": []
   },
   "outputs": [],
   "source": []
  },
  {
   "cell_type": "code",
   "execution_count": null,
   "id": "677af36a-f25f-42d5-83d4-98d33b1efd28",
   "metadata": {},
   "outputs": [],
   "source": []
  }
 ],
 "metadata": {
  "kernelspec": {
   "display_name": "Python 3 (ipykernel)",
   "language": "python",
   "name": "python3"
  },
  "language_info": {
   "codemirror_mode": {
    "name": "ipython",
    "version": 3
   },
   "file_extension": ".py",
   "mimetype": "text/x-python",
   "name": "python",
   "nbconvert_exporter": "python",
   "pygments_lexer": "ipython3",
   "version": "3.11.3"
  }
 },
 "nbformat": 4,
 "nbformat_minor": 5
}
