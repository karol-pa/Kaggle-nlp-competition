{
 "cells": [
  {
   "cell_type": "markdown",
   "id": "cac7d0d6-851a-41c9-9440-16c39887dd70",
   "metadata": {},
   "source": [
    "## Kaggle NLP competition\n",
    "https://www.kaggle.com/competitions/nlp-getting-started\n"
   ]
  },
  {
   "cell_type": "markdown",
   "id": "63728142-e643-493f-806a-c6d6d4d11d9a",
   "metadata": {
    "tags": []
   },
   "source": [
    "<a id='TOC'/>\n",
    "\n",
    "### TOC (table of content)\n",
    "1. [Loading packages](#loading_packages)\n",
    "2. [Loading data](#loading_data)\n",
    "3. [Vectorizer](#vectorizer)\n",
    "4. [Model](#model)\n",
    "5. [Improvements](#improvements)\n",
    "6. [Neural network](#neural_network)"
   ]
  },
  {
   "cell_type": "markdown",
   "id": "d3864f76-0668-48e0-960e-b6d864c1ae39",
   "metadata": {},
   "source": [
    "<a id='loading_packages'/>\n",
    "\n",
    "### Loading packages\n",
    "[Back to TOC](#TOC)"
   ]
  },
  {
   "cell_type": "code",
   "execution_count": 344,
   "id": "55e03f18-ce11-40c6-bc01-b0bb230b4d6d",
   "metadata": {
    "tags": []
   },
   "outputs": [
    {
     "name": "stderr",
     "output_type": "stream",
     "text": [
      "[nltk_data] Downloading package wordnet to /home/karol/nltk_data...\n",
      "[nltk_data]   Package wordnet is already up-to-date!\n",
      "[nltk_data] Downloading package omw-1.4 to /home/karol/nltk_data...\n",
      "[nltk_data]   Package omw-1.4 is already up-to-date!\n"
     ]
    }
   ],
   "source": [
    "import numpy as np # linear algebra\n",
    "import pandas as pd # data processing, CSV file I/O (e.g. pd.read_csv)\n",
    "\n",
    "\n",
    "from sklearn.model_selection import train_test_split, GridSearchCV\n",
    "from sklearn.feature_extraction.text import CountVectorizer, TfidfVectorizer\n",
    "from sklearn.linear_model import LogisticRegression\n",
    "from sklearn.metrics import roc_auc_score, accuracy_score, confusion_matrix, ConfusionMatrixDisplay\n",
    "\n",
    "import xgboost as xgb\n",
    "\n",
    "\n",
    "import nltk\n",
    "nltk.download('wordnet')\n",
    "nltk.download('omw-1.4')\n",
    "\n",
    "\n",
    "# Deep learning: \n",
    "from keras.models import Sequential\n",
    "from keras.layers import Dense, Embedding, GlobalAveragePooling1D, GlobalMaxPooling1D, Dropout\n",
    "import tensorflow as tf\n",
    "\n",
    "from tensorflow.keras.layers.experimental.preprocessing import TextVectorization\n",
    "\n",
    "import io\n",
    "import re\n",
    "import string"
   ]
  },
  {
   "cell_type": "markdown",
   "id": "8c87d160-5b4b-453b-8c29-bf5c9029ca15",
   "metadata": {},
   "source": [
    "<a id='loading_data'/>\n",
    "\n",
    "### Loading data\n",
    "[Back to TOC](#TOC)"
   ]
  },
  {
   "cell_type": "code",
   "execution_count": 2,
   "id": "f740b176-5bbf-48bc-bfa8-ab6664258fd1",
   "metadata": {
    "tags": []
   },
   "outputs": [
    {
     "name": "stdout",
     "output_type": "stream",
     "text": [
      "Training Set Shape = (7613, 5)\n",
      "Training Set Memory Usage = 0.29 MB\n"
     ]
    }
   ],
   "source": [
    "df_train = pd.read_csv(\"train.csv\")\n",
    "df_test = pd.read_csv(\"test.csv\")\n",
    "df=df_train.copy()\n",
    "print('Training Set Shape = {}'.format(df_train.shape))\n",
    "print('Training Set Memory Usage = {:.2f} MB'.format(df_train.memory_usage().sum() / 1024**2))"
   ]
  },
  {
   "cell_type": "markdown",
   "id": "f4738fe9-37c9-4584-b5ac-e483611892e3",
   "metadata": {
    "tags": []
   },
   "source": [
    "### Let's have a look at the train and test dataset.\n",
    "\n",
    "#### They contain:\n",
    "- id\n",
    "- keyword: A keyword from that tweet (although this may be blank!)\n",
    "- location: The location the tweet was sent from (may also be blank)\n",
    "- text: The text of a tweet\n",
    "- target: 1 if the tweet is a real disaster or 0 if not"
   ]
  },
  {
   "cell_type": "code",
   "execution_count": 3,
   "id": "7a347d79-6ff3-4ff3-bd76-bbc647dd20d5",
   "metadata": {
    "tags": []
   },
   "outputs": [
    {
     "data": {
      "text/html": [
       "<div>\n",
       "<style scoped>\n",
       "    .dataframe tbody tr th:only-of-type {\n",
       "        vertical-align: middle;\n",
       "    }\n",
       "\n",
       "    .dataframe tbody tr th {\n",
       "        vertical-align: top;\n",
       "    }\n",
       "\n",
       "    .dataframe thead th {\n",
       "        text-align: right;\n",
       "    }\n",
       "</style>\n",
       "<table border=\"1\" class=\"dataframe\">\n",
       "  <thead>\n",
       "    <tr style=\"text-align: right;\">\n",
       "      <th></th>\n",
       "      <th>id</th>\n",
       "      <th>keyword</th>\n",
       "      <th>location</th>\n",
       "      <th>text</th>\n",
       "      <th>target</th>\n",
       "    </tr>\n",
       "  </thead>\n",
       "  <tbody>\n",
       "    <tr>\n",
       "      <th>0</th>\n",
       "      <td>1</td>\n",
       "      <td>NaN</td>\n",
       "      <td>NaN</td>\n",
       "      <td>Our Deeds are the Reason of this #earthquake M...</td>\n",
       "      <td>1</td>\n",
       "    </tr>\n",
       "    <tr>\n",
       "      <th>1</th>\n",
       "      <td>4</td>\n",
       "      <td>NaN</td>\n",
       "      <td>NaN</td>\n",
       "      <td>Forest fire near La Ronge Sask. Canada</td>\n",
       "      <td>1</td>\n",
       "    </tr>\n",
       "    <tr>\n",
       "      <th>2</th>\n",
       "      <td>5</td>\n",
       "      <td>NaN</td>\n",
       "      <td>NaN</td>\n",
       "      <td>All residents asked to 'shelter in place' are ...</td>\n",
       "      <td>1</td>\n",
       "    </tr>\n",
       "    <tr>\n",
       "      <th>3</th>\n",
       "      <td>6</td>\n",
       "      <td>NaN</td>\n",
       "      <td>NaN</td>\n",
       "      <td>13,000 people receive #wildfires evacuation or...</td>\n",
       "      <td>1</td>\n",
       "    </tr>\n",
       "    <tr>\n",
       "      <th>4</th>\n",
       "      <td>7</td>\n",
       "      <td>NaN</td>\n",
       "      <td>NaN</td>\n",
       "      <td>Just got sent this photo from Ruby #Alaska as ...</td>\n",
       "      <td>1</td>\n",
       "    </tr>\n",
       "  </tbody>\n",
       "</table>\n",
       "</div>"
      ],
      "text/plain": [
       "   id keyword location                                               text  \\\n",
       "0   1     NaN      NaN  Our Deeds are the Reason of this #earthquake M...   \n",
       "1   4     NaN      NaN             Forest fire near La Ronge Sask. Canada   \n",
       "2   5     NaN      NaN  All residents asked to 'shelter in place' are ...   \n",
       "3   6     NaN      NaN  13,000 people receive #wildfires evacuation or...   \n",
       "4   7     NaN      NaN  Just got sent this photo from Ruby #Alaska as ...   \n",
       "\n",
       "   target  \n",
       "0       1  \n",
       "1       1  \n",
       "2       1  \n",
       "3       1  \n",
       "4       1  "
      ]
     },
     "execution_count": 3,
     "metadata": {},
     "output_type": "execute_result"
    }
   ],
   "source": [
    "df.head()"
   ]
  },
  {
   "cell_type": "code",
   "execution_count": 4,
   "id": "ccf6c4e8-a1af-4af6-a80d-320dc033df4c",
   "metadata": {
    "tags": []
   },
   "outputs": [
    {
     "name": "stdout",
     "output_type": "stream",
     "text": [
      "The data contains 3271 actual disasters (42.97% of all data).\n"
     ]
    }
   ],
   "source": [
    "print(\n",
    "    \"The data contains {} actual disasters ({:.2%} of all data).\".format(\n",
    "        df[df.target == 1].shape[0],\n",
    "        df[df.target == 1].shape[0] / df.shape[0],\n",
    "    )\n",
    ")"
   ]
  },
  {
   "cell_type": "code",
   "execution_count": 5,
   "id": "8eb36cd9-8889-4759-a687-5a1778a3d2b9",
   "metadata": {
    "tags": []
   },
   "outputs": [
    {
     "name": "stdout",
     "output_type": "stream",
     "text": [
      "Examples of actual disaster tweet: \n",
      "    Police kill hatchet-wielding gunman who opened fire inside Nashville movie theater: AåÊmiddle-aged manåÊarmed wi... http://t.co/tyD47NfL5x\n",
      "    Hmm...this could be problem for some researchers: FedEx no longer to transport select agents http://t.co/9vIibxgjAV via @usatoday\n",
      "\n",
      "Examples of a tweet with no disaster behind it: \n",
      "    @ego_resolution im glad. My gay can heal 1000 wounds\n",
      "    China's Stock Market Crash: Are There Gems In The Rubble?: ChinaÛªs stock market crash this su... http://t.co/KABK3tcJNL ...  via @Forbes\n"
     ]
    }
   ],
   "source": [
    "print(\n",
    "    \"Examples of actual disaster tweet: \\n    {}\\n    {}\".format(\n",
    "        df[df.target == 1].sample(1).text.iloc[0],\n",
    "        df[df.target == 1].sample(1).text.iloc[0],\n",
    "    )\n",
    ")\n",
    "print(\n",
    "    \"\\nExamples of a tweet with no disaster behind it: \\n    {}\\n    {}\".format(\n",
    "        df[df.target == 0].sample(1).text.iloc[0],\n",
    "        df[df.target == 0].sample(1).text.iloc[0],\n",
    "    )\n",
    ")"
   ]
  },
  {
   "cell_type": "markdown",
   "id": "83ec6860-de4c-4ee3-9e6c-bb8a1e78bd31",
   "metadata": {},
   "source": [
    "<a id='vectorizer'/>\n",
    "\n",
    "### Vectorizer\n",
    "[Back to TOC](#TOC)"
   ]
  },
  {
   "cell_type": "code",
   "execution_count": 279,
   "id": "723ff8da-6fc3-489f-8dea-1e7661dbc79f",
   "metadata": {
    "tags": []
   },
   "outputs": [],
   "source": [
    "X_train, X_val, y_train, y_val = train_test_split(df_train[\"text\"], df_train[\"target\"], random_state=777,test_size=0.2, stratify=df_train[\"target\"])\n"
   ]
  },
  {
   "cell_type": "code",
   "execution_count": 281,
   "id": "48b4034d-3211-4c9a-bc20-7bebb67ff20a",
   "metadata": {
    "tags": []
   },
   "outputs": [
    {
     "name": "stdout",
     "output_type": "stream",
     "text": [
      "Length of train set: 6090\n",
      " Length of test set: 1523\n",
      "\n"
     ]
    }
   ],
   "source": [
    "print(\n",
    "    \"Length of train set: {}\\n Length of test set: {}\\n\".format(len(X_train), len(X_val))\n",
    ")\n",
    "\n"
   ]
  },
  {
   "cell_type": "markdown",
   "id": "ae439de9-c764-4abe-a18b-33643d9a1a26",
   "metadata": {
    "tags": []
   },
   "source": [
    "### Transform the text so that each word is a separate feature and count how many times that word occurs. (Save as a sparse matrix.)"
   ]
  },
  {
   "cell_type": "code",
   "execution_count": 282,
   "id": "0a3af641-3402-443d-9cec-ee3fd9788057",
   "metadata": {
    "tags": []
   },
   "outputs": [
    {
     "data": {
      "text/html": [
       "<style>#sk-container-id-2 {color: black;background-color: white;}#sk-container-id-2 pre{padding: 0;}#sk-container-id-2 div.sk-toggleable {background-color: white;}#sk-container-id-2 label.sk-toggleable__label {cursor: pointer;display: block;width: 100%;margin-bottom: 0;padding: 0.3em;box-sizing: border-box;text-align: center;}#sk-container-id-2 label.sk-toggleable__label-arrow:before {content: \"▸\";float: left;margin-right: 0.25em;color: #696969;}#sk-container-id-2 label.sk-toggleable__label-arrow:hover:before {color: black;}#sk-container-id-2 div.sk-estimator:hover label.sk-toggleable__label-arrow:before {color: black;}#sk-container-id-2 div.sk-toggleable__content {max-height: 0;max-width: 0;overflow: hidden;text-align: left;background-color: #f0f8ff;}#sk-container-id-2 div.sk-toggleable__content pre {margin: 0.2em;color: black;border-radius: 0.25em;background-color: #f0f8ff;}#sk-container-id-2 input.sk-toggleable__control:checked~div.sk-toggleable__content {max-height: 200px;max-width: 100%;overflow: auto;}#sk-container-id-2 input.sk-toggleable__control:checked~label.sk-toggleable__label-arrow:before {content: \"▾\";}#sk-container-id-2 div.sk-estimator input.sk-toggleable__control:checked~label.sk-toggleable__label {background-color: #d4ebff;}#sk-container-id-2 div.sk-label input.sk-toggleable__control:checked~label.sk-toggleable__label {background-color: #d4ebff;}#sk-container-id-2 input.sk-hidden--visually {border: 0;clip: rect(1px 1px 1px 1px);clip: rect(1px, 1px, 1px, 1px);height: 1px;margin: -1px;overflow: hidden;padding: 0;position: absolute;width: 1px;}#sk-container-id-2 div.sk-estimator {font-family: monospace;background-color: #f0f8ff;border: 1px dotted black;border-radius: 0.25em;box-sizing: border-box;margin-bottom: 0.5em;}#sk-container-id-2 div.sk-estimator:hover {background-color: #d4ebff;}#sk-container-id-2 div.sk-parallel-item::after {content: \"\";width: 100%;border-bottom: 1px solid gray;flex-grow: 1;}#sk-container-id-2 div.sk-label:hover label.sk-toggleable__label {background-color: #d4ebff;}#sk-container-id-2 div.sk-serial::before {content: \"\";position: absolute;border-left: 1px solid gray;box-sizing: border-box;top: 0;bottom: 0;left: 50%;z-index: 0;}#sk-container-id-2 div.sk-serial {display: flex;flex-direction: column;align-items: center;background-color: white;padding-right: 0.2em;padding-left: 0.2em;position: relative;}#sk-container-id-2 div.sk-item {position: relative;z-index: 1;}#sk-container-id-2 div.sk-parallel {display: flex;align-items: stretch;justify-content: center;background-color: white;position: relative;}#sk-container-id-2 div.sk-item::before, #sk-container-id-2 div.sk-parallel-item::before {content: \"\";position: absolute;border-left: 1px solid gray;box-sizing: border-box;top: 0;bottom: 0;left: 50%;z-index: -1;}#sk-container-id-2 div.sk-parallel-item {display: flex;flex-direction: column;z-index: 1;position: relative;background-color: white;}#sk-container-id-2 div.sk-parallel-item:first-child::after {align-self: flex-end;width: 50%;}#sk-container-id-2 div.sk-parallel-item:last-child::after {align-self: flex-start;width: 50%;}#sk-container-id-2 div.sk-parallel-item:only-child::after {width: 0;}#sk-container-id-2 div.sk-dashed-wrapped {border: 1px dashed gray;margin: 0 0.4em 0.5em 0.4em;box-sizing: border-box;padding-bottom: 0.4em;background-color: white;}#sk-container-id-2 div.sk-label label {font-family: monospace;font-weight: bold;display: inline-block;line-height: 1.2em;}#sk-container-id-2 div.sk-label-container {text-align: center;}#sk-container-id-2 div.sk-container {/* jupyter's `normalize.less` sets `[hidden] { display: none; }` but bootstrap.min.css set `[hidden] { display: none !important; }` so we also need the `!important` here to be able to override the default hidden behavior on the sphinx rendered scikit-learn.org. See: https://github.com/scikit-learn/scikit-learn/issues/21755 */display: inline-block !important;position: relative;}#sk-container-id-2 div.sk-text-repr-fallback {display: none;}</style><div id=\"sk-container-id-2\" class=\"sk-top-container\"><div class=\"sk-text-repr-fallback\"><pre>CountVectorizer()</pre><b>In a Jupyter environment, please rerun this cell to show the HTML representation or trust the notebook. <br />On GitHub, the HTML representation is unable to render, please try loading this page with nbviewer.org.</b></div><div class=\"sk-container\" hidden><div class=\"sk-item\"><div class=\"sk-estimator sk-toggleable\"><input class=\"sk-toggleable__control sk-hidden--visually\" id=\"sk-estimator-id-2\" type=\"checkbox\" checked><label for=\"sk-estimator-id-2\" class=\"sk-toggleable__label sk-toggleable__label-arrow\">CountVectorizer</label><div class=\"sk-toggleable__content\"><pre>CountVectorizer()</pre></div></div></div></div></div>"
      ],
      "text/plain": [
       "CountVectorizer()"
      ]
     },
     "execution_count": 282,
     "metadata": {},
     "output_type": "execute_result"
    }
   ],
   "source": [
    "# Fit the CountVectorizer to the training data\n",
    "vect = CountVectorizer().fit(X_train)\n",
    "\n",
    "# transform the text in the training data to a text-term matrix\n",
    "X_train_vectorized = vect.transform(X_train)\n",
    "\n",
    "vect"
   ]
  },
  {
   "cell_type": "markdown",
   "id": "8f999cf3-7a72-454f-8ba3-bbcabbf91f57",
   "metadata": {
    "tags": []
   },
   "source": [
    "### Vocabulary sample:"
   ]
  },
  {
   "cell_type": "code",
   "execution_count": 283,
   "id": "a6c28941-ad3d-47fe-862f-4f5bed968025",
   "metadata": {
    "tags": []
   },
   "outputs": [
    {
     "data": {
      "text/plain": [
       "[('condemnation', 4000),\n",
       " ('condemns', 4001),\n",
       " ('condenses', 4002),\n",
       " ('condition', 4003),\n",
       " ('conditions', 4004),\n",
       " ('conditionsprivation', 4005),\n",
       " ('condo', 4006),\n",
       " ('condolence', 4007),\n",
       " ('condolences', 4008),\n",
       " ('condos', 4009)]"
      ]
     },
     "execution_count": 283,
     "metadata": {},
     "output_type": "execute_result"
    }
   ],
   "source": [
    "sorted(vect.vocabulary_.items())[4000:4010]"
   ]
  },
  {
   "cell_type": "code",
   "execution_count": 284,
   "id": "bb5aa2ab-a1fa-4d6a-a139-129662d0a520",
   "metadata": {
    "tags": []
   },
   "outputs": [
    {
     "name": "stdout",
     "output_type": "stream",
     "text": [
      "The training data contains 18543 different words (columns) across 6090 messages (rows).\n"
     ]
    }
   ],
   "source": [
    "full_vocab_len=len(vect.vocabulary_)\n",
    "\n",
    "print(\n",
    "    \"The training data contains {} different words (columns) across {} messages (rows).\".format( \n",
    "                                                            len(vect.vocabulary_.items()),\n",
    "                                                            X_train.shape[0]\n",
    "                                                           )\n",
    "     )"
   ]
  },
  {
   "cell_type": "markdown",
   "id": "aaac3a9a-1924-4ede-bf2a-ef160c05c176",
   "metadata": {},
   "source": [
    "### Show the (sparse) feature matrix:"
   ]
  },
  {
   "cell_type": "code",
   "execution_count": 285,
   "id": "ac6daa7d-66f8-4087-90f4-d477acd8c06e",
   "metadata": {
    "tags": []
   },
   "outputs": [
    {
     "data": {
      "text/plain": [
       "array([[0, 0, 0, ..., 0, 0, 0],\n",
       "       [0, 0, 0, ..., 0, 0, 0],\n",
       "       [0, 0, 0, ..., 0, 0, 0],\n",
       "       ...,\n",
       "       [0, 0, 0, ..., 0, 0, 0],\n",
       "       [0, 0, 0, ..., 0, 0, 0],\n",
       "       [0, 0, 0, ..., 0, 0, 0]])"
      ]
     },
     "execution_count": 285,
     "metadata": {},
     "output_type": "execute_result"
    }
   ],
   "source": [
    "X_train_vectorized.toarray()"
   ]
  },
  {
   "cell_type": "markdown",
   "id": "4d4d3fb0-fb3a-40ac-9d34-d6e2d308339b",
   "metadata": {
    "tags": []
   },
   "source": [
    "<a id='model'/>\n",
    "\n",
    "### Model\n",
    "[Back to TOC](#TOC)"
   ]
  },
  {
   "cell_type": "markdown",
   "id": "3cd53752-63cb-4c88-a81b-0deba9510448",
   "metadata": {
    "tags": []
   },
   "source": [
    "### Let's train a logistic regression model with the train data"
   ]
  },
  {
   "cell_type": "code",
   "execution_count": 286,
   "id": "4b006e1d-83a0-46d4-9870-73af64732bad",
   "metadata": {
    "tags": []
   },
   "outputs": [
    {
     "name": "stdout",
     "output_type": "stream",
     "text": [
      "Accuracy = 0.79842\n",
      "AUC = 0.842\n"
     ]
    }
   ],
   "source": [
    "model = LogisticRegression(max_iter=777)\n",
    "model.fit(X_train_vectorized, y_train)\n",
    "\n",
    "# Predict the transformed validation texts\n",
    "predictions = model.predict(vect.transform(X_val))\n",
    "predict_probab = model.predict_proba(vect.transform(X_val))[:,1]\n",
    "\n",
    "print(\"Accuracy = {:.5f}\".format(accuracy_score(y_val, predictions)))\n",
    "print(\"AUC = {:.3f}\".format(roc_auc_score(y_val, predict_probab)))"
   ]
  },
  {
   "cell_type": "code",
   "execution_count": 287,
   "id": "0cac7d29-8a2c-4c6f-b954-29fed2147cb2",
   "metadata": {
    "tags": []
   },
   "outputs": [
    {
     "data": {
      "text/plain": [
       "<sklearn.metrics._plot.confusion_matrix.ConfusionMatrixDisplay at 0x7f8744a8b550>"
      ]
     },
     "execution_count": 287,
     "metadata": {},
     "output_type": "execute_result"
    },
    {
     "data": {
      "image/png": "[encoded data removed]",
      "text/plain": [
       "<Figure size 640x480 with 2 Axes>"
      ]
     },
     "metadata": {},
     "output_type": "display_data"
    }
   ],
   "source": [
    "confusion_matrix_model = ConfusionMatrixDisplay(confusion_matrix(y_val, predictions))\n",
    "confusion_matrix_model.plot()"
   ]
  },
  {
   "cell_type": "markdown",
   "id": "ba548fd2-40dc-4d33-8165-d58633ccf0ce",
   "metadata": {
    "tags": []
   },
   "source": [
    "### Let's check which words are most probably associated with actual disasters and which are not."
   ]
  },
  {
   "cell_type": "code",
   "execution_count": 288,
   "id": "acc4ff45-119d-4358-b583-dfb39b7b6092",
   "metadata": {
    "tags": []
   },
   "outputs": [
    {
     "name": "stdout",
     "output_type": "stream",
     "text": [
      "Words with the smallest Coefficients (i.e. not indicative of a real disaster):\n",
      "['full' 'ebay' 'bags' 'song' 'nowplaying' 'obliteration' 'new' 'cake'\n",
      " 'poll' 'sure' 'flattened' 'gets' 'lmao' 'job' 'long' 'upheaval'\n",
      " 'australia' 'panic' 'join' 'quick']\n",
      "\n",
      "Words with the largest Coefficients (i.e. very indicative of a real disaster): \n",
      "['hiroshima' 'fires' 'storm' 'wildfire' 'earthquake' 'derailment' 'train'\n",
      " 'typhoon' 'floods' 'california' 'bombing' 'terrorism' 'drought' 'tornado'\n",
      " 'massacre' 'casualties' 'hurricane' 'flood' 'riots' 'volcano']\n"
     ]
    }
   ],
   "source": [
    "# list of words (features)\n",
    "feature_names = np.array(vect.get_feature_names_out())\n",
    "\n",
    "#list of corresponding coefficients\n",
    "sorted_coef_index = model.coef_[0].argsort()\n",
    "\n",
    "print(\"Words with the smallest Coefficients (i.e. not indicative of a real disaster):\\n{}\\n\".format(feature_names[sorted_coef_index[:20]]))\n",
    "print(\"Words with the largest Coefficients (i.e. very indicative of a real disaster): \\n{}\".format(feature_names[sorted_coef_index[:-21:-1]]))"
   ]
  },
  {
   "cell_type": "markdown",
   "id": "0680b14f-dd4c-4865-b9ec-4351f0e729da",
   "metadata": {},
   "source": [
    "<a id='improvements'/>\n",
    "\n",
    "### Improvements\n",
    "[Back to TOC](#TOC)"
   ]
  },
  {
   "cell_type": "markdown",
   "id": "983d4f75-8800-4673-849b-305ed86303de",
   "metadata": {},
   "source": [
    "### Let's try to improve our prediction by considering term frequency using TF-IDF "
   ]
  },
  {
   "cell_type": "code",
   "execution_count": 289,
   "id": "c60ccf56-e382-42a2-bea1-64422435c470",
   "metadata": {
    "tags": []
   },
   "outputs": [
    {
     "data": {
      "text/plain": [
       "[('active', 150),\n",
       " ('activity', 151),\n",
       " ('acts', 152),\n",
       " ('actual', 153),\n",
       " ('actually', 154),\n",
       " ('add', 155),\n",
       " ('added', 156),\n",
       " ('adding', 157),\n",
       " ('address', 158),\n",
       " ('admits', 159)]"
      ]
     },
     "execution_count": 289,
     "metadata": {},
     "output_type": "execute_result"
    }
   ],
   "source": [
    "#Consider only words that occur in at least 3 tweets.\n",
    "vect = TfidfVectorizer(min_df=3).fit(X_train)\n",
    "\n",
    "\n",
    "X_train_vectorized = vect.transform(X_train)\n",
    "\n",
    "# let's look of some of the words gathered with this method\n",
    "sorted(vect.vocabulary_.items())[150:160]"
   ]
  },
  {
   "cell_type": "code",
   "execution_count": 290,
   "id": "30ba2282-88ea-47e2-b67a-47dc240c87a6",
   "metadata": {
    "tags": []
   },
   "outputs": [
    {
     "name": "stdout",
     "output_type": "stream",
     "text": [
      "The training data now contains 3781 different words (columns) across 6090 messages (rows).\n"
     ]
    }
   ],
   "source": [
    "print(\n",
    "    \"The training data now contains {} different words (columns) across {} messages (rows).\".format( \n",
    "                                                            len(vect.vocabulary_.items()),\n",
    "                                                            X_train.shape[0]\n",
    "                                                           )\n",
    "     )"
   ]
  },
  {
   "cell_type": "code",
   "execution_count": 291,
   "id": "d586651a-d3f1-4136-bd07-54e8ade35ee8",
   "metadata": {
    "tags": []
   },
   "outputs": [
    {
     "name": "stdout",
     "output_type": "stream",
     "text": [
      "Smallest tfidf:\n",
      "['vid' 'trubgme' 'ksawlyux02' 'sh' 'sm' 'time2015' 'utc2015' 'rwy' 'wnd'\n",
      " 'inst' 'taxiways' '2030' 'navbl' 'tmp' 'apch' 'oper' 'starring' 'curved'\n",
      " '300w' '53inch']\n",
      "\n",
      "Largest tfidf: \n",
      "['crushed' 'thunder' 'you' 'sinking' 'emergency' 'exploded' 'survive'\n",
      " 'wreck' 'what' 'obliterated' 'flames' 'flattened' 'thanks' 'no' 'blight'\n",
      " 'destroyed' 'murderer' 'mudslide' 'hurricane' 'trauma']\n"
     ]
    }
   ],
   "source": [
    "# list of words (features)\n",
    "feature_names = np.array(vect.get_feature_names_out())\n",
    "\n",
    "#list of corresponding tfidf values\n",
    "sorted_tfidf_index = X_train_vectorized.toarray().max(0).argsort()\n",
    "\n",
    "# print words with highest and lowest tfidf values\n",
    "print(\"Smallest tfidf:\\n{}\\n\".format(feature_names[sorted_tfidf_index[:20]]))\n",
    "print(\"Largest tfidf: \\n{}\".format(feature_names[sorted_tfidf_index[:-21:-1]]))"
   ]
  },
  {
   "cell_type": "code",
   "execution_count": 292,
   "id": "92ea0875-e75b-4f71-8342-2e67e041f458",
   "metadata": {
    "tags": []
   },
   "outputs": [
    {
     "name": "stdout",
     "output_type": "stream",
     "text": [
      "Accuracy = 0.79777\n",
      "AUC = 0.845\n"
     ]
    }
   ],
   "source": [
    "model = LogisticRegression(max_iter=777)\n",
    "model.fit(X_train_vectorized, y_train)\n",
    "\n",
    "# Predict the transformed validation texts\n",
    "predictions = model.predict(vect.transform(X_val))\n",
    "predict_probab = model.predict_proba(vect.transform(X_val))[:,1]\n",
    "\n",
    "print(\"Accuracy = {:.5f}\".format(accuracy_score(y_val, predictions)))\n",
    "print(\"AUC = {:.3f}\".format(roc_auc_score(y_val, predict_probab)))"
   ]
  },
  {
   "cell_type": "code",
   "execution_count": 293,
   "id": "e22db5a1-ef49-40d5-95ad-134665b724b2",
   "metadata": {
    "tags": []
   },
   "outputs": [
    {
     "data": {
      "text/plain": [
       "<sklearn.metrics._plot.confusion_matrix.ConfusionMatrixDisplay at 0x7f87a9351090>"
      ]
     },
     "execution_count": 293,
     "metadata": {},
     "output_type": "execute_result"
    },
    {
     "data": {
      "image/png": "[encoded data removed]",
      "text/plain": [
       "<Figure size 640x480 with 2 Axes>"
      ]
     },
     "metadata": {},
     "output_type": "display_data"
    }
   ],
   "source": [
    "confusion_matrix_model = ConfusionMatrixDisplay(confusion_matrix(y_val, predictions))\n",
    "confusion_matrix_model.plot()"
   ]
  },
  {
   "cell_type": "code",
   "execution_count": 294,
   "id": "9b5b42d0-30a7-4a2f-ab44-12e068245556",
   "metadata": {
    "tags": []
   },
   "outputs": [
    {
     "name": "stdout",
     "output_type": "stream",
     "text": [
      "Words with the smallest Coefficients (i.e. not indicative of a real disaster):\n",
      "['you' 'new' 'full' 'my' 'body' 'bags' 'nowplaying' 'ebay' 'me'\n",
      " 'flattened' 'love' 'blight' 'panic' 'upheaval' 'obliteration' 'demolish'\n",
      " 'or' 'song' 'crushed' 'day']\n",
      "\n",
      "Words with the largest Coefficients (i.e. very indicative of a real disaster): \n",
      "['hiroshima' 'in' 'fires' 'california' 'storm' 'train' 'wildfire' 'fire'\n",
      " 'killed' 'bombing' 'earthquake' 'suicide' 'disaster' 'typhoon' 'drought'\n",
      " 'murder' 'japan' 'derailment' 'forest' 'near']\n"
     ]
    }
   ],
   "source": [
    "# list of words (features)\n",
    "feature_names = np.array(vect.get_feature_names_out())\n",
    "\n",
    "#list of corresponding coefficients\n",
    "sorted_coef_index = model.coef_[0].argsort()\n",
    "\n",
    "print(\"Words with the smallest Coefficients (i.e. not indicative of a real disaster):\\n{}\\n\".format(feature_names[sorted_coef_index[:20]]))\n",
    "print(\"Words with the largest Coefficients (i.e. very indicative of a real disaster): \\n{}\".format(feature_names[sorted_coef_index[:-21:-1]]))"
   ]
  },
  {
   "cell_type": "markdown",
   "id": "14658900-3888-4a89-9012-82b0169e6d07",
   "metadata": {},
   "source": [
    "### Using TF-IDF, we have increased our accuracy score slightly."
   ]
  },
  {
   "cell_type": "markdown",
   "id": "850641f2-2910-4c52-b2a6-f48d8cde70af",
   "metadata": {},
   "source": [
    "### Let's make the texts more comparable by using stemming."
   ]
  },
  {
   "cell_type": "code",
   "execution_count": 295,
   "id": "854d6a55-0554-47ff-aa6d-60f72697f6be",
   "metadata": {
    "tags": []
   },
   "outputs": [],
   "source": [
    "stemmer = nltk.PorterStemmer()\n",
    "cv_analyzer = TfidfVectorizer(min_df=2).build_analyzer()\n",
    "\n",
    "def stemmed_words(doc):\n",
    "    return (stemmer.stem(w) for w in cv_analyzer(doc))\n",
    "\n",
    "stem_vectorizer = TfidfVectorizer(min_df=2, analyzer = stemmed_words)\n",
    "X_train_stem_vectorized = stem_vectorizer.fit_transform(X_train)"
   ]
  },
  {
   "cell_type": "code",
   "execution_count": 296,
   "id": "4de055d9-123f-487b-a045-1d3475d67beb",
   "metadata": {
    "tags": []
   },
   "outputs": [
    {
     "name": "stdout",
     "output_type": "stream",
     "text": [
      "Accuracy = 0.79842\n",
      "AUC = 0.853\n"
     ]
    }
   ],
   "source": [
    "model = LogisticRegression(max_iter=777)\n",
    "model.fit(X_train_stem_vectorized, y_train)\n",
    "\n",
    "# Predict the transformed validation texts\n",
    "predictions = model.predict(stem_vectorizer.transform(X_val))\n",
    "predict_probab = model.predict_proba(stem_vectorizer.transform(X_val))[:,1]\n",
    "\n",
    "print(\"Accuracy = {:.5f}\".format(accuracy_score(y_val, predictions)))\n",
    "print(\"AUC = {:.3f}\".format(roc_auc_score(y_val, predict_probab)))"
   ]
  },
  {
   "cell_type": "markdown",
   "id": "75fdcf64-2ab4-478f-9978-06d9cbe4631c",
   "metadata": {
    "tags": []
   },
   "source": [
    "### Stemming reduces the accuracy again. What about Lemmatization?"
   ]
  },
  {
   "cell_type": "code",
   "execution_count": 297,
   "id": "518686d6-453d-4b85-808f-363d3e25378e",
   "metadata": {
    "tags": []
   },
   "outputs": [],
   "source": [
    "WNlemma = nltk.WordNetLemmatizer()\n",
    "cv_analyzer = TfidfVectorizer(min_df=4).build_analyzer()\n",
    "\n",
    "\n",
    "def lemmatize_word(doc):\n",
    "    return (WNlemma.lemmatize(t) for t in cv_analyzer(doc))\n",
    "\n",
    "lemm_vectorizer = TfidfVectorizer(min_df=4, analyzer = lemmatize_word)\n",
    "\n",
    "\n",
    "X_train_lemm_vectorized = lemm_vectorizer.fit_transform(X_train)"
   ]
  },
  {
   "cell_type": "code",
   "execution_count": 298,
   "id": "aad90391-dbb5-4992-b0d0-a9212dbd1fd4",
   "metadata": {
    "tags": []
   },
   "outputs": [
    {
     "name": "stdout",
     "output_type": "stream",
     "text": [
      "Accuracy = 0.78989\n",
      "AUC = 0.847\n"
     ]
    }
   ],
   "source": [
    "model = LogisticRegression(max_iter=777)\n",
    "model.fit(X_train_lemm_vectorized, y_train)\n",
    "\n",
    "# Predict the transformed validation texts\n",
    "predictions = model.predict(lemm_vectorizer.transform(X_val))\n",
    "predict_probab = model.predict_proba(lemm_vectorizer.transform(X_val))[:,1]\n",
    "\n",
    "print(\"Accuracy = {:.5f}\".format(accuracy_score(y_val, predictions)))\n",
    "print(\"AUC = {:.3f}\".format(roc_auc_score(y_val, predict_probab)))"
   ]
  },
  {
   "cell_type": "code",
   "execution_count": 299,
   "id": "84b763bb-b006-4784-b450-5f135cf0a840",
   "metadata": {
    "tags": []
   },
   "outputs": [
    {
     "data": {
      "text/plain": [
       "<sklearn.metrics._plot.confusion_matrix.ConfusionMatrixDisplay at 0x7f8744ac6850>"
      ]
     },
     "execution_count": 299,
     "metadata": {},
     "output_type": "execute_result"
    },
    {
     "data": {
      "image/png": "[encoded data removed]",
      "text/plain": [
       "<Figure size 640x480 with 2 Axes>"
      ]
     },
     "metadata": {},
     "output_type": "display_data"
    }
   ],
   "source": [
    "confusion_matrix_model = ConfusionMatrixDisplay(confusion_matrix(y_val, predictions))\n",
    "confusion_matrix_model.plot()"
   ]
  },
  {
   "cell_type": "markdown",
   "id": "62ba160c-c6eb-4b86-90b3-8c2a6bc2d076",
   "metadata": {},
   "source": [
    "### Nope. Lemmatization slightly reduces the accuracy score compared to the unchanged TF-IDF vectorized data."
   ]
  },
  {
   "cell_type": "markdown",
   "id": "55f83608-1d8b-40c9-ac23-8af8585f7f32",
   "metadata": {
    "tags": []
   },
   "source": [
    "### Next, let's test a neural network."
   ]
  },
  {
   "cell_type": "markdown",
   "id": "241ff71e-e4df-4e4d-91a7-48f4d88a191e",
   "metadata": {},
   "source": [
    "<a id='neural_network'/>\n",
    "\n",
    "### Neural network\n",
    "[Back to TOC](#TOC)"
   ]
  },
  {
   "cell_type": "code",
   "execution_count": 412,
   "id": "4593aa93-a6f4-4c99-a616-e050f686b033",
   "metadata": {
    "tags": []
   },
   "outputs": [
    {
     "name": "stdout",
     "output_type": "stream",
     "text": [
      "train size: 4872\n",
      "test size: 1523\n",
      "val size: 1218\n"
     ]
    }
   ],
   "source": [
    "# Splitting original training data in train, validation and test set\n",
    "X_train, X_test, y_train, y_test = train_test_split(df.text, df.target, test_size=0.2, stratify=df.target)\n",
    "\n",
    "X_train, X_val, y_train, y_val   = train_test_split(X_train, y_train, test_size=0.2, stratify=y_train)\n",
    "\n",
    "print('train size:', len(y_train))\n",
    "\n",
    "print('test size:', len(y_test))\n",
    "\n",
    "print('val size:', len(y_val))\n",
    "\n",
    "\n",
    "# convert datasets for use in Keras\n",
    "\n",
    "\n",
    "dataset_train = tf.data.Dataset.from_tensor_slices((X_train, y_train))\n",
    "dataset_val = tf.data.Dataset.from_tensor_slices((X_val, y_val))\n",
    "dataset_test = tf.data.Dataset.from_tensor_slices((X_test, y_test))\n",
    "\n",
    "dataframe_train=pd.concat([X_train,y_train], axis=1)\n",
    "dataframe_test=pd.concat([X_test,y_test], axis=1)\n",
    "\n",
    "# create batches of the datasets for training, validation and testing\n",
    "\n",
    "batch_size=500\n",
    "dataset_train_batch = dataset_train.batch(batch_size=batch_size)\n",
    "dataset_val_batch = dataset_val.batch(batch_size=batch_size)\n",
    "dataset_test_batch = dataset_test.batch(batch_size=batch_size)"
   ]
  },
  {
   "cell_type": "markdown",
   "id": "d297aa4d-0bd6-4660-8a47-fa175fb3c82b",
   "metadata": {
    "tags": []
   },
   "source": [
    "Define Vecorizer"
   ]
  },
  {
   "cell_type": "code",
   "execution_count": 410,
   "id": "46eb8373-b42a-443c-ada6-b659bc7a1b5c",
   "metadata": {
    "tags": []
   },
   "outputs": [],
   "source": [
    "def custom_standardization(input_data):\n",
    "    \"\"\"Text preprocessing: lowercases, no punctuation\n",
    "\n",
    "    Args:\n",
    "        input_data (tf.dataframe): [text, formated as tf.string]\n",
    "\n",
    "    Returns:\n",
    "        [tf.dataframe]: [preprocessed text]\n",
    "    \"\"\"\n",
    "    text_lower = tf.strings.lower(input_data)\n",
    "    return tf.strings.regex_replace(text_lower, '[%s]' % re.escape(string.punctuation), '')\n",
    "\n",
    "# get the number of words in each message\n",
    "sequence_len = int(dataframe_train.text.apply(lambda x: len(x.split())).max()) \n",
    "\n",
    "# define the text vectorization layer \n",
    "vectorize_layer = TextVectorization(\n",
    "    standardize=custom_standardization,\n",
    "    max_tokens=full_vocab_len,\n",
    "    output_mode='int',\n",
    "    output_sequence_length=sequence_len)\n",
    "\n",
    "# Make a text-only dataset (without labels)\n",
    "train_text = dataset_train.map(lambda x, y: x)\n",
    "vectorize_layer.adapt(train_text)\n"
   ]
  },
  {
   "cell_type": "code",
   "execution_count": 411,
   "id": "85186155-02a7-454f-8a63-d741a09265a7",
   "metadata": {
    "tags": []
   },
   "outputs": [
    {
     "name": "stdout",
     "output_type": "stream",
     "text": [
      "1138 --->  phoenix\n",
      " 327 --->  charged\n",
      "Vocabulary size: 16562\n"
     ]
    }
   ],
   "source": [
    "print(\"1138 ---> \",vectorize_layer.get_vocabulary()[1138])\n",
    "print(\" 327 ---> \",vectorize_layer.get_vocabulary()[327])\n",
    "print('Vocabulary size: {}'.format(len(vectorize_layer.get_vocabulary())))"
   ]
  },
  {
   "cell_type": "code",
   "execution_count": null,
   "id": "5dbd34d2-fc0b-4f3d-8277-c677c066c1e3",
   "metadata": {
    "tags": []
   },
   "outputs": [],
   "source": []
  },
  {
   "cell_type": "code",
   "execution_count": null,
   "id": "0706e1c8-00b3-4ed2-a00a-a96adb719043",
   "metadata": {
    "tags": []
   },
   "outputs": [],
   "source": []
  },
  {
   "cell_type": "markdown",
   "id": "b4bdf2d5-02ab-4aa4-9c93-17ddaaad016f",
   "metadata": {},
   "source": [
    "### Define the model. Note that it uses word embeddings."
   ]
  },
  {
   "cell_type": "code",
   "execution_count": 420,
   "id": "d5c3270a-d278-4df5-8f4c-3966267cde8a",
   "metadata": {
    "tags": []
   },
   "outputs": [],
   "source": [
    "tf.keras.backend.clear_session()\n",
    "\n",
    "embedding_dim=3\n",
    "model = Sequential([\n",
    "  vectorize_layer,\n",
    "  Embedding(full_vocab_len, embedding_dim, name=\"embedding\"),\n",
    "  GlobalAveragePooling1D(),\n",
    "  Dropout(0.5),\n",
    "  Dense(500, activation='relu'),\n",
    "  Dropout(0.25),\n",
    "#  Dense(16, activation='elu'),\n",
    "  Dense(1, activation='sigmoid')\n",
    "])\n",
    "\n",
    "model.compile(optimizer='adam',\n",
    "              loss=tf.keras.losses.BinaryCrossentropy(),\n",
    "              metrics=['AUC'])\n"
   ]
  },
  {
   "cell_type": "code",
   "execution_count": 421,
   "id": "492c52bc-b6ad-4890-9142-15f5f0362c9a",
   "metadata": {
    "tags": []
   },
   "outputs": [
    {
     "name": "stdout",
     "output_type": "stream",
     "text": [
      "Epoch 1/100\n",
      "10/10 [==============================] - 2s 45ms/step - loss: 0.6893 - auc: 0.5056 - val_loss: 0.6852 - val_auc: 0.5511\n",
      "Epoch 2/100\n",
      "10/10 [==============================] - 0s 19ms/step - loss: 0.6835 - auc: 0.5143 - val_loss: 0.6824 - val_auc: 0.5602\n",
      "Epoch 3/100\n",
      "10/10 [==============================] - 0s 19ms/step - loss: 0.6821 - auc: 0.5526 - val_loss: 0.6818 - val_auc: 0.6146\n",
      "Epoch 4/100\n",
      "10/10 [==============================] - 0s 20ms/step - loss: 0.6802 - auc: 0.6145 - val_loss: 0.6803 - val_auc: 0.6726\n",
      "Epoch 5/100\n",
      "10/10 [==============================] - 0s 19ms/step - loss: 0.6781 - auc: 0.6459 - val_loss: 0.6782 - val_auc: 0.7188\n",
      "Epoch 6/100\n",
      "10/10 [==============================] - 0s 20ms/step - loss: 0.6750 - auc: 0.6816 - val_loss: 0.6750 - val_auc: 0.7510\n",
      "Epoch 7/100\n",
      "10/10 [==============================] - 0s 20ms/step - loss: 0.6696 - auc: 0.7162 - val_loss: 0.6702 - val_auc: 0.7852\n",
      "Epoch 8/100\n",
      "10/10 [==============================] - 0s 27ms/step - loss: 0.6623 - auc: 0.7431 - val_loss: 0.6630 - val_auc: 0.8087\n",
      "Epoch 9/100\n",
      "10/10 [==============================] - 0s 24ms/step - loss: 0.6519 - auc: 0.7738 - val_loss: 0.6525 - val_auc: 0.8241\n",
      "Epoch 10/100\n",
      "10/10 [==============================] - 0s 23ms/step - loss: 0.6393 - auc: 0.7976 - val_loss: 0.6393 - val_auc: 0.8366\n",
      "Epoch 11/100\n",
      "10/10 [==============================] - 0s 22ms/step - loss: 0.6191 - auc: 0.8292 - val_loss: 0.6227 - val_auc: 0.8414\n",
      "Epoch 12/100\n",
      "10/10 [==============================] - 0s 21ms/step - loss: 0.5956 - auc: 0.8547 - val_loss: 0.6029 - val_auc: 0.8451\n",
      "Epoch 13/100\n",
      "10/10 [==============================] - 0s 25ms/step - loss: 0.5711 - auc: 0.8643 - val_loss: 0.5804 - val_auc: 0.8472\n",
      "Epoch 14/100\n",
      "10/10 [==============================] - 0s 26ms/step - loss: 0.5424 - auc: 0.8749 - val_loss: 0.5567 - val_auc: 0.8497\n",
      "Epoch 15/100\n",
      "10/10 [==============================] - 0s 20ms/step - loss: 0.5093 - auc: 0.8874 - val_loss: 0.5335 - val_auc: 0.8516\n",
      "Epoch 16/100\n",
      "10/10 [==============================] - 0s 20ms/step - loss: 0.4839 - auc: 0.8941 - val_loss: 0.5127 - val_auc: 0.8534\n",
      "Epoch 17/100\n",
      "10/10 [==============================] - 0s 26ms/step - loss: 0.4589 - auc: 0.8997 - val_loss: 0.4956 - val_auc: 0.8552\n",
      "Epoch 18/100\n",
      "10/10 [==============================] - 0s 22ms/step - loss: 0.4221 - auc: 0.9168 - val_loss: 0.4817 - val_auc: 0.8568\n",
      "Epoch 19/100\n",
      "10/10 [==============================] - 0s 24ms/step - loss: 0.4029 - auc: 0.9202 - val_loss: 0.4707 - val_auc: 0.8581\n",
      "Epoch 20/100\n",
      "10/10 [==============================] - 0s 23ms/step - loss: 0.3841 - auc: 0.9248 - val_loss: 0.4627 - val_auc: 0.8596\n",
      "Epoch 21/100\n",
      "10/10 [==============================] - 0s 20ms/step - loss: 0.3701 - auc: 0.9304 - val_loss: 0.4570 - val_auc: 0.8603\n",
      "Epoch 22/100\n",
      "10/10 [==============================] - 0s 21ms/step - loss: 0.3503 - auc: 0.9351 - val_loss: 0.4533 - val_auc: 0.8605\n",
      "Epoch 23/100\n",
      "10/10 [==============================] - 0s 16ms/step - loss: 0.3314 - auc: 0.9416 - val_loss: 0.4521 - val_auc: 0.8598\n",
      "Epoch 24/100\n",
      "10/10 [==============================] - 0s 15ms/step - loss: 0.3179 - auc: 0.9473 - val_loss: 0.4519 - val_auc: 0.8594\n",
      "Epoch 25/100\n",
      "10/10 [==============================] - 0s 16ms/step - loss: 0.3120 - auc: 0.9487 - val_loss: 0.4530 - val_auc: 0.8585\n",
      "Epoch 26/100\n",
      "10/10 [==============================] - 0s 15ms/step - loss: 0.2935 - auc: 0.9550 - val_loss: 0.4552 - val_auc: 0.8572\n",
      "Epoch 27/100\n",
      "10/10 [==============================] - 0s 17ms/step - loss: 0.2800 - auc: 0.9587 - val_loss: 0.4591 - val_auc: 0.8556\n",
      "Epoch 28/100\n",
      "10/10 [==============================] - 0s 16ms/step - loss: 0.2736 - auc: 0.9597 - val_loss: 0.4615 - val_auc: 0.8549\n",
      "Epoch 29/100\n",
      "10/10 [==============================] - 0s 15ms/step - loss: 0.2677 - auc: 0.9614 - val_loss: 0.4656 - val_auc: 0.8540\n",
      "Epoch 30/100\n",
      "10/10 [==============================] - 0s 15ms/step - loss: 0.2460 - auc: 0.9682 - val_loss: 0.4700 - val_auc: 0.8531\n",
      "Epoch 31/100\n",
      "10/10 [==============================] - 0s 21ms/step - loss: 0.2458 - auc: 0.9672 - val_loss: 0.4754 - val_auc: 0.8521\n",
      "Epoch 32/100\n",
      "10/10 [==============================] - 0s 17ms/step - loss: 0.2404 - auc: 0.9696 - val_loss: 0.4826 - val_auc: 0.8507\n",
      "Epoch 33/100\n",
      "10/10 [==============================] - 0s 18ms/step - loss: 0.2270 - auc: 0.9723 - val_loss: 0.4888 - val_auc: 0.8494\n",
      "Epoch 34/100\n",
      "10/10 [==============================] - 0s 21ms/step - loss: 0.2270 - auc: 0.9714 - val_loss: 0.4969 - val_auc: 0.8483\n",
      "Epoch 35/100\n",
      "10/10 [==============================] - 0s 19ms/step - loss: 0.2178 - auc: 0.9741 - val_loss: 0.5041 - val_auc: 0.8470\n",
      "Epoch 36/100\n",
      "10/10 [==============================] - 0s 23ms/step - loss: 0.2137 - auc: 0.9748 - val_loss: 0.5100 - val_auc: 0.8460\n",
      "Epoch 37/100\n",
      "10/10 [==============================] - 0s 18ms/step - loss: 0.2057 - auc: 0.9770 - val_loss: 0.5177 - val_auc: 0.8452\n",
      "Epoch 38/100\n",
      "10/10 [==============================] - 0s 17ms/step - loss: 0.2018 - auc: 0.9774 - val_loss: 0.5266 - val_auc: 0.8441\n",
      "Epoch 39/100\n",
      "10/10 [==============================] - 0s 17ms/step - loss: 0.1906 - auc: 0.9802 - val_loss: 0.5332 - val_auc: 0.8432\n",
      "Epoch 40/100\n",
      "10/10 [==============================] - 0s 17ms/step - loss: 0.1895 - auc: 0.9802 - val_loss: 0.5405 - val_auc: 0.8419\n",
      "Epoch 41/100\n",
      "10/10 [==============================] - 0s 17ms/step - loss: 0.1876 - auc: 0.9804 - val_loss: 0.5494 - val_auc: 0.8412\n",
      "Epoch 42/100\n",
      "10/10 [==============================] - 0s 18ms/step - loss: 0.1778 - auc: 0.9822 - val_loss: 0.5581 - val_auc: 0.8400\n"
     ]
    },
    {
     "data": {
      "text/plain": [
       "<keras.src.callbacks.History at 0x7f873e129590>"
      ]
     },
     "execution_count": 421,
     "metadata": {},
     "output_type": "execute_result"
    }
   ],
   "source": [
    "# training the model\n",
    "\n",
    "from keras.callbacks import EarlyStopping, ModelCheckpoint, ReduceLROnPlateau\n",
    "\n",
    "\n",
    "early_stopping_monitor = EarlyStopping(\n",
    "    monitor='val_auc',\n",
    "    min_delta=0,\n",
    "    patience=20,\n",
    "    verbose=0,\n",
    "    mode='auto',\n",
    "    baseline=None,\n",
    "    restore_best_weights=True\n",
    ")\n",
    "\n",
    "\n",
    "\n",
    "model.fit(\n",
    "    dataset_train_batch,\n",
    "    validation_data=dataset_val_batch,\n",
    "    epochs=100,\n",
    "    callbacks=[early_stopping_monitor]\n",
    "    )\n"
   ]
  },
  {
   "cell_type": "code",
   "execution_count": null,
   "id": "15f19c96-b40a-4a55-b5a4-e44d18c0c82e",
   "metadata": {
    "tags": []
   },
   "outputs": [],
   "source": []
  },
  {
   "cell_type": "code",
   "execution_count": 424,
   "id": "fc51a7f4-898c-4c32-b820-4424b1970fa1",
   "metadata": {
    "tags": []
   },
   "outputs": [
    {
     "name": "stdout",
     "output_type": "stream",
     "text": [
      "3/3 - 0s - loss: 0.4533 - auc: 0.8605 - 32ms/epoch - 11ms/step\n"
     ]
    }
   ],
   "source": [
    "# calculating the loss and accuracy on the test set.\n",
    "loss, accuracy = model.evaluate(dataset_val_batch, verbose=2)"
   ]
  },
  {
   "cell_type": "code",
   "execution_count": 426,
   "id": "ff9d9ee2-e486-4d46-b374-f6e947bbc5ac",
   "metadata": {
    "tags": []
   },
   "outputs": [
    {
     "data": {
      "text/plain": [
       "<sklearn.metrics._plot.confusion_matrix.ConfusionMatrixDisplay at 0x7f873d76f150>"
      ]
     },
     "execution_count": 426,
     "metadata": {},
     "output_type": "execute_result"
    },
    {
     "data": {
      "image/png": "[encoded data removed]",
      "text/plain": [
       "<Figure size 640x480 with 2 Axes>"
      ]
     },
     "metadata": {},
     "output_type": "display_data"
    }
   ],
   "source": [
    "y_test_pred_classes = (\n",
    "    pd.DataFrame(model.predict(tf.data.Dataset.from_tensor_slices((X_test)).batch(batch_size=batch_size), verbose=0)\n",
    "    .flatten())\n",
    "    .applymap(lambda x: 1 if x>0.5 else 0)\n",
    "    .rename(columns={0:'pred'})\n",
    ")\n",
    "confusion_matrix_model = ConfusionMatrixDisplay(confusion_matrix(np.array(dataframe_test.target), np.array(y_test_pred_classes.pred)))\n",
    "confusion_matrix_model.plot()"
   ]
  },
  {
   "cell_type": "markdown",
   "id": "ed684339-b5c5-4eba-8b5f-e8aed78f02ab",
   "metadata": {
    "tags": []
   },
   "source": [
    "### This model is slightly better than the TF-IDF-vectorized Logistic Regression model from before (6 more true negatives and 1 more true positive)."
   ]
  },
  {
   "cell_type": "code",
   "execution_count": null,
   "id": "3edee26b-6af8-43fa-a1cb-3de5e77b72f1",
   "metadata": {},
   "outputs": [],
   "source": []
  }
 ],
 "metadata": {
  "kernelspec": {
   "display_name": "Python 3 (ipykernel)",
   "language": "python",
   "name": "python3"
  },
  "language_info": {
   "codemirror_mode": {
    "name": "ipython",
    "version": 3
   },
   "file_extension": ".py",
   "mimetype": "text/x-python",
   "name": "python",
   "nbconvert_exporter": "python",
   "pygments_lexer": "ipython3",
   "version": "3.11.3"
  }
 },
 "nbformat": 4,
 "nbformat_minor": 5
}
